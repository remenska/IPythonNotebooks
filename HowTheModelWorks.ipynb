{
 "cells": [
  {
   "cell_type": "code",
   "execution_count": 545,
   "metadata": {
    "collapsed": false
   },
   "outputs": [],
   "source": [
    "import types\n",
    "import inspect\n",
    "import traceback\n",
    "from rootpy.tree import IntCol, FloatCol, BoolCol\n",
    "import numpy as np\n",
    "from collections import OrderedDict\n",
    "from rootpy.tree import TreeBuffer\n",
    "from pax.data_model import StrictModel,Model,ListField\n",
    "from rootpy.tree import TreeModel\n",
    "from pax.utils import Memoize\n",
    "import json\n",
    "import bson\n",
    "import rootpy.stl as stl\n",
    "import cppyy\n",
    "casting_allowed_for = {\n",
    "    int:    ['int16', 'int32', 'int64', 'Int64', 'Int32'],\n",
    "    float:  ['int', 'float32', 'float64', 'int16', 'int32', 'int64', 'Int64', 'Int32'],\n",
    "    bool:   ['int16', 'int32', 'int64', 'Int64', 'Int32'],\n",
    "    stl.string:    ['str'],\n",
    "    ROOT.vector(int): ['list'],\n",
    "    ROOT.vector(float): ['list'],\n",
    "    ROOT.vector(bool): ['list'],\n",
    "    ROOT.vector(stl.string): ['list']\n",
    "}\n",
    "\n",
    "    \n",
    "class PaxTreeBuffer(TreeBuffer):\n",
    "    def __post_init__(self, kwargs_dict=None, quick_init=False, **kwargs):\n",
    "        if quick_init:\n",
    "            self.__dict__.update(kwargs_dict)\n",
    "            self.__dict__.update(kwargs)\n",
    "            return\n",
    "\n",
    "        # Initialize the collection fields to empty lists\n",
    "        # super() is needed to bypass type checking in StrictModel\n",
    "        list_field_info = self.get_list_field_info()\n",
    "        for field_name in list_field_info:\n",
    "            super(TreeBuffer).__setattr__(field_name, [])\n",
    "\n",
    "        # Initialize all attributes from kwargs and kwargs_dict\n",
    "        kwargs.update(kwargs_dict or {})\n",
    "        for k, v in kwargs.items():\n",
    "            if k in list_field_info:\n",
    "                # User gave a value to initialize a list field. Hopefully an iterable!\n",
    "                # Let's check if the types are correct\n",
    "                desired_type = list_field_info[k]\n",
    "                temp_list = []\n",
    "                for el in v:\n",
    "                    if isinstance(el, desired_type):\n",
    "                        # Good, pass through unmolested\n",
    "                        temp_list.append(el)\n",
    "                    elif isinstance(el, dict):\n",
    "                        # Dicts are fine too, we can use them to init the desired type\n",
    "                        temp_list.append(desired_type(**el))\n",
    "                    else:\n",
    "                        raise ValueError(\"Attempt to initialize list field %s with type %s, \"\n",
    "                                         \"but you promised type %s in class declaration.\" % (k,\n",
    "                                                                                             type(el),\n",
    "                                                                                             desired_type))\n",
    "                # This has to be a list of dictionaries\n",
    "                # suitable to be passed to __init__ of the list field's element type\n",
    "                setattr(self, k, temp_list)\n",
    "            else:\n",
    "                default_value = getattr(self, k)\n",
    "                if type(default_value) == np.ndarray:\n",
    "                    if isinstance(v, np.ndarray):\n",
    "                        pass\n",
    "                    elif isinstance(v, bytes):\n",
    "                        # Numpy arrays can be also initialized from a 'string' of bytes...\n",
    "                        v = np.fromstring(v, dtype=default_value.dtype)\n",
    "                    elif hasattr(v, '__iter__'):\n",
    "                        # ... or an iterable\n",
    "                        v = np.array(v, dtype=default_value.dtype)\n",
    "                    else:\n",
    "                        raise ValueError(\"Can't initialize field %s: \"\n",
    "                                         \"don't know how to make a numpy array from a %s\" % (k, type(v)))\n",
    "                elif isinstance(default_value, Model):\n",
    "                    v = default_value.__class__(**v)\n",
    "                elif isinstance(v, stl.string): \n",
    "                    v = str(v)                    \n",
    "                elif isinstance(v, stl.vector(stl.string)):\n",
    "                    if not v.empty():\n",
    "                        v = [str(el) for el in v]\n",
    "                    else:\n",
    "                        v = []  \n",
    "                elif isinstance(v, (stl.vector(int),\n",
    "                                   stl.vector(float),\n",
    "                                   stl.vector(bool)\n",
    "                               )):\n",
    "                    if not v.empty():\n",
    "                        v = list(v)\n",
    "                    else:\n",
    "                        v = []\n",
    "\n",
    "                setattr(self, k, v)\n",
    "\n",
    "    def to_json(self, fields_to_ignore=None):\n",
    "        return json.dumps(self.to_dict(convert_numpy_arrays_to='list',\n",
    "                                       fields_to_ignore=fields_to_ignore)\n",
    "#                           , cls=ROOTJSONEncoder\n",
    "                         )\n",
    "\n",
    "    def to_bson(self, fields_to_ignore=None):\n",
    "        return bson.BSON.encode(self.to_dict(convert_numpy_arrays_to='bytes',\n",
    "                                             fields_to_ignore=fields_to_ignore))\n",
    "\n",
    "    def __setattr__(self, key, value): \n",
    "        # Get the old attr.\n",
    "        # #Will raise AttributeError if doesn't exists, which is what we want\n",
    "        if(key.startswith('_')): # TreeBuffer attributes for the ROOT tree\n",
    "            super().__setattr__(key, value)\n",
    "            \n",
    "        # model fields    \n",
    "        old_val = getattr(self, key)\n",
    "        old_type = type(old_val)\n",
    "        new_type = type(value)\n",
    "        # Check for attempted type change\n",
    "        if old_type != new_type:\n",
    "\n",
    "            # Are we allowed to cast the type?\n",
    "            if old_type in casting_allowed_for \\\n",
    "                    and value.__class__.__name__ in casting_allowed_for[old_type]:\n",
    "                if(old_type in [stl.vector(int), stl.vector(bool), stl.vector(float), stl.vector(stl.string)]):\n",
    "                    prev_value = value\n",
    "                    value=old_type()\n",
    "                    for el in prev_value: # TODO: more efficient way to populate the stl.vector\n",
    "                          value.push_back(str(el) if(old_type==stl.vector(stl.string)) else el)\n",
    "                else:    \n",
    "                    value = old_type(value)\n",
    "            else:\n",
    "                raise TypeError('Attribute %s of class %s should be a %s, not a %s. '\n",
    "                                % (key,\n",
    "                                   self.__class__.__name__,\n",
    "                                   old_val.__class__.__name__,\n",
    "                                   value.__class__.__name__))\n",
    "\n",
    "        # Check for attempted dtype change\n",
    "        if isinstance(old_val, np.ndarray):\n",
    "            if old_val.dtype != value.dtype:\n",
    "                raise TypeError('Attribute %s of class %s should have numpy dtype %s, not %s' % (\n",
    "                    key, self.__class__.__name__, old_val.dtype, value.dtype))\n",
    "                \n",
    "        super().__setattr__(key, value)\n",
    "    \n",
    "                \n",
    "    @classmethod        # Use only in initialization (or if attributes are fixed, as for StrictModel)\n",
    "    @Memoize            # Caching decorator, improves performance if a model is initialized often\n",
    "    def get_list_field_info(cls):\n",
    "        \"\"\"Return dict with fielname => type of elements in collection fields in this class\n",
    "        \"\"\"\n",
    "        list_field_info = {}\n",
    "        for k, v in cls.__dict__.items():\n",
    "            if isinstance(v, ListField):\n",
    "                list_field_info[k] = v.element_type\n",
    "        return list_field_info\n",
    "    \n",
    "    def __str__(self): #TODO change\n",
    "        return str(self.__dict__['_OrderedDict__map'])\n",
    "    \n",
    "    def get_fields_data(self):\n",
    "        \"\"\"Iterator over (key, value) tuples of all user-specified fields\n",
    "        Returns keys in lexical order\n",
    "        \"\"\"\n",
    "        # TODO: increase performance by pre-sorting keys?\n",
    "        # self.__dict__.items() does not return default values set in class declaration\n",
    "        # Hence we need something more complicated\n",
    "        class_dict = self.__dict__['_OrderedDict__map']\n",
    "        self_dict = self.__dict__\n",
    "        \n",
    "        for field_name in sorted(class_dict.keys()):\n",
    "            if field_name in self_dict:\n",
    "                # The instance has a value for this field: return it\n",
    "                yield (field_name, self_dict[field_name])\n",
    "            else:\n",
    "                # ... it doesnt. Should we return its value?\n",
    "                if field_name.startswith('_'):\n",
    "                    continue    # No, is internal\n",
    "                value_in_class = self.__getattr__(field_name) #TODO: or __getitem (returns wrapper object)\n",
    "                if callable(value_in_class):\n",
    "                    continue    # No, is a method\n",
    "                if isinstance(value_in_class, (property, classmethod)):\n",
    "                    continue    # No, is a property or classmethod\n",
    "                # Yes, yield the class-level value\n",
    "                yield (field_name, value_in_class)\n",
    "    \n",
    "    def to_dict(self, convert_numpy_arrays_to=None, fields_to_ignore=None):\n",
    "        result = {}\n",
    "        if fields_to_ignore is None:\n",
    "            fields_to_ignore = tuple()\n",
    "        for k, v in self.get_fields_data():\n",
    "            if k in fields_to_ignore:\n",
    "                continue\n",
    "            if isinstance(v, Model):\n",
    "                result[k] = v.to_dict(convert_numpy_arrays_to=convert_numpy_arrays_to,\n",
    "                                      fields_to_ignore=fields_to_ignore)\n",
    "            elif isinstance(v, list):\n",
    "                result[k] = [el.to_dict(convert_numpy_arrays_to=convert_numpy_arrays_to,\n",
    "                                        fields_to_ignore=fields_to_ignore) for el in v]\n",
    "            # dealing with ROOT stl.string fields\n",
    "            elif isinstance(v, stl.string):\n",
    "                result[k] = str(v)\n",
    "            # dealing with ROOT.vectors\n",
    "            elif isinstance(v, (stl.vector(int),\n",
    "                               stl.vector(float),\n",
    "                               stl.vector(bool)\n",
    "                               )):\n",
    "                if not v.empty():\n",
    "                    result[k] = list(v)\n",
    "                else:\n",
    "                    result[k] = []\n",
    "            elif isinstance(v, stl.vector(stl.string)):\n",
    "                if not v.empty():\n",
    "                    result[k] = [str(el) for el in v]\n",
    "                else:\n",
    "                    result[k] = []\n",
    "            elif isinstance(v, np.ndarray) and convert_numpy_arrays_to is not None:\n",
    "                if convert_numpy_arrays_to == 'list':\n",
    "                    result[k] = v.tolist()\n",
    "                elif convert_numpy_arrays_to == 'bytes':\n",
    "                    result[k] = v.tostring()\n",
    "                else:\n",
    "                    raise ValueError('convert_numpy_arrays_to must be \"list\" or \"bytes\"')\n",
    "            else:\n",
    "                result[k] = v\n",
    "        return result            \n",
    "\n",
    "    \n",
    "class ROOTModel(StrictModel):\n",
    "    def __new__(cls, kwargs_dict=None, quick_init=False, **kwargs):\n",
    "        treebuffer = PaxTreeBuffer()\n",
    "        for name, attr in cls.get_attrs():\n",
    "            treebuffer[name] = attr()\n",
    "\n",
    "        treebuffer.__post_init__(kwargs_dict, quick_init, **kwargs) # We need TreeBuffer to have to_dict, to_json...   \n",
    "        return treebuffer\n",
    "        \n",
    "EventModel = type(\"EventModel\", (ROOTModel, TreeModel,), {'__new__':ROOTModel.__new__})\n",
    "    \n",
    "class Event(EventModel):\n",
    "    int_attribute = IntCol(5)\n",
    "    float_attribute = FloatCol(0.0)\n",
    "    boolean_attribute = BoolCol(False)\n",
    "    string_attribute = stl.string\n",
    "    vector_attribute = stl.vector(int)\n",
    "    vector_strings = stl.vector(stl.string)"
   ]
  },
  {
   "cell_type": "code",
   "execution_count": 546,
   "metadata": {
    "collapsed": false
   },
   "outputs": [],
   "source": [
    "# you can use it the \"pax way\"\n",
    "event = Event( kwargs_dict={'int_attribute':222,'float_attribute':12.34,'string_attribute':'one_detector','vector_attribute':[1,2,3],'vector_strings':['one','two']}, quick_init=False) "
   ]
  },
  {
   "cell_type": "code",
   "execution_count": 547,
   "metadata": {
    "collapsed": true
   },
   "outputs": [],
   "source": [
    "# or just populate some fields, and leave defaults elsewhere\n",
    "event1 = Event(kwargs_dict={'float_attribute':12.34,'vector_attribute':[1,2,3]}, quick_init=False)"
   ]
  },
  {
   "cell_type": "code",
   "execution_count": 548,
   "metadata": {
    "collapsed": true
   },
   "outputs": [],
   "source": [
    "# or don't populate\n",
    "event2 = Event()"
   ]
  },
  {
   "cell_type": "code",
   "execution_count": 549,
   "metadata": {
    "collapsed": false
   },
   "outputs": [
    {
     "data": {
      "text/plain": [
       "(string_attribute --> <class 'cppyy.string'>\n",
       " vector_attribute --> <class 'cppyy.vector<int>'>\n",
       " vector_strings --> <class 'cppyy.vector<string>'>\n",
       " int_attribute --> IntCol(5)\n",
       " float_attribute --> FloatCol(0.0)\n",
       " boolean_attribute --> BoolCol(False),\n",
       " ,\n",
       " __main__.ROOTModel,\n",
       " ,\n",
       " pax.data_model.StrictModel,\n",
       " pax.data_model.Model,\n",
       " object)"
      ]
     },
     "execution_count": 549,
     "metadata": {},
     "output_type": "execute_result"
    }
   ],
   "source": [
    "# inheritancce tree\n",
    "inspect.getmro(Event)"
   ]
  },
  {
   "cell_type": "code",
   "execution_count": 550,
   "metadata": {
    "collapsed": false
   },
   "outputs": [
    {
     "data": {
      "text/plain": [
       "['__class__',\n",
       " '__delattr__',\n",
       " '__dict__',\n",
       " '__dir__',\n",
       " '__doc__',\n",
       " '__eq__',\n",
       " '__format__',\n",
       " '__ge__',\n",
       " '__getattribute__',\n",
       " '__gt__',\n",
       " '__hash__',\n",
       " '__init__',\n",
       " '__le__',\n",
       " '__lt__',\n",
       " '__module__',\n",
       " '__ne__',\n",
       " '__new__',\n",
       " '__reduce__',\n",
       " '__reduce_ex__',\n",
       " '__repr__',\n",
       " '__setattr__',\n",
       " '__sizeof__',\n",
       " '__str__',\n",
       " '__subclasshook__',\n",
       " '__weakref__',\n",
       " 'from_bson',\n",
       " 'from_json',\n",
       " 'get_fields_data',\n",
       " 'get_list_field_info',\n",
       " 'to_bson',\n",
       " 'to_dict',\n",
       " 'to_json']"
      ]
     },
     "execution_count": 550,
     "metadata": {},
     "output_type": "execute_result"
    }
   ],
   "source": [
    "dir(EventModel) \n",
    "# the problem is, once you instantiate the default TreeModel of rootpy, \n",
    "# it returns a TreeBuffer object instead, so the Event functionality is lost (to_dict, to_json, get_fields ...)  \n",
    "# And this one allows to use the Event data structure as a tree at the same time"
   ]
  },
  {
   "cell_type": "code",
   "execution_count": 553,
   "metadata": {
    "collapsed": false
   },
   "outputs": [
    {
     "data": {
      "text/plain": [
       "{'boolean_attribute': 0,\n",
       " 'float_attribute': 12.34000015258789,\n",
       " 'int_attribute': 222,\n",
       " 'string_attribute': 'one_detector',\n",
       " 'vector_attribute': [1, 2, 3],\n",
       " 'vector_strings': ['one', 'two']}"
      ]
     },
     "execution_count": 553,
     "metadata": {},
     "output_type": "execute_result"
    }
   ],
   "source": [
    "event.to_dict() # the vector, and the stl.string, we needed a way to serialize it also"
   ]
  },
  {
   "cell_type": "code",
   "execution_count": 554,
   "metadata": {
    "collapsed": false
   },
   "outputs": [
    {
     "data": {
      "text/plain": [
       "{'boolean_attribute': 0,\n",
       " 'float_attribute': 12.34000015258789,\n",
       " 'int_attribute': 5,\n",
       " 'string_attribute': '',\n",
       " 'vector_attribute': [1, 2, 3],\n",
       " 'vector_strings': []}"
      ]
     },
     "execution_count": 554,
     "metadata": {},
     "output_type": "execute_result"
    }
   ],
   "source": [
    "event1.to_dict()"
   ]
  },
  {
   "cell_type": "code",
   "execution_count": 555,
   "metadata": {
    "collapsed": false
   },
   "outputs": [
    {
     "data": {
      "text/plain": [
       "{'boolean_attribute': 0,\n",
       " 'float_attribute': 0.0,\n",
       " 'int_attribute': 5,\n",
       " 'string_attribute': '',\n",
       " 'vector_attribute': [],\n",
       " 'vector_strings': []}"
      ]
     },
     "execution_count": 555,
     "metadata": {},
     "output_type": "execute_result"
    }
   ],
   "source": [
    "event2.to_dict() # default"
   ]
  },
  {
   "cell_type": "code",
   "execution_count": 556,
   "metadata": {
    "collapsed": false
   },
   "outputs": [
    {
     "data": {
      "text/plain": [
       "{'boolean_attribute': 0,\n",
       " 'float_attribute': 12.34000015258789,\n",
       " 'int_attribute': 222,\n",
       " 'string_attribute': 'one_detector',\n",
       " 'vector_attribute': [1, 2, 3, 65],\n",
       " 'vector_strings': ['one', 'two', 'three']}"
      ]
     },
     "execution_count": 556,
     "metadata": {},
     "output_type": "execute_result"
    }
   ],
   "source": [
    "event.vector_strings.push_back('three')\n",
    "event.vector_attribute.push_back(65)\n",
    "event.to_dict()"
   ]
  },
  {
   "cell_type": "code",
   "execution_count": 557,
   "metadata": {
    "collapsed": false
   },
   "outputs": [
    {
     "data": {
      "text/plain": [
       "string_attribute --> <class 'cppyy.string'>\n",
       "vector_attribute --> <class 'cppyy.vector<int>'>\n",
       "vector_strings --> <class 'cppyy.vector<string>'>\n",
       "int_attribute --> IntCol(5)\n",
       "float_attribute --> FloatCol(0.0)\n",
       "boolean_attribute --> BoolCol(False)"
      ]
     },
     "execution_count": 557,
     "metadata": {},
     "output_type": "execute_result"
    }
   ],
   "source": [
    "Event"
   ]
  },
  {
   "cell_type": "code",
   "execution_count": 558,
   "metadata": {
    "collapsed": false
   },
   "outputs": [
    {
     "name": "stdout",
     "output_type": "stream",
     "text": [
      "{'boolean_attribute': <collections._Link object at 0x7f98fb7eb828>, 'float_attribute': <collections._Link object at 0x7f98fb7eb7e0>, 'vector_attribute': <collections._Link object at 0x7f98fb7eb120>, 'int_attribute': <collections._Link object at 0x7f98fb7ebd80>, 'vector_strings': <collections._Link object at 0x7f98fb7eb4c8>, 'string_attribute': <collections._Link object at 0x7f98fb7eb240>}\n"
     ]
    }
   ],
   "source": [
    "print(event) #TODO change maybe"
   ]
  },
  {
   "cell_type": "code",
   "execution_count": 559,
   "metadata": {
    "collapsed": false
   },
   "outputs": [
    {
     "ename": "AttributeError",
     "evalue": "PaxTreeBuffer instance has no attribute `some_attribute`",
     "output_type": "error",
     "traceback": [
      "\u001b[1;31m---------------------------------------------------------------------------\u001b[0m",
      "\u001b[1;31mKeyError\u001b[0m                                  Traceback (most recent call last)",
      "\u001b[1;32m/home/daniela/anaconda/envs/testpaxagain/rootpy/rootpy/tree/treebuffer.py\u001b[0m in \u001b[0;36m__getattr__\u001b[1;34m(self, attr)\u001b[0m\n\u001b[0;32m    228\u001b[0m         \u001b[1;32mtry\u001b[0m\u001b[1;33m:\u001b[0m\u001b[1;33m\u001b[0m\u001b[0m\n\u001b[1;32m--> 229\u001b[1;33m             \u001b[0mvariable\u001b[0m \u001b[1;33m=\u001b[0m \u001b[0mself\u001b[0m\u001b[1;33m.\u001b[0m\u001b[0mget_with_read_if_cached\u001b[0m\u001b[1;33m(\u001b[0m\u001b[0mattr\u001b[0m\u001b[1;33m)\u001b[0m\u001b[1;33m\u001b[0m\u001b[0m\n\u001b[0m\u001b[0;32m    230\u001b[0m             \u001b[1;32mif\u001b[0m \u001b[0misinstance\u001b[0m\u001b[1;33m(\u001b[0m\u001b[0mvariable\u001b[0m\u001b[1;33m,\u001b[0m \u001b[0mScalar\u001b[0m\u001b[1;33m)\u001b[0m\u001b[1;33m:\u001b[0m\u001b[1;33m\u001b[0m\u001b[0m\n",
      "\u001b[1;32m/home/daniela/anaconda/envs/testpaxagain/rootpy/rootpy/tree/treebuffer.py\u001b[0m in \u001b[0;36mget_with_read_if_cached\u001b[1;34m(self, attr)\u001b[0m\n\u001b[0;32m    178\u001b[0m                 \u001b[0mself\u001b[0m\u001b[1;33m.\u001b[0m\u001b[0m_branch_cache_event\u001b[0m\u001b[1;33m[\u001b[0m\u001b[0mbranch\u001b[0m\u001b[1;33m]\u001b[0m \u001b[1;33m=\u001b[0m \u001b[1;32mNone\u001b[0m\u001b[1;33m\u001b[0m\u001b[0m\n\u001b[1;32m--> 179\u001b[1;33m         \u001b[1;32mreturn\u001b[0m \u001b[0msuper\u001b[0m\u001b[1;33m(\u001b[0m\u001b[0mTreeBuffer\u001b[0m\u001b[1;33m,\u001b[0m \u001b[0mself\u001b[0m\u001b[1;33m)\u001b[0m\u001b[1;33m.\u001b[0m\u001b[0m__getitem__\u001b[0m\u001b[1;33m(\u001b[0m\u001b[0mattr\u001b[0m\u001b[1;33m)\u001b[0m\u001b[1;33m\u001b[0m\u001b[0m\n\u001b[0m\u001b[0;32m    180\u001b[0m \u001b[1;33m\u001b[0m\u001b[0m\n",
      "\u001b[1;31mKeyError\u001b[0m: 'some_attribute'",
      "\nDuring handling of the above exception, another exception occurred:\n",
      "\u001b[1;31mAttributeError\u001b[0m                            Traceback (most recent call last)",
      "\u001b[1;32m<ipython-input-559-3e00062b91a4>\u001b[0m in \u001b[0;36m<module>\u001b[1;34m()\u001b[0m\n\u001b[1;32m----> 1\u001b[1;33m \u001b[0mevent\u001b[0m\u001b[1;33m.\u001b[0m\u001b[0msome_attribute\u001b[0m \u001b[1;33m=\u001b[0m \u001b[1;36m34\u001b[0m \u001b[1;31m# NOPE, cannot do, should not do, there is no \"some_attribute\";\u001b[0m\u001b[1;33m\u001b[0m\u001b[0m\n\u001b[0m\u001b[0;32m      2\u001b[0m \u001b[1;31m# problem (with the error printing PaxTreeBuffer instance instead of Event one) is,\u001b[0m\u001b[1;33m\u001b[0m\u001b[1;33m\u001b[0m\u001b[0m\n\u001b[0;32m      3\u001b[0m \u001b[1;31m#upon instantiation of Event, it returns an instance of TreeBuffer, so the information about Event class is lost\u001b[0m\u001b[1;33m\u001b[0m\u001b[1;33m\u001b[0m\u001b[0m\n",
      "\u001b[1;32m<ipython-input-545-21a6c155ad87>\u001b[0m in \u001b[0;36m__setattr__\u001b[1;34m(self, key, value)\u001b[0m\n\u001b[0;32m    112\u001b[0m \u001b[1;33m\u001b[0m\u001b[0m\n\u001b[0;32m    113\u001b[0m         \u001b[1;31m# model fields\u001b[0m\u001b[1;33m\u001b[0m\u001b[1;33m\u001b[0m\u001b[0m\n\u001b[1;32m--> 114\u001b[1;33m         \u001b[0mold_val\u001b[0m \u001b[1;33m=\u001b[0m \u001b[0mgetattr\u001b[0m\u001b[1;33m(\u001b[0m\u001b[0mself\u001b[0m\u001b[1;33m,\u001b[0m \u001b[0mkey\u001b[0m\u001b[1;33m)\u001b[0m\u001b[1;33m\u001b[0m\u001b[0m\n\u001b[0m\u001b[0;32m    115\u001b[0m         \u001b[0mold_type\u001b[0m \u001b[1;33m=\u001b[0m \u001b[0mtype\u001b[0m\u001b[1;33m(\u001b[0m\u001b[0mold_val\u001b[0m\u001b[1;33m)\u001b[0m\u001b[1;33m\u001b[0m\u001b[0m\n\u001b[0;32m    116\u001b[0m         \u001b[0mnew_type\u001b[0m \u001b[1;33m=\u001b[0m \u001b[0mtype\u001b[0m\u001b[1;33m(\u001b[0m\u001b[0mvalue\u001b[0m\u001b[1;33m)\u001b[0m\u001b[1;33m\u001b[0m\u001b[0m\n",
      "\u001b[1;32m/home/daniela/anaconda/envs/testpaxagain/rootpy/rootpy/tree/treebuffer.py\u001b[0m in \u001b[0;36m__getattr__\u001b[1;34m(self, attr)\u001b[0m\n\u001b[0;32m    234\u001b[0m             raise AttributeError(\n\u001b[0;32m    235\u001b[0m                 \"{0} instance has no attribute `{1}`\".format(\n\u001b[1;32m--> 236\u001b[1;33m                     self.__class__.__name__, attr))\n\u001b[0m\u001b[0;32m    237\u001b[0m \u001b[1;33m\u001b[0m\u001b[0m\n\u001b[0;32m    238\u001b[0m     \u001b[1;32mdef\u001b[0m \u001b[0mreset_collections\u001b[0m\u001b[1;33m(\u001b[0m\u001b[0mself\u001b[0m\u001b[1;33m)\u001b[0m\u001b[1;33m:\u001b[0m\u001b[1;33m\u001b[0m\u001b[0m\n",
      "\u001b[1;31mAttributeError\u001b[0m: PaxTreeBuffer instance has no attribute `some_attribute`"
     ]
    }
   ],
   "source": [
    "event.some_attribute = 34 # NOPE, cannot do, should not do, there is no \"some_attribute\"; \n",
    "# problem (with the error printing PaxTreeBuffer instance instead of Event one) is, \n",
    "#upon instantiation of Event, it returns an instance of TreeBuffer, so the information about Event class is lost"
   ]
  },
  {
   "cell_type": "code",
   "execution_count": 560,
   "metadata": {
    "collapsed": false
   },
   "outputs": [
    {
     "data": {
      "text/plain": [
       "12.34000015258789"
      ]
     },
     "execution_count": 560,
     "metadata": {},
     "output_type": "execute_result"
    }
   ],
   "source": [
    "event.__getattr__('float_attribute') # class_dict"
   ]
  },
  {
   "cell_type": "code",
   "execution_count": 561,
   "metadata": {
    "collapsed": false
   },
   "outputs": [
    {
     "data": {
      "text/plain": [
       "Float(12.34000015258789) at 0x7f98fb779be8"
      ]
     },
     "execution_count": 561,
     "metadata": {},
     "output_type": "execute_result"
    }
   ],
   "source": [
    "event.__getitem__('float_attribute') # the ROOOT branch object"
   ]
  },
  {
   "cell_type": "code",
   "execution_count": 562,
   "metadata": {
    "collapsed": false
   },
   "outputs": [
    {
     "data": {
      "text/plain": [
       "FloatCol(0.0)"
      ]
     },
     "execution_count": 562,
     "metadata": {},
     "output_type": "execute_result"
    }
   ],
   "source": [
    "Event.float_attribute  # The attribute type"
   ]
  },
  {
   "cell_type": "code",
   "execution_count": 563,
   "metadata": {
    "collapsed": false
   },
   "outputs": [
    {
     "data": {
      "text/plain": [
       "{'_OrderedDict__hardroot': <collections._Link at 0x7f9913a9dee8>,\n",
       " '_OrderedDict__map': {'boolean_attribute': <collections._Link at 0x7f98fb7eb828>,\n",
       "  'float_attribute': <collections._Link at 0x7f98fb7eb7e0>,\n",
       "  'int_attribute': <collections._Link at 0x7f98fb7ebd80>,\n",
       "  'string_attribute': <collections._Link at 0x7f98fb7eb240>,\n",
       "  'vector_attribute': <collections._Link at 0x7f98fb7eb120>,\n",
       "  'vector_strings': <collections._Link at 0x7f98fb7eb4c8>},\n",
       " '_OrderedDict__root': <collections._Link at 0x7f98fb7b5138>,\n",
       " '_branch_cache': {},\n",
       " '_branch_cache_event': {},\n",
       " '_collections': {},\n",
       " '_current_entry': 0,\n",
       " '_entry': Int(0) at 0x7f98fb81d5e8,\n",
       " '_fixed_names': {},\n",
       " '_ignore_unsupported': False,\n",
       " '_inited': True,\n",
       " '_objects': [],\n",
       " '_tree': None}"
      ]
     },
     "execution_count": 563,
     "metadata": {},
     "output_type": "execute_result"
    }
   ],
   "source": [
    "event.__dict__"
   ]
  },
  {
   "cell_type": "code",
   "execution_count": 564,
   "metadata": {
    "collapsed": false
   },
   "outputs": [
    {
     "data": {
      "text/plain": [
       "'{\"vector_strings\": [\"one\", \"two\", \"three\"], \"float_attribute\": 12.34000015258789, \"vector_attribute\": [1, 2, 3, 65], \"int_attribute\": 222, \"boolean_attribute\": 0, \"string_attribute\": \"one_detector\"}'"
      ]
     },
     "execution_count": 564,
     "metadata": {},
     "output_type": "execute_result"
    }
   ],
   "source": [
    "event.to_json() # Good."
   ]
  },
  {
   "cell_type": "code",
   "execution_count": 565,
   "metadata": {
    "collapsed": false
   },
   "outputs": [
    {
     "data": {
      "text/plain": [
       "{'boolean_attribute': 0,\n",
       " 'float_attribute': 12.34000015258789,\n",
       " 'int_attribute': 222,\n",
       " 'string_attribute': 'one_detector',\n",
       " 'vector_attribute': [1, 2, 3, 65],\n",
       " 'vector_strings': ['one', 'two', 'three']}"
      ]
     },
     "execution_count": 565,
     "metadata": {},
     "output_type": "execute_result"
    }
   ],
   "source": [
    "event.to_dict()"
   ]
  },
  {
   "cell_type": "code",
   "execution_count": 566,
   "metadata": {
    "collapsed": false
   },
   "outputs": [
    {
     "data": {
      "text/plain": [
       "{}"
      ]
     },
     "execution_count": 566,
     "metadata": {},
     "output_type": "execute_result"
    }
   ],
   "source": [
    "event.get_list_field_info() # this will not be needed, we're using vectors with rootpy"
   ]
  },
  {
   "cell_type": "code",
   "execution_count": 567,
   "metadata": {
    "collapsed": false
   },
   "outputs": [
    {
     "name": "stdout",
     "output_type": "stream",
     "text": [
      "{\"vector_strings\": [\"one\", \"two\", \"three\"], \"float_attribute\": 12.34000015258789, \"vector_attribute\": [1, 2, 3, 65], \"int_attribute\": 222, \"boolean_attribute\": 0, \"string_attribute\": \"one_detector\"}\n"
     ]
    },
    {
     "data": {
      "text/plain": [
       "{'boolean_attribute': 0,\n",
       " 'float_attribute': 12.34000015258789,\n",
       " 'int_attribute': 222,\n",
       " 'string_attribute': 'one_detector',\n",
       " 'vector_attribute': [1, 2, 3, 65],\n",
       " 'vector_strings': ['one', 'two', 'three']}"
      ]
     },
     "execution_count": 567,
     "metadata": {},
     "output_type": "execute_result"
    }
   ],
   "source": [
    "# json back and forth\n",
    "json_event = event.to_json() \n",
    "print(json_event)\n",
    "event_1 = Event.from_json(json_event)\n",
    "event_1.to_dict() "
   ]
  },
  {
   "cell_type": "code",
   "execution_count": 568,
   "metadata": {
    "collapsed": false
   },
   "outputs": [
    {
     "name": "stdout",
     "output_type": "stream",
     "text": [
      "b'\\xd6\\x00\\x00\\x00\\x04vector_strings\\x00(\\x00\\x00\\x00\\x020\\x00\\x04\\x00\\x00\\x00one\\x00\\x021\\x00\\x04\\x00\\x00\\x00two\\x00\\x022\\x00\\x06\\x00\\x00\\x00three\\x00\\x00\\x01float_attribute\\x00\\x00\\x00\\x00\\x80\\x14\\xae(@\\x04vector_attribute\\x00!\\x00\\x00\\x00\\x100\\x00\\x01\\x00\\x00\\x00\\x101\\x00\\x02\\x00\\x00\\x00\\x102\\x00\\x03\\x00\\x00\\x00\\x103\\x00A\\x00\\x00\\x00\\x00\\x10int_attribute\\x00\\xde\\x00\\x00\\x00\\x10boolean_attribute\\x00\\x00\\x00\\x00\\x00\\x02string_attribute\\x00\\r\\x00\\x00\\x00one_detector\\x00\\x00'\n"
     ]
    },
    {
     "data": {
      "text/plain": [
       "{'boolean_attribute': 0,\n",
       " 'float_attribute': 12.34000015258789,\n",
       " 'int_attribute': 222,\n",
       " 'string_attribute': 'one_detector',\n",
       " 'vector_attribute': [1, 2, 3, 65],\n",
       " 'vector_strings': ['one', 'two', 'three']}"
      ]
     },
     "execution_count": 568,
     "metadata": {},
     "output_type": "execute_result"
    }
   ],
   "source": [
    "# bson back and forth\n",
    "bson_event = event.to_bson()\n",
    "print(bson_event)\n",
    "event_2 = Event.from_bson(bson_event)\n",
    "event_2.to_dict() "
   ]
  },
  {
   "cell_type": "code",
   "execution_count": 569,
   "metadata": {
    "collapsed": false
   },
   "outputs": [
    {
     "name": "stdout",
     "output_type": "stream",
     "text": [
      "{\"boolean_attribute\": 0, \"string_attribute\": \"one_detector\", \"vector_attribute\": [1, 2, 3, 65], \"int_attribute\": 222}\n"
     ]
    }
   ],
   "source": [
    "json_event = event.to_json(fields_to_ignore=['float_attribute','vector_strings']) \n",
    "print(json_event)"
   ]
  },
  {
   "cell_type": "code",
   "execution_count": 570,
   "metadata": {
    "collapsed": false
   },
   "outputs": [
    {
     "name": "stdout",
     "output_type": "stream",
     "text": [
      "<ROOT.TBranchElement object (\"string_attribute\") at 0x9c02190>\n",
      "<ROOT.TBranchElement object (\"vector_attribute\") at 0x8c25ac0>\n",
      "<ROOT.TBranchElement object (\"vector_strings\") at 0x9954a50>\n",
      "<ROOT.TBranch object (\"int_attribute\") at 0x78462f0>\n",
      "<ROOT.TBranch object (\"float_attribute\") at 0x9897650>\n",
      "<ROOT.TBranch object (\"boolean_attribute\") at 0xb9275a0>\n"
     ]
    }
   ],
   "source": [
    "# usse the model to write a ROOT tree\n",
    "from rootpy.tree import Tree, Ntuple, TreeModel, TreeChain\n",
    "from rootpy.tree.treetypes import *\n",
    "from rootpy.tree.tree import *\n",
    "from rootpy.tree.model import *\n",
    "import ROOT\n",
    "import rootpy.stl as stl\n",
    "\n",
    "from rootpy.io import root_open, TemporaryFile\n",
    "f = root_open(\"test_pax_rootpy_new.root\", \"recreate\")\n",
    "tree_event = Tree(\"treeEvent\", model=Event)\n",
    "tree_event.boolean_attribute = True\n",
    "tree_event.string_attribute = \"sdfdsdf\"\n",
    "tree_event.int_attribute = 66\n",
    "tree_event.vector_strings.push_back(\"vector1\")\n",
    "tree_event.vector_strings.push_back(\"vector2\")\n",
    "tree_event.fill()\n",
    "tree_event.write()\n",
    "f.write()\n",
    "\n",
    "for branch in tree_event.GetListOfBranches():\n",
    "    print(branch)"
   ]
  },
  {
   "cell_type": "code",
   "execution_count": 571,
   "metadata": {
    "collapsed": false
   },
   "outputs": [
    {
     "data": {
      "text/plain": [
       "2"
      ]
     },
     "execution_count": 571,
     "metadata": {},
     "output_type": "execute_result"
    }
   ],
   "source": [
    "tree_event.Scan('*')"
   ]
  },
  {
   "cell_type": "code",
   "execution_count": 572,
   "metadata": {
    "collapsed": false
   },
   "outputs": [
    {
     "name": "stdout",
     "output_type": "stream",
     "text": [
      "<ROOT.TBranchElement object (\"string_attribute\") at 0x9c02190>\n",
      "<ROOT.TBranchElement object (\"vector_attribute\") at 0x8c25ac0>\n",
      "<ROOT.TBranchElement object (\"vector_strings\") at 0x9954a50>\n",
      "<ROOT.TBranch object (\"int_attribute\") at 0x78462f0>\n",
      "<ROOT.TBranch object (\"float_attribute\") at 0x9897650>\n",
      "<ROOT.TBranch object (\"boolean_attribute\") at 0xb9275a0>\n"
     ]
    }
   ],
   "source": [
    "for branch in tree_event.GetListOfBranches():\n",
    "    print(branch)"
   ]
  },
  {
   "cell_type": "code",
   "execution_count": 573,
   "metadata": {
    "collapsed": false
   },
   "outputs": [
    {
     "data": {
      "text/plain": [
       "2"
      ]
     },
     "execution_count": 573,
     "metadata": {},
     "output_type": "execute_result"
    }
   ],
   "source": [
    "tree_event.Scan(\"int_attribute:vector_strings\",\"int_attribute>2\")"
   ]
  },
  {
   "cell_type": "code",
   "execution_count": 574,
   "metadata": {
    "collapsed": false
   },
   "outputs": [
    {
     "data": {
      "text/plain": [
       "'6.04/03'"
      ]
     },
     "execution_count": 574,
     "metadata": {},
     "output_type": "execute_result"
    }
   ],
   "source": [
    "ROOT.gROOT.GetVersion()"
   ]
  },
  {
   "cell_type": "code",
   "execution_count": null,
   "metadata": {
    "collapsed": true
   },
   "outputs": [],
   "source": []
  }
 ],
 "metadata": {
  "kernelspec": {
   "display_name": "Python 3",
   "language": "python",
   "name": "python3"
  },
  "language_info": {
   "codemirror_mode": {
    "name": "ipython",
    "version": 3
   },
   "file_extension": ".py",
   "mimetype": "text/x-python",
   "name": "python",
   "nbconvert_exporter": "python",
   "pygments_lexer": "ipython3",
   "version": "3.4.3"
  }
 },
 "nbformat": 4,
 "nbformat_minor": 0
}
