{
 "cells": [
  {
   "cell_type": "code",
   "execution_count": 1,
   "metadata": {
    "collapsed": true
   },
   "outputs": [],
   "source": [
    "import pandas as pd\n",
    "import numpy as np\n",
    "import matplotlib.pyplot as plt"
   ]
  },
  {
   "cell_type": "code",
   "execution_count": 2,
   "metadata": {
    "collapsed": true
   },
   "outputs": [],
   "source": [
    "s = pd.Series([1,3,4,np.nan,6,8])"
   ]
  },
  {
   "cell_type": "code",
   "execution_count": 3,
   "metadata": {
    "collapsed": false
   },
   "outputs": [
    {
     "data": {
      "text/plain": [
       "0     1\n",
       "1     3\n",
       "2     4\n",
       "3   NaN\n",
       "4     6\n",
       "5     8\n",
       "dtype: float64"
      ]
     },
     "execution_count": 3,
     "metadata": {},
     "output_type": "execute_result"
    }
   ],
   "source": [
    "s"
   ]
  },
  {
   "cell_type": "markdown",
   "metadata": {},
   "source": [
    "Creating a DataFrame by passing a numpy array, with a datetime index and labeled columns:"
   ]
  },
  {
   "cell_type": "code",
   "execution_count": 4,
   "metadata": {
    "collapsed": false
   },
   "outputs": [
    {
     "data": {
      "text/plain": [
       "DatetimeIndex(['2013-01-01', '2013-01-02', '2013-01-03', '2013-01-04',\n",
       "               '2013-01-05', '2013-01-06'],\n",
       "              dtype='datetime64[ns]', freq='D')"
      ]
     },
     "execution_count": 4,
     "metadata": {},
     "output_type": "execute_result"
    }
   ],
   "source": [
    "dates = pd.date_range('20130101', periods=6)\n",
    "dates"
   ]
  },
  {
   "cell_type": "code",
   "execution_count": 7,
   "metadata": {
    "collapsed": false
   },
   "outputs": [],
   "source": [
    "df = pd.DataFrame(np.random.randn(6,4), index=dates, columns=list('ABCD'))"
   ]
  },
  {
   "cell_type": "code",
   "execution_count": 10,
   "metadata": {
    "collapsed": false
   },
   "outputs": [
    {
     "data": {
      "text/html": [
       "<div>\n",
       "<table border=\"1\" class=\"dataframe\">\n",
       "  <thead>\n",
       "    <tr style=\"text-align: right;\">\n",
       "      <th></th>\n",
       "      <th>A</th>\n",
       "      <th>B</th>\n",
       "      <th>C</th>\n",
       "      <th>D</th>\n",
       "    </tr>\n",
       "  </thead>\n",
       "  <tbody>\n",
       "    <tr>\n",
       "      <th>2013-01-01</th>\n",
       "      <td>0.868362</td>\n",
       "      <td>0.156558</td>\n",
       "      <td>0.263619</td>\n",
       "      <td>0.041226</td>\n",
       "    </tr>\n",
       "    <tr>\n",
       "      <th>2013-01-02</th>\n",
       "      <td>-0.480030</td>\n",
       "      <td>-0.229957</td>\n",
       "      <td>0.003774</td>\n",
       "      <td>-0.843040</td>\n",
       "    </tr>\n",
       "    <tr>\n",
       "      <th>2013-01-03</th>\n",
       "      <td>-1.730713</td>\n",
       "      <td>-1.775864</td>\n",
       "      <td>-0.417897</td>\n",
       "      <td>-0.906080</td>\n",
       "    </tr>\n",
       "    <tr>\n",
       "      <th>2013-01-04</th>\n",
       "      <td>1.151656</td>\n",
       "      <td>0.600024</td>\n",
       "      <td>1.286908</td>\n",
       "      <td>0.470892</td>\n",
       "    </tr>\n",
       "    <tr>\n",
       "      <th>2013-01-05</th>\n",
       "      <td>1.481628</td>\n",
       "      <td>-0.868354</td>\n",
       "      <td>-0.058743</td>\n",
       "      <td>0.298252</td>\n",
       "    </tr>\n",
       "    <tr>\n",
       "      <th>2013-01-06</th>\n",
       "      <td>0.899309</td>\n",
       "      <td>-0.365555</td>\n",
       "      <td>-1.714416</td>\n",
       "      <td>-1.175684</td>\n",
       "    </tr>\n",
       "  </tbody>\n",
       "</table>\n",
       "</div>"
      ],
      "text/plain": [
       "                   A         B         C         D\n",
       "2013-01-01  0.868362  0.156558  0.263619  0.041226\n",
       "2013-01-02 -0.480030 -0.229957  0.003774 -0.843040\n",
       "2013-01-03 -1.730713 -1.775864 -0.417897 -0.906080\n",
       "2013-01-04  1.151656  0.600024  1.286908  0.470892\n",
       "2013-01-05  1.481628 -0.868354 -0.058743  0.298252\n",
       "2013-01-06  0.899309 -0.365555 -1.714416 -1.175684"
      ]
     },
     "execution_count": 10,
     "metadata": {},
     "output_type": "execute_result"
    }
   ],
   "source": [
    "df"
   ]
  },
  {
   "cell_type": "markdown",
   "metadata": {},
   "source": [
    "Creating a DataFrame by passing a dict of objects that can be converted to series-like."
   ]
  },
  {
   "cell_type": "code",
   "execution_count": 16,
   "metadata": {
    "collapsed": true
   },
   "outputs": [],
   "source": [
    "df2 = pd.DataFrame({\n",
    "        'A': 1, # default dtype=int64\n",
    "        'B': pd.Timestamp('20130101'),\n",
    "        'C': pd.Series(1, index=list(range(4)), dtype='float32'),\n",
    "        'D': np.array([3] * 4, dtype='int32'),\n",
    "        'E': pd.Categorical(['test','train','test','train']),\n",
    "        'F': 'foo' # default dtype=object\n",
    "    })"
   ]
  },
  {
   "cell_type": "code",
   "execution_count": 17,
   "metadata": {
    "collapsed": false
   },
   "outputs": [
    {
     "data": {
      "text/html": [
       "<div>\n",
       "<table border=\"1\" class=\"dataframe\">\n",
       "  <thead>\n",
       "    <tr style=\"text-align: right;\">\n",
       "      <th></th>\n",
       "      <th>A</th>\n",
       "      <th>B</th>\n",
       "      <th>C</th>\n",
       "      <th>D</th>\n",
       "      <th>E</th>\n",
       "      <th>F</th>\n",
       "    </tr>\n",
       "  </thead>\n",
       "  <tbody>\n",
       "    <tr>\n",
       "      <th>0</th>\n",
       "      <td>1</td>\n",
       "      <td>2013-01-01</td>\n",
       "      <td>1</td>\n",
       "      <td>3</td>\n",
       "      <td>test</td>\n",
       "      <td>foo</td>\n",
       "    </tr>\n",
       "    <tr>\n",
       "      <th>1</th>\n",
       "      <td>1</td>\n",
       "      <td>2013-01-01</td>\n",
       "      <td>1</td>\n",
       "      <td>3</td>\n",
       "      <td>train</td>\n",
       "      <td>foo</td>\n",
       "    </tr>\n",
       "    <tr>\n",
       "      <th>2</th>\n",
       "      <td>1</td>\n",
       "      <td>2013-01-01</td>\n",
       "      <td>1</td>\n",
       "      <td>3</td>\n",
       "      <td>test</td>\n",
       "      <td>foo</td>\n",
       "    </tr>\n",
       "    <tr>\n",
       "      <th>3</th>\n",
       "      <td>1</td>\n",
       "      <td>2013-01-01</td>\n",
       "      <td>1</td>\n",
       "      <td>3</td>\n",
       "      <td>train</td>\n",
       "      <td>foo</td>\n",
       "    </tr>\n",
       "  </tbody>\n",
       "</table>\n",
       "</div>"
      ],
      "text/plain": [
       "   A          B  C  D      E    F\n",
       "0  1 2013-01-01  1  3   test  foo\n",
       "1  1 2013-01-01  1  3  train  foo\n",
       "2  1 2013-01-01  1  3   test  foo\n",
       "3  1 2013-01-01  1  3  train  foo"
      ]
     },
     "execution_count": 17,
     "metadata": {},
     "output_type": "execute_result"
    }
   ],
   "source": [
    "df2"
   ]
  },
  {
   "cell_type": "code",
   "execution_count": 18,
   "metadata": {
    "collapsed": false
   },
   "outputs": [
    {
     "data": {
      "text/plain": [
       "A             int64\n",
       "B    datetime64[ns]\n",
       "C           float32\n",
       "D             int32\n",
       "E          category\n",
       "F            object\n",
       "dtype: object"
      ]
     },
     "execution_count": 18,
     "metadata": {},
     "output_type": "execute_result"
    }
   ],
   "source": [
    "df2.dtypes"
   ]
  },
  {
   "cell_type": "markdown",
   "metadata": {},
   "source": [
    "See the top & bottom rows of the frame"
   ]
  },
  {
   "cell_type": "code",
   "execution_count": 20,
   "metadata": {
    "collapsed": false
   },
   "outputs": [
    {
     "data": {
      "text/html": [
       "<div>\n",
       "<table border=\"1\" class=\"dataframe\">\n",
       "  <thead>\n",
       "    <tr style=\"text-align: right;\">\n",
       "      <th></th>\n",
       "      <th>A</th>\n",
       "      <th>B</th>\n",
       "      <th>C</th>\n",
       "      <th>D</th>\n",
       "    </tr>\n",
       "  </thead>\n",
       "  <tbody>\n",
       "    <tr>\n",
       "      <th>2013-01-01</th>\n",
       "      <td>0.868362</td>\n",
       "      <td>0.156558</td>\n",
       "      <td>0.263619</td>\n",
       "      <td>0.041226</td>\n",
       "    </tr>\n",
       "    <tr>\n",
       "      <th>2013-01-02</th>\n",
       "      <td>-0.480030</td>\n",
       "      <td>-0.229957</td>\n",
       "      <td>0.003774</td>\n",
       "      <td>-0.843040</td>\n",
       "    </tr>\n",
       "    <tr>\n",
       "      <th>2013-01-03</th>\n",
       "      <td>-1.730713</td>\n",
       "      <td>-1.775864</td>\n",
       "      <td>-0.417897</td>\n",
       "      <td>-0.906080</td>\n",
       "    </tr>\n",
       "    <tr>\n",
       "      <th>2013-01-04</th>\n",
       "      <td>1.151656</td>\n",
       "      <td>0.600024</td>\n",
       "      <td>1.286908</td>\n",
       "      <td>0.470892</td>\n",
       "    </tr>\n",
       "    <tr>\n",
       "      <th>2013-01-05</th>\n",
       "      <td>1.481628</td>\n",
       "      <td>-0.868354</td>\n",
       "      <td>-0.058743</td>\n",
       "      <td>0.298252</td>\n",
       "    </tr>\n",
       "  </tbody>\n",
       "</table>\n",
       "</div>"
      ],
      "text/plain": [
       "                   A         B         C         D\n",
       "2013-01-01  0.868362  0.156558  0.263619  0.041226\n",
       "2013-01-02 -0.480030 -0.229957  0.003774 -0.843040\n",
       "2013-01-03 -1.730713 -1.775864 -0.417897 -0.906080\n",
       "2013-01-04  1.151656  0.600024  1.286908  0.470892\n",
       "2013-01-05  1.481628 -0.868354 -0.058743  0.298252"
      ]
     },
     "execution_count": 20,
     "metadata": {},
     "output_type": "execute_result"
    }
   ],
   "source": [
    "df.head()"
   ]
  },
  {
   "cell_type": "code",
   "execution_count": 21,
   "metadata": {
    "collapsed": false
   },
   "outputs": [
    {
     "data": {
      "text/html": [
       "<div>\n",
       "<table border=\"1\" class=\"dataframe\">\n",
       "  <thead>\n",
       "    <tr style=\"text-align: right;\">\n",
       "      <th></th>\n",
       "      <th>A</th>\n",
       "      <th>B</th>\n",
       "      <th>C</th>\n",
       "      <th>D</th>\n",
       "    </tr>\n",
       "  </thead>\n",
       "  <tbody>\n",
       "    <tr>\n",
       "      <th>2013-01-04</th>\n",
       "      <td>1.151656</td>\n",
       "      <td>0.600024</td>\n",
       "      <td>1.286908</td>\n",
       "      <td>0.470892</td>\n",
       "    </tr>\n",
       "    <tr>\n",
       "      <th>2013-01-05</th>\n",
       "      <td>1.481628</td>\n",
       "      <td>-0.868354</td>\n",
       "      <td>-0.058743</td>\n",
       "      <td>0.298252</td>\n",
       "    </tr>\n",
       "    <tr>\n",
       "      <th>2013-01-06</th>\n",
       "      <td>0.899309</td>\n",
       "      <td>-0.365555</td>\n",
       "      <td>-1.714416</td>\n",
       "      <td>-1.175684</td>\n",
       "    </tr>\n",
       "  </tbody>\n",
       "</table>\n",
       "</div>"
      ],
      "text/plain": [
       "                   A         B         C         D\n",
       "2013-01-04  1.151656  0.600024  1.286908  0.470892\n",
       "2013-01-05  1.481628 -0.868354 -0.058743  0.298252\n",
       "2013-01-06  0.899309 -0.365555 -1.714416 -1.175684"
      ]
     },
     "execution_count": 21,
     "metadata": {},
     "output_type": "execute_result"
    }
   ],
   "source": [
    "df.tail(3)"
   ]
  },
  {
   "cell_type": "markdown",
   "metadata": {},
   "source": [
    "Display the index, columns, and the underlying numpy data"
   ]
  },
  {
   "cell_type": "code",
   "execution_count": 22,
   "metadata": {
    "collapsed": false
   },
   "outputs": [
    {
     "data": {
      "text/plain": [
       "DatetimeIndex(['2013-01-01', '2013-01-02', '2013-01-03', '2013-01-04',\n",
       "               '2013-01-05', '2013-01-06'],\n",
       "              dtype='datetime64[ns]', freq='D')"
      ]
     },
     "execution_count": 22,
     "metadata": {},
     "output_type": "execute_result"
    }
   ],
   "source": [
    "df.index"
   ]
  },
  {
   "cell_type": "code",
   "execution_count": 23,
   "metadata": {
    "collapsed": false
   },
   "outputs": [
    {
     "data": {
      "text/plain": [
       "Index([u'A', u'B', u'C', u'D'], dtype='object')"
      ]
     },
     "execution_count": 23,
     "metadata": {},
     "output_type": "execute_result"
    }
   ],
   "source": [
    "df.columns"
   ]
  },
  {
   "cell_type": "code",
   "execution_count": 29,
   "metadata": {
    "collapsed": false
   },
   "outputs": [
    {
     "data": {
      "text/plain": [
       "array([[ 0.86836213,  0.15655762,  0.26361913,  0.04122574],\n",
       "       [-0.48002976, -0.22995721,  0.00377381, -0.84303953],\n",
       "       [-1.73071298, -1.77586369, -0.4178968 , -0.90608008],\n",
       "       [ 1.15165613,  0.60002405,  1.2869078 ,  0.47089231],\n",
       "       [ 1.48162783, -0.86835384, -0.05874288,  0.29825207],\n",
       "       [ 0.89930881, -0.36555453, -1.7144156 , -1.1756839 ]])"
      ]
     },
     "execution_count": 29,
     "metadata": {},
     "output_type": "execute_result"
    }
   ],
   "source": [
    "df.values"
   ]
  },
  {
   "cell_type": "code",
   "execution_count": 31,
   "metadata": {
    "collapsed": false
   },
   "outputs": [
    {
     "data": {
      "text/plain": [
       "numpy.ndarray"
      ]
     },
     "execution_count": 31,
     "metadata": {},
     "output_type": "execute_result"
    }
   ],
   "source": [
    "type(df.values)"
   ]
  },
  {
   "cell_type": "code",
   "execution_count": 27,
   "metadata": {
    "collapsed": true
   },
   "outputs": [],
   "source": [
    "df4 = pd.date_range('20140101', freq='M', periods=5) # what about frequency based on months rather than days?"
   ]
  },
  {
   "cell_type": "code",
   "execution_count": 28,
   "metadata": {
    "collapsed": false
   },
   "outputs": [
    {
     "data": {
      "text/plain": [
       "DatetimeIndex(['2014-01-31', '2014-02-28', '2014-03-31', '2014-04-30',\n",
       "               '2014-05-31'],\n",
       "              dtype='datetime64[ns]', freq='M')"
      ]
     },
     "execution_count": 28,
     "metadata": {},
     "output_type": "execute_result"
    }
   ],
   "source": [
    "df4"
   ]
  },
  {
   "cell_type": "markdown",
   "metadata": {},
   "source": [
    "Describe shows a quick statistic summary of your data"
   ]
  },
  {
   "cell_type": "code",
   "execution_count": 32,
   "metadata": {
    "collapsed": false
   },
   "outputs": [
    {
     "data": {
      "text/html": [
       "<div>\n",
       "<table border=\"1\" class=\"dataframe\">\n",
       "  <thead>\n",
       "    <tr style=\"text-align: right;\">\n",
       "      <th></th>\n",
       "      <th>A</th>\n",
       "      <th>B</th>\n",
       "      <th>C</th>\n",
       "      <th>D</th>\n",
       "    </tr>\n",
       "  </thead>\n",
       "  <tbody>\n",
       "    <tr>\n",
       "      <th>count</th>\n",
       "      <td>6.000000</td>\n",
       "      <td>6.000000</td>\n",
       "      <td>6.000000</td>\n",
       "      <td>6.000000</td>\n",
       "    </tr>\n",
       "    <tr>\n",
       "      <th>mean</th>\n",
       "      <td>0.365035</td>\n",
       "      <td>-0.413858</td>\n",
       "      <td>-0.106126</td>\n",
       "      <td>-0.352406</td>\n",
       "    </tr>\n",
       "    <tr>\n",
       "      <th>std</th>\n",
       "      <td>1.225613</td>\n",
       "      <td>0.830796</td>\n",
       "      <td>0.977279</td>\n",
       "      <td>0.704441</td>\n",
       "    </tr>\n",
       "    <tr>\n",
       "      <th>min</th>\n",
       "      <td>-1.730713</td>\n",
       "      <td>-1.775864</td>\n",
       "      <td>-1.714416</td>\n",
       "      <td>-1.175684</td>\n",
       "    </tr>\n",
       "    <tr>\n",
       "      <th>25%</th>\n",
       "      <td>-0.142932</td>\n",
       "      <td>-0.742654</td>\n",
       "      <td>-0.328108</td>\n",
       "      <td>-0.890320</td>\n",
       "    </tr>\n",
       "    <tr>\n",
       "      <th>50%</th>\n",
       "      <td>0.883835</td>\n",
       "      <td>-0.297756</td>\n",
       "      <td>-0.027485</td>\n",
       "      <td>-0.400907</td>\n",
       "    </tr>\n",
       "    <tr>\n",
       "      <th>75%</th>\n",
       "      <td>1.088569</td>\n",
       "      <td>0.059929</td>\n",
       "      <td>0.198658</td>\n",
       "      <td>0.233995</td>\n",
       "    </tr>\n",
       "    <tr>\n",
       "      <th>max</th>\n",
       "      <td>1.481628</td>\n",
       "      <td>0.600024</td>\n",
       "      <td>1.286908</td>\n",
       "      <td>0.470892</td>\n",
       "    </tr>\n",
       "  </tbody>\n",
       "</table>\n",
       "</div>"
      ],
      "text/plain": [
       "              A         B         C         D\n",
       "count  6.000000  6.000000  6.000000  6.000000\n",
       "mean   0.365035 -0.413858 -0.106126 -0.352406\n",
       "std    1.225613  0.830796  0.977279  0.704441\n",
       "min   -1.730713 -1.775864 -1.714416 -1.175684\n",
       "25%   -0.142932 -0.742654 -0.328108 -0.890320\n",
       "50%    0.883835 -0.297756 -0.027485 -0.400907\n",
       "75%    1.088569  0.059929  0.198658  0.233995\n",
       "max    1.481628  0.600024  1.286908  0.470892"
      ]
     },
     "execution_count": 32,
     "metadata": {},
     "output_type": "execute_result"
    }
   ],
   "source": [
    "df.describe()"
   ]
  },
  {
   "cell_type": "markdown",
   "metadata": {},
   "source": [
    "Transposing your data"
   ]
  },
  {
   "cell_type": "code",
   "execution_count": 33,
   "metadata": {
    "collapsed": false
   },
   "outputs": [
    {
     "data": {
      "text/html": [
       "<div>\n",
       "<table border=\"1\" class=\"dataframe\">\n",
       "  <thead>\n",
       "    <tr style=\"text-align: right;\">\n",
       "      <th></th>\n",
       "      <th>2013-01-01 00:00:00</th>\n",
       "      <th>2013-01-02 00:00:00</th>\n",
       "      <th>2013-01-03 00:00:00</th>\n",
       "      <th>2013-01-04 00:00:00</th>\n",
       "      <th>2013-01-05 00:00:00</th>\n",
       "      <th>2013-01-06 00:00:00</th>\n",
       "    </tr>\n",
       "  </thead>\n",
       "  <tbody>\n",
       "    <tr>\n",
       "      <th>A</th>\n",
       "      <td>0.868362</td>\n",
       "      <td>-0.480030</td>\n",
       "      <td>-1.730713</td>\n",
       "      <td>1.151656</td>\n",
       "      <td>1.481628</td>\n",
       "      <td>0.899309</td>\n",
       "    </tr>\n",
       "    <tr>\n",
       "      <th>B</th>\n",
       "      <td>0.156558</td>\n",
       "      <td>-0.229957</td>\n",
       "      <td>-1.775864</td>\n",
       "      <td>0.600024</td>\n",
       "      <td>-0.868354</td>\n",
       "      <td>-0.365555</td>\n",
       "    </tr>\n",
       "    <tr>\n",
       "      <th>C</th>\n",
       "      <td>0.263619</td>\n",
       "      <td>0.003774</td>\n",
       "      <td>-0.417897</td>\n",
       "      <td>1.286908</td>\n",
       "      <td>-0.058743</td>\n",
       "      <td>-1.714416</td>\n",
       "    </tr>\n",
       "    <tr>\n",
       "      <th>D</th>\n",
       "      <td>0.041226</td>\n",
       "      <td>-0.843040</td>\n",
       "      <td>-0.906080</td>\n",
       "      <td>0.470892</td>\n",
       "      <td>0.298252</td>\n",
       "      <td>-1.175684</td>\n",
       "    </tr>\n",
       "  </tbody>\n",
       "</table>\n",
       "</div>"
      ],
      "text/plain": [
       "   2013-01-01  2013-01-02  2013-01-03  2013-01-04  2013-01-05  2013-01-06\n",
       "A    0.868362   -0.480030   -1.730713    1.151656    1.481628    0.899309\n",
       "B    0.156558   -0.229957   -1.775864    0.600024   -0.868354   -0.365555\n",
       "C    0.263619    0.003774   -0.417897    1.286908   -0.058743   -1.714416\n",
       "D    0.041226   -0.843040   -0.906080    0.470892    0.298252   -1.175684"
      ]
     },
     "execution_count": 33,
     "metadata": {},
     "output_type": "execute_result"
    }
   ],
   "source": [
    "df.T"
   ]
  },
  {
   "cell_type": "markdown",
   "metadata": {},
   "source": [
    "Sorting by an axis"
   ]
  },
  {
   "cell_type": "code",
   "execution_count": 35,
   "metadata": {
    "collapsed": false
   },
   "outputs": [
    {
     "data": {
      "text/html": [
       "<div>\n",
       "<table border=\"1\" class=\"dataframe\">\n",
       "  <thead>\n",
       "    <tr style=\"text-align: right;\">\n",
       "      <th></th>\n",
       "      <th>D</th>\n",
       "      <th>C</th>\n",
       "      <th>B</th>\n",
       "      <th>A</th>\n",
       "    </tr>\n",
       "  </thead>\n",
       "  <tbody>\n",
       "    <tr>\n",
       "      <th>2013-01-01</th>\n",
       "      <td>0.041226</td>\n",
       "      <td>0.263619</td>\n",
       "      <td>0.156558</td>\n",
       "      <td>0.868362</td>\n",
       "    </tr>\n",
       "    <tr>\n",
       "      <th>2013-01-02</th>\n",
       "      <td>-0.843040</td>\n",
       "      <td>0.003774</td>\n",
       "      <td>-0.229957</td>\n",
       "      <td>-0.480030</td>\n",
       "    </tr>\n",
       "    <tr>\n",
       "      <th>2013-01-03</th>\n",
       "      <td>-0.906080</td>\n",
       "      <td>-0.417897</td>\n",
       "      <td>-1.775864</td>\n",
       "      <td>-1.730713</td>\n",
       "    </tr>\n",
       "    <tr>\n",
       "      <th>2013-01-04</th>\n",
       "      <td>0.470892</td>\n",
       "      <td>1.286908</td>\n",
       "      <td>0.600024</td>\n",
       "      <td>1.151656</td>\n",
       "    </tr>\n",
       "    <tr>\n",
       "      <th>2013-01-05</th>\n",
       "      <td>0.298252</td>\n",
       "      <td>-0.058743</td>\n",
       "      <td>-0.868354</td>\n",
       "      <td>1.481628</td>\n",
       "    </tr>\n",
       "    <tr>\n",
       "      <th>2013-01-06</th>\n",
       "      <td>-1.175684</td>\n",
       "      <td>-1.714416</td>\n",
       "      <td>-0.365555</td>\n",
       "      <td>0.899309</td>\n",
       "    </tr>\n",
       "  </tbody>\n",
       "</table>\n",
       "</div>"
      ],
      "text/plain": [
       "                   D         C         B         A\n",
       "2013-01-01  0.041226  0.263619  0.156558  0.868362\n",
       "2013-01-02 -0.843040  0.003774 -0.229957 -0.480030\n",
       "2013-01-03 -0.906080 -0.417897 -1.775864 -1.730713\n",
       "2013-01-04  0.470892  1.286908  0.600024  1.151656\n",
       "2013-01-05  0.298252 -0.058743 -0.868354  1.481628\n",
       "2013-01-06 -1.175684 -1.714416 -0.365555  0.899309"
      ]
     },
     "execution_count": 35,
     "metadata": {},
     "output_type": "execute_result"
    }
   ],
   "source": [
    "df.sort_index(axis=1, ascending=False) # this just sorts the axis 'A' 'B' 'C' 'D', not by any values"
   ]
  },
  {
   "cell_type": "markdown",
   "metadata": {},
   "source": [
    "Sorting by values"
   ]
  },
  {
   "cell_type": "code",
   "execution_count": 39,
   "metadata": {
    "collapsed": false
   },
   "outputs": [
    {
     "data": {
      "text/html": [
       "<div>\n",
       "<table border=\"1\" class=\"dataframe\">\n",
       "  <thead>\n",
       "    <tr style=\"text-align: right;\">\n",
       "      <th></th>\n",
       "      <th>A</th>\n",
       "      <th>B</th>\n",
       "      <th>C</th>\n",
       "      <th>D</th>\n",
       "    </tr>\n",
       "  </thead>\n",
       "  <tbody>\n",
       "    <tr>\n",
       "      <th>2013-01-03</th>\n",
       "      <td>-1.730713</td>\n",
       "      <td>-1.775864</td>\n",
       "      <td>-0.417897</td>\n",
       "      <td>-0.906080</td>\n",
       "    </tr>\n",
       "    <tr>\n",
       "      <th>2013-01-05</th>\n",
       "      <td>1.481628</td>\n",
       "      <td>-0.868354</td>\n",
       "      <td>-0.058743</td>\n",
       "      <td>0.298252</td>\n",
       "    </tr>\n",
       "    <tr>\n",
       "      <th>2013-01-06</th>\n",
       "      <td>0.899309</td>\n",
       "      <td>-0.365555</td>\n",
       "      <td>-1.714416</td>\n",
       "      <td>-1.175684</td>\n",
       "    </tr>\n",
       "    <tr>\n",
       "      <th>2013-01-02</th>\n",
       "      <td>-0.480030</td>\n",
       "      <td>-0.229957</td>\n",
       "      <td>0.003774</td>\n",
       "      <td>-0.843040</td>\n",
       "    </tr>\n",
       "    <tr>\n",
       "      <th>2013-01-01</th>\n",
       "      <td>0.868362</td>\n",
       "      <td>0.156558</td>\n",
       "      <td>0.263619</td>\n",
       "      <td>0.041226</td>\n",
       "    </tr>\n",
       "    <tr>\n",
       "      <th>2013-01-04</th>\n",
       "      <td>1.151656</td>\n",
       "      <td>0.600024</td>\n",
       "      <td>1.286908</td>\n",
       "      <td>0.470892</td>\n",
       "    </tr>\n",
       "  </tbody>\n",
       "</table>\n",
       "</div>"
      ],
      "text/plain": [
       "                   A         B         C         D\n",
       "2013-01-03 -1.730713 -1.775864 -0.417897 -0.906080\n",
       "2013-01-05  1.481628 -0.868354 -0.058743  0.298252\n",
       "2013-01-06  0.899309 -0.365555 -1.714416 -1.175684\n",
       "2013-01-02 -0.480030 -0.229957  0.003774 -0.843040\n",
       "2013-01-01  0.868362  0.156558  0.263619  0.041226\n",
       "2013-01-04  1.151656  0.600024  1.286908  0.470892"
      ]
     },
     "execution_count": 39,
     "metadata": {},
     "output_type": "execute_result"
    }
   ],
   "source": [
    "df.sort_values(by='B') # all rows stay locked."
   ]
  },
  {
   "cell_type": "markdown",
   "metadata": {},
   "source": [
    "Selecting a single column, which yields a Series, equivalent to df.A"
   ]
  },
  {
   "cell_type": "code",
   "execution_count": 40,
   "metadata": {
    "collapsed": false
   },
   "outputs": [
    {
     "data": {
      "text/plain": [
       "2013-01-01    0.868362\n",
       "2013-01-02   -0.480030\n",
       "2013-01-03   -1.730713\n",
       "2013-01-04    1.151656\n",
       "2013-01-05    1.481628\n",
       "2013-01-06    0.899309\n",
       "Freq: D, Name: A, dtype: float64"
      ]
     },
     "execution_count": 40,
     "metadata": {},
     "output_type": "execute_result"
    }
   ],
   "source": [
    "df['A']"
   ]
  },
  {
   "cell_type": "code",
   "execution_count": 41,
   "metadata": {
    "collapsed": false
   },
   "outputs": [
    {
     "data": {
      "text/plain": [
       "2013-01-01    0.868362\n",
       "2013-01-02   -0.480030\n",
       "2013-01-03   -1.730713\n",
       "2013-01-04    1.151656\n",
       "2013-01-05    1.481628\n",
       "2013-01-06    0.899309\n",
       "Freq: D, Name: A, dtype: float64"
      ]
     },
     "execution_count": 41,
     "metadata": {},
     "output_type": "execute_result"
    }
   ],
   "source": [
    "df.A"
   ]
  },
  {
   "cell_type": "markdown",
   "metadata": {},
   "source": [
    "Selecting via [], which slices the rows."
   ]
  },
  {
   "cell_type": "code",
   "execution_count": 42,
   "metadata": {
    "collapsed": false
   },
   "outputs": [
    {
     "data": {
      "text/html": [
       "<div>\n",
       "<table border=\"1\" class=\"dataframe\">\n",
       "  <thead>\n",
       "    <tr style=\"text-align: right;\">\n",
       "      <th></th>\n",
       "      <th>A</th>\n",
       "      <th>B</th>\n",
       "      <th>C</th>\n",
       "      <th>D</th>\n",
       "    </tr>\n",
       "  </thead>\n",
       "  <tbody>\n",
       "    <tr>\n",
       "      <th>2013-01-01</th>\n",
       "      <td>0.868362</td>\n",
       "      <td>0.156558</td>\n",
       "      <td>0.263619</td>\n",
       "      <td>0.041226</td>\n",
       "    </tr>\n",
       "    <tr>\n",
       "      <th>2013-01-02</th>\n",
       "      <td>-0.480030</td>\n",
       "      <td>-0.229957</td>\n",
       "      <td>0.003774</td>\n",
       "      <td>-0.843040</td>\n",
       "    </tr>\n",
       "    <tr>\n",
       "      <th>2013-01-03</th>\n",
       "      <td>-1.730713</td>\n",
       "      <td>-1.775864</td>\n",
       "      <td>-0.417897</td>\n",
       "      <td>-0.906080</td>\n",
       "    </tr>\n",
       "  </tbody>\n",
       "</table>\n",
       "</div>"
      ],
      "text/plain": [
       "                   A         B         C         D\n",
       "2013-01-01  0.868362  0.156558  0.263619  0.041226\n",
       "2013-01-02 -0.480030 -0.229957  0.003774 -0.843040\n",
       "2013-01-03 -1.730713 -1.775864 -0.417897 -0.906080"
      ]
     },
     "execution_count": 42,
     "metadata": {},
     "output_type": "execute_result"
    }
   ],
   "source": [
    "df[0:3] # exclusive right interval endpoint"
   ]
  },
  {
   "cell_type": "code",
   "execution_count": 43,
   "metadata": {
    "collapsed": false
   },
   "outputs": [
    {
     "data": {
      "text/html": [
       "<div>\n",
       "<table border=\"1\" class=\"dataframe\">\n",
       "  <thead>\n",
       "    <tr style=\"text-align: right;\">\n",
       "      <th></th>\n",
       "      <th>A</th>\n",
       "      <th>B</th>\n",
       "      <th>C</th>\n",
       "      <th>D</th>\n",
       "    </tr>\n",
       "  </thead>\n",
       "  <tbody>\n",
       "    <tr>\n",
       "      <th>2013-01-02</th>\n",
       "      <td>-0.480030</td>\n",
       "      <td>-0.229957</td>\n",
       "      <td>0.003774</td>\n",
       "      <td>-0.843040</td>\n",
       "    </tr>\n",
       "    <tr>\n",
       "      <th>2013-01-03</th>\n",
       "      <td>-1.730713</td>\n",
       "      <td>-1.775864</td>\n",
       "      <td>-0.417897</td>\n",
       "      <td>-0.906080</td>\n",
       "    </tr>\n",
       "    <tr>\n",
       "      <th>2013-01-04</th>\n",
       "      <td>1.151656</td>\n",
       "      <td>0.600024</td>\n",
       "      <td>1.286908</td>\n",
       "      <td>0.470892</td>\n",
       "    </tr>\n",
       "  </tbody>\n",
       "</table>\n",
       "</div>"
      ],
      "text/plain": [
       "                   A         B         C         D\n",
       "2013-01-02 -0.480030 -0.229957  0.003774 -0.843040\n",
       "2013-01-03 -1.730713 -1.775864 -0.417897 -0.906080\n",
       "2013-01-04  1.151656  0.600024  1.286908  0.470892"
      ]
     },
     "execution_count": 43,
     "metadata": {},
     "output_type": "execute_result"
    }
   ],
   "source": [
    "df['20130102':'20130104'] # inclusive(?) right interval endpoint"
   ]
  },
  {
   "cell_type": "markdown",
   "metadata": {},
   "source": [
    "#### Selection by label\n",
    "\n",
    "For getting a cross section using a label"
   ]
  },
  {
   "cell_type": "code",
   "execution_count": 44,
   "metadata": {
    "collapsed": false
   },
   "outputs": [
    {
     "data": {
      "text/plain": [
       "A    0.868362\n",
       "B    0.156558\n",
       "C    0.263619\n",
       "D    0.041226\n",
       "Name: 2013-01-01 00:00:00, dtype: float64"
      ]
     },
     "execution_count": 44,
     "metadata": {},
     "output_type": "execute_result"
    }
   ],
   "source": [
    "df.loc[dates[0]]"
   ]
  },
  {
   "cell_type": "markdown",
   "metadata": {},
   "source": [
    "Selecting on a multi-axis by label"
   ]
  },
  {
   "cell_type": "code",
   "execution_count": 46,
   "metadata": {
    "collapsed": false
   },
   "outputs": [
    {
     "data": {
      "text/html": [
       "<div>\n",
       "<table border=\"1\" class=\"dataframe\">\n",
       "  <thead>\n",
       "    <tr style=\"text-align: right;\">\n",
       "      <th></th>\n",
       "      <th>A</th>\n",
       "      <th>B</th>\n",
       "    </tr>\n",
       "  </thead>\n",
       "  <tbody>\n",
       "    <tr>\n",
       "      <th>2013-01-01</th>\n",
       "      <td>0.868362</td>\n",
       "      <td>0.156558</td>\n",
       "    </tr>\n",
       "    <tr>\n",
       "      <th>2013-01-02</th>\n",
       "      <td>-0.480030</td>\n",
       "      <td>-0.229957</td>\n",
       "    </tr>\n",
       "    <tr>\n",
       "      <th>2013-01-03</th>\n",
       "      <td>-1.730713</td>\n",
       "      <td>-1.775864</td>\n",
       "    </tr>\n",
       "    <tr>\n",
       "      <th>2013-01-04</th>\n",
       "      <td>1.151656</td>\n",
       "      <td>0.600024</td>\n",
       "    </tr>\n",
       "    <tr>\n",
       "      <th>2013-01-05</th>\n",
       "      <td>1.481628</td>\n",
       "      <td>-0.868354</td>\n",
       "    </tr>\n",
       "    <tr>\n",
       "      <th>2013-01-06</th>\n",
       "      <td>0.899309</td>\n",
       "      <td>-0.365555</td>\n",
       "    </tr>\n",
       "  </tbody>\n",
       "</table>\n",
       "</div>"
      ],
      "text/plain": [
       "                   A         B\n",
       "2013-01-01  0.868362  0.156558\n",
       "2013-01-02 -0.480030 -0.229957\n",
       "2013-01-03 -1.730713 -1.775864\n",
       "2013-01-04  1.151656  0.600024\n",
       "2013-01-05  1.481628 -0.868354\n",
       "2013-01-06  0.899309 -0.365555"
      ]
     },
     "execution_count": 46,
     "metadata": {},
     "output_type": "execute_result"
    }
   ],
   "source": [
    "df.loc[:,['A','B']]"
   ]
  },
  {
   "cell_type": "markdown",
   "metadata": {},
   "source": [
    "Showing label slicing, both endpoints are included"
   ]
  },
  {
   "cell_type": "code",
   "execution_count": 53,
   "metadata": {
    "collapsed": false
   },
   "outputs": [
    {
     "data": {
      "text/html": [
       "<div>\n",
       "<table border=\"1\" class=\"dataframe\">\n",
       "  <thead>\n",
       "    <tr style=\"text-align: right;\">\n",
       "      <th></th>\n",
       "      <th>A</th>\n",
       "      <th>B</th>\n",
       "    </tr>\n",
       "  </thead>\n",
       "  <tbody>\n",
       "    <tr>\n",
       "      <th>2013-01-02</th>\n",
       "      <td>-0.480030</td>\n",
       "      <td>-0.229957</td>\n",
       "    </tr>\n",
       "    <tr>\n",
       "      <th>2013-01-03</th>\n",
       "      <td>-1.730713</td>\n",
       "      <td>-1.775864</td>\n",
       "    </tr>\n",
       "    <tr>\n",
       "      <th>2013-01-04</th>\n",
       "      <td>1.151656</td>\n",
       "      <td>0.600024</td>\n",
       "    </tr>\n",
       "  </tbody>\n",
       "</table>\n",
       "</div>"
      ],
      "text/plain": [
       "                   A         B\n",
       "2013-01-02 -0.480030 -0.229957\n",
       "2013-01-03 -1.730713 -1.775864\n",
       "2013-01-04  1.151656  0.600024"
      ]
     },
     "execution_count": 53,
     "metadata": {},
     "output_type": "execute_result"
    }
   ],
   "source": [
    "df.loc['20130102':'20130104',['A','B']] # index=dates, columns=ABCD"
   ]
  },
  {
   "cell_type": "markdown",
   "metadata": {},
   "source": [
    "Reduction in the dimensions of the returned object"
   ]
  },
  {
   "cell_type": "code",
   "execution_count": 58,
   "metadata": {
    "collapsed": false
   },
   "outputs": [
    {
     "data": {
      "text/plain": [
       "A   -0.480030\n",
       "B   -0.229957\n",
       "Name: 2013-01-02 00:00:00, dtype: float64"
      ]
     },
     "execution_count": 58,
     "metadata": {},
     "output_type": "execute_result"
    }
   ],
   "source": [
    "df.loc['20130102', ['A','B']] # in this case it's a series?"
   ]
  },
  {
   "cell_type": "code",
   "execution_count": 59,
   "metadata": {
    "collapsed": false
   },
   "outputs": [
    {
     "data": {
      "text/plain": [
       "pandas.core.series.Series"
      ]
     },
     "execution_count": 59,
     "metadata": {},
     "output_type": "execute_result"
    }
   ],
   "source": [
    "type(df.loc['20130102', ['A','B']]) # YEP"
   ]
  },
  {
   "cell_type": "markdown",
   "metadata": {},
   "source": [
    "For getting a scalar value"
   ]
  },
  {
   "cell_type": "code",
   "execution_count": 63,
   "metadata": {
    "collapsed": false
   },
   "outputs": [
    {
     "data": {
      "text/plain": [
       "0.86836212829174686"
      ]
     },
     "execution_count": 63,
     "metadata": {},
     "output_type": "execute_result"
    }
   ],
   "source": [
    "df.loc[dates[0],'A']"
   ]
  },
  {
   "cell_type": "markdown",
   "metadata": {},
   "source": [
    "For getting fast access to a scalar (equiv to the prior method)"
   ]
  },
  {
   "cell_type": "code",
   "execution_count": 68,
   "metadata": {
    "collapsed": false
   },
   "outputs": [
    {
     "data": {
      "text/plain": [
       "0.86836212829174686"
      ]
     },
     "execution_count": 68,
     "metadata": {},
     "output_type": "execute_result"
    }
   ],
   "source": [
    "df.at[dates[0],'A']"
   ]
  },
  {
   "cell_type": "markdown",
   "metadata": {},
   "source": [
    "#### Selection by Position\n",
    "Select via the position of the passed integers"
   ]
  },
  {
   "cell_type": "code",
   "execution_count": 69,
   "metadata": {
    "collapsed": false
   },
   "outputs": [
    {
     "data": {
      "text/plain": [
       "A    1.151656\n",
       "B    0.600024\n",
       "C    1.286908\n",
       "D    0.470892\n",
       "Name: 2013-01-04 00:00:00, dtype: float64"
      ]
     },
     "execution_count": 69,
     "metadata": {},
     "output_type": "execute_result"
    }
   ],
   "source": [
    "df.iloc[3] # series again, 4th row"
   ]
  },
  {
   "cell_type": "markdown",
   "metadata": {},
   "source": [
    "By integer slices, acting similar to numpy/python"
   ]
  },
  {
   "cell_type": "code",
   "execution_count": 73,
   "metadata": {
    "collapsed": false
   },
   "outputs": [
    {
     "data": {
      "text/html": [
       "<div>\n",
       "<table border=\"1\" class=\"dataframe\">\n",
       "  <thead>\n",
       "    <tr style=\"text-align: right;\">\n",
       "      <th></th>\n",
       "      <th>A</th>\n",
       "      <th>B</th>\n",
       "    </tr>\n",
       "  </thead>\n",
       "  <tbody>\n",
       "    <tr>\n",
       "      <th>2013-01-04</th>\n",
       "      <td>1.151656</td>\n",
       "      <td>0.600024</td>\n",
       "    </tr>\n",
       "    <tr>\n",
       "      <th>2013-01-05</th>\n",
       "      <td>1.481628</td>\n",
       "      <td>-0.868354</td>\n",
       "    </tr>\n",
       "  </tbody>\n",
       "</table>\n",
       "</div>"
      ],
      "text/plain": [
       "                   A         B\n",
       "2013-01-04  1.151656  0.600024\n",
       "2013-01-05  1.481628 -0.868354"
      ]
     },
     "execution_count": 73,
     "metadata": {},
     "output_type": "execute_result"
    }
   ],
   "source": [
    "df.iloc[3:5,0:2]"
   ]
  },
  {
   "cell_type": "markdown",
   "metadata": {},
   "source": [
    "By lists of integer position locations, similar to the numpy/python style"
   ]
  },
  {
   "cell_type": "code",
   "execution_count": 74,
   "metadata": {
    "collapsed": false
   },
   "outputs": [
    {
     "data": {
      "text/html": [
       "<div>\n",
       "<table border=\"1\" class=\"dataframe\">\n",
       "  <thead>\n",
       "    <tr style=\"text-align: right;\">\n",
       "      <th></th>\n",
       "      <th>A</th>\n",
       "      <th>C</th>\n",
       "    </tr>\n",
       "  </thead>\n",
       "  <tbody>\n",
       "    <tr>\n",
       "      <th>2013-01-02</th>\n",
       "      <td>-0.480030</td>\n",
       "      <td>0.003774</td>\n",
       "    </tr>\n",
       "    <tr>\n",
       "      <th>2013-01-03</th>\n",
       "      <td>-1.730713</td>\n",
       "      <td>-0.417897</td>\n",
       "    </tr>\n",
       "    <tr>\n",
       "      <th>2013-01-05</th>\n",
       "      <td>1.481628</td>\n",
       "      <td>-0.058743</td>\n",
       "    </tr>\n",
       "  </tbody>\n",
       "</table>\n",
       "</div>"
      ],
      "text/plain": [
       "                   A         C\n",
       "2013-01-02 -0.480030  0.003774\n",
       "2013-01-03 -1.730713 -0.417897\n",
       "2013-01-05  1.481628 -0.058743"
      ]
     },
     "execution_count": 74,
     "metadata": {},
     "output_type": "execute_result"
    }
   ],
   "source": [
    "df.iloc[[1,2,4],[0,2]]"
   ]
  },
  {
   "cell_type": "markdown",
   "metadata": {},
   "source": [
    "For slicing rows explicitly"
   ]
  },
  {
   "cell_type": "code",
   "execution_count": 77,
   "metadata": {
    "collapsed": false
   },
   "outputs": [
    {
     "data": {
      "text/html": [
       "<div>\n",
       "<table border=\"1\" class=\"dataframe\">\n",
       "  <thead>\n",
       "    <tr style=\"text-align: right;\">\n",
       "      <th></th>\n",
       "      <th>B</th>\n",
       "      <th>C</th>\n",
       "    </tr>\n",
       "  </thead>\n",
       "  <tbody>\n",
       "    <tr>\n",
       "      <th>2013-01-01</th>\n",
       "      <td>0.156558</td>\n",
       "      <td>0.263619</td>\n",
       "    </tr>\n",
       "    <tr>\n",
       "      <th>2013-01-02</th>\n",
       "      <td>-0.229957</td>\n",
       "      <td>0.003774</td>\n",
       "    </tr>\n",
       "    <tr>\n",
       "      <th>2013-01-03</th>\n",
       "      <td>-1.775864</td>\n",
       "      <td>-0.417897</td>\n",
       "    </tr>\n",
       "    <tr>\n",
       "      <th>2013-01-04</th>\n",
       "      <td>0.600024</td>\n",
       "      <td>1.286908</td>\n",
       "    </tr>\n",
       "    <tr>\n",
       "      <th>2013-01-05</th>\n",
       "      <td>-0.868354</td>\n",
       "      <td>-0.058743</td>\n",
       "    </tr>\n",
       "    <tr>\n",
       "      <th>2013-01-06</th>\n",
       "      <td>-0.365555</td>\n",
       "      <td>-1.714416</td>\n",
       "    </tr>\n",
       "  </tbody>\n",
       "</table>\n",
       "</div>"
      ],
      "text/plain": [
       "                   B         C\n",
       "2013-01-01  0.156558  0.263619\n",
       "2013-01-02 -0.229957  0.003774\n",
       "2013-01-03 -1.775864 -0.417897\n",
       "2013-01-04  0.600024  1.286908\n",
       "2013-01-05 -0.868354 -0.058743\n",
       "2013-01-06 -0.365555 -1.714416"
      ]
     },
     "execution_count": 77,
     "metadata": {},
     "output_type": "execute_result"
    }
   ],
   "source": [
    "df.iloc[:,1:3]"
   ]
  },
  {
   "cell_type": "markdown",
   "metadata": {},
   "source": [
    "For getting a value explicitly"
   ]
  },
  {
   "cell_type": "code",
   "execution_count": 78,
   "metadata": {
    "collapsed": false
   },
   "outputs": [
    {
     "data": {
      "text/plain": [
       "-0.22995721120419454"
      ]
     },
     "execution_count": 78,
     "metadata": {},
     "output_type": "execute_result"
    }
   ],
   "source": [
    "df.iloc[1,1]"
   ]
  },
  {
   "cell_type": "markdown",
   "metadata": {},
   "source": [
    "For getting fast access to a scalar (equiv to the prior method)"
   ]
  },
  {
   "cell_type": "code",
   "execution_count": 79,
   "metadata": {
    "collapsed": false
   },
   "outputs": [
    {
     "data": {
      "text/plain": [
       "-0.22995721120419454"
      ]
     },
     "execution_count": 79,
     "metadata": {},
     "output_type": "execute_result"
    }
   ],
   "source": [
    "df.iat[1,1]"
   ]
  },
  {
   "cell_type": "markdown",
   "metadata": {},
   "source": [
    "#### Boolean Indexing"
   ]
  },
  {
   "cell_type": "markdown",
   "metadata": {},
   "source": [
    "Using a single column’s values to select data."
   ]
  },
  {
   "cell_type": "code",
   "execution_count": 81,
   "metadata": {
    "collapsed": false
   },
   "outputs": [
    {
     "data": {
      "text/html": [
       "<div>\n",
       "<table border=\"1\" class=\"dataframe\">\n",
       "  <thead>\n",
       "    <tr style=\"text-align: right;\">\n",
       "      <th></th>\n",
       "      <th>A</th>\n",
       "      <th>B</th>\n",
       "      <th>C</th>\n",
       "      <th>D</th>\n",
       "    </tr>\n",
       "  </thead>\n",
       "  <tbody>\n",
       "    <tr>\n",
       "      <th>2013-01-01</th>\n",
       "      <td>0.868362</td>\n",
       "      <td>0.156558</td>\n",
       "      <td>0.263619</td>\n",
       "      <td>0.041226</td>\n",
       "    </tr>\n",
       "    <tr>\n",
       "      <th>2013-01-04</th>\n",
       "      <td>1.151656</td>\n",
       "      <td>0.600024</td>\n",
       "      <td>1.286908</td>\n",
       "      <td>0.470892</td>\n",
       "    </tr>\n",
       "    <tr>\n",
       "      <th>2013-01-05</th>\n",
       "      <td>1.481628</td>\n",
       "      <td>-0.868354</td>\n",
       "      <td>-0.058743</td>\n",
       "      <td>0.298252</td>\n",
       "    </tr>\n",
       "    <tr>\n",
       "      <th>2013-01-06</th>\n",
       "      <td>0.899309</td>\n",
       "      <td>-0.365555</td>\n",
       "      <td>-1.714416</td>\n",
       "      <td>-1.175684</td>\n",
       "    </tr>\n",
       "  </tbody>\n",
       "</table>\n",
       "</div>"
      ],
      "text/plain": [
       "                   A         B         C         D\n",
       "2013-01-01  0.868362  0.156558  0.263619  0.041226\n",
       "2013-01-04  1.151656  0.600024  1.286908  0.470892\n",
       "2013-01-05  1.481628 -0.868354 -0.058743  0.298252\n",
       "2013-01-06  0.899309 -0.365555 -1.714416 -1.175684"
      ]
     },
     "execution_count": 81,
     "metadata": {},
     "output_type": "execute_result"
    }
   ],
   "source": [
    "df[df.A>0]"
   ]
  },
  {
   "cell_type": "markdown",
   "metadata": {},
   "source": [
    "A where operation for getting."
   ]
  },
  {
   "cell_type": "code",
   "execution_count": 82,
   "metadata": {
    "collapsed": false
   },
   "outputs": [
    {
     "data": {
      "text/html": [
       "<div>\n",
       "<table border=\"1\" class=\"dataframe\">\n",
       "  <thead>\n",
       "    <tr style=\"text-align: right;\">\n",
       "      <th></th>\n",
       "      <th>A</th>\n",
       "      <th>B</th>\n",
       "      <th>C</th>\n",
       "      <th>D</th>\n",
       "    </tr>\n",
       "  </thead>\n",
       "  <tbody>\n",
       "    <tr>\n",
       "      <th>2013-01-01</th>\n",
       "      <td>0.868362</td>\n",
       "      <td>0.156558</td>\n",
       "      <td>0.263619</td>\n",
       "      <td>0.041226</td>\n",
       "    </tr>\n",
       "    <tr>\n",
       "      <th>2013-01-02</th>\n",
       "      <td>NaN</td>\n",
       "      <td>NaN</td>\n",
       "      <td>0.003774</td>\n",
       "      <td>NaN</td>\n",
       "    </tr>\n",
       "    <tr>\n",
       "      <th>2013-01-03</th>\n",
       "      <td>NaN</td>\n",
       "      <td>NaN</td>\n",
       "      <td>NaN</td>\n",
       "      <td>NaN</td>\n",
       "    </tr>\n",
       "    <tr>\n",
       "      <th>2013-01-04</th>\n",
       "      <td>1.151656</td>\n",
       "      <td>0.600024</td>\n",
       "      <td>1.286908</td>\n",
       "      <td>0.470892</td>\n",
       "    </tr>\n",
       "    <tr>\n",
       "      <th>2013-01-05</th>\n",
       "      <td>1.481628</td>\n",
       "      <td>NaN</td>\n",
       "      <td>NaN</td>\n",
       "      <td>0.298252</td>\n",
       "    </tr>\n",
       "    <tr>\n",
       "      <th>2013-01-06</th>\n",
       "      <td>0.899309</td>\n",
       "      <td>NaN</td>\n",
       "      <td>NaN</td>\n",
       "      <td>NaN</td>\n",
       "    </tr>\n",
       "  </tbody>\n",
       "</table>\n",
       "</div>"
      ],
      "text/plain": [
       "                   A         B         C         D\n",
       "2013-01-01  0.868362  0.156558  0.263619  0.041226\n",
       "2013-01-02       NaN       NaN  0.003774       NaN\n",
       "2013-01-03       NaN       NaN       NaN       NaN\n",
       "2013-01-04  1.151656  0.600024  1.286908  0.470892\n",
       "2013-01-05  1.481628       NaN       NaN  0.298252\n",
       "2013-01-06  0.899309       NaN       NaN       NaN"
      ]
     },
     "execution_count": 82,
     "metadata": {},
     "output_type": "execute_result"
    }
   ],
   "source": [
    "df[df>0]"
   ]
  },
  {
   "cell_type": "markdown",
   "metadata": {},
   "source": [
    "Using the isin() method for filtering:"
   ]
  },
  {
   "cell_type": "code",
   "execution_count": 83,
   "metadata": {
    "collapsed": true
   },
   "outputs": [],
   "source": [
    "df2 = df.copy()\n",
    "df2['E'] = ['one','one','two','three','four','three']"
   ]
  },
  {
   "cell_type": "code",
   "execution_count": 84,
   "metadata": {
    "collapsed": false
   },
   "outputs": [
    {
     "data": {
      "text/html": [
       "<div>\n",
       "<table border=\"1\" class=\"dataframe\">\n",
       "  <thead>\n",
       "    <tr style=\"text-align: right;\">\n",
       "      <th></th>\n",
       "      <th>A</th>\n",
       "      <th>B</th>\n",
       "      <th>C</th>\n",
       "      <th>D</th>\n",
       "      <th>E</th>\n",
       "    </tr>\n",
       "  </thead>\n",
       "  <tbody>\n",
       "    <tr>\n",
       "      <th>2013-01-01</th>\n",
       "      <td>0.868362</td>\n",
       "      <td>0.156558</td>\n",
       "      <td>0.263619</td>\n",
       "      <td>0.041226</td>\n",
       "      <td>one</td>\n",
       "    </tr>\n",
       "    <tr>\n",
       "      <th>2013-01-02</th>\n",
       "      <td>-0.480030</td>\n",
       "      <td>-0.229957</td>\n",
       "      <td>0.003774</td>\n",
       "      <td>-0.843040</td>\n",
       "      <td>one</td>\n",
       "    </tr>\n",
       "    <tr>\n",
       "      <th>2013-01-03</th>\n",
       "      <td>-1.730713</td>\n",
       "      <td>-1.775864</td>\n",
       "      <td>-0.417897</td>\n",
       "      <td>-0.906080</td>\n",
       "      <td>two</td>\n",
       "    </tr>\n",
       "    <tr>\n",
       "      <th>2013-01-04</th>\n",
       "      <td>1.151656</td>\n",
       "      <td>0.600024</td>\n",
       "      <td>1.286908</td>\n",
       "      <td>0.470892</td>\n",
       "      <td>three</td>\n",
       "    </tr>\n",
       "    <tr>\n",
       "      <th>2013-01-05</th>\n",
       "      <td>1.481628</td>\n",
       "      <td>-0.868354</td>\n",
       "      <td>-0.058743</td>\n",
       "      <td>0.298252</td>\n",
       "      <td>four</td>\n",
       "    </tr>\n",
       "    <tr>\n",
       "      <th>2013-01-06</th>\n",
       "      <td>0.899309</td>\n",
       "      <td>-0.365555</td>\n",
       "      <td>-1.714416</td>\n",
       "      <td>-1.175684</td>\n",
       "      <td>three</td>\n",
       "    </tr>\n",
       "  </tbody>\n",
       "</table>\n",
       "</div>"
      ],
      "text/plain": [
       "                   A         B         C         D      E\n",
       "2013-01-01  0.868362  0.156558  0.263619  0.041226    one\n",
       "2013-01-02 -0.480030 -0.229957  0.003774 -0.843040    one\n",
       "2013-01-03 -1.730713 -1.775864 -0.417897 -0.906080    two\n",
       "2013-01-04  1.151656  0.600024  1.286908  0.470892  three\n",
       "2013-01-05  1.481628 -0.868354 -0.058743  0.298252   four\n",
       "2013-01-06  0.899309 -0.365555 -1.714416 -1.175684  three"
      ]
     },
     "execution_count": 84,
     "metadata": {},
     "output_type": "execute_result"
    }
   ],
   "source": [
    "df2"
   ]
  },
  {
   "cell_type": "code",
   "execution_count": 85,
   "metadata": {
    "collapsed": false
   },
   "outputs": [
    {
     "data": {
      "text/html": [
       "<div>\n",
       "<table border=\"1\" class=\"dataframe\">\n",
       "  <thead>\n",
       "    <tr style=\"text-align: right;\">\n",
       "      <th></th>\n",
       "      <th>A</th>\n",
       "      <th>B</th>\n",
       "      <th>C</th>\n",
       "      <th>D</th>\n",
       "      <th>E</th>\n",
       "    </tr>\n",
       "  </thead>\n",
       "  <tbody>\n",
       "    <tr>\n",
       "      <th>2013-01-03</th>\n",
       "      <td>-1.730713</td>\n",
       "      <td>-1.775864</td>\n",
       "      <td>-0.417897</td>\n",
       "      <td>-0.906080</td>\n",
       "      <td>two</td>\n",
       "    </tr>\n",
       "    <tr>\n",
       "      <th>2013-01-05</th>\n",
       "      <td>1.481628</td>\n",
       "      <td>-0.868354</td>\n",
       "      <td>-0.058743</td>\n",
       "      <td>0.298252</td>\n",
       "      <td>four</td>\n",
       "    </tr>\n",
       "  </tbody>\n",
       "</table>\n",
       "</div>"
      ],
      "text/plain": [
       "                   A         B         C         D     E\n",
       "2013-01-03 -1.730713 -1.775864 -0.417897 -0.906080   two\n",
       "2013-01-05  1.481628 -0.868354 -0.058743  0.298252  four"
      ]
     },
     "execution_count": 85,
     "metadata": {},
     "output_type": "execute_result"
    }
   ],
   "source": [
    "df2[df2['E'].isin(['two','four'])]"
   ]
  },
  {
   "cell_type": "markdown",
   "metadata": {},
   "source": [
    "Setting a new column automatically aligns the data by the indexes"
   ]
  },
  {
   "cell_type": "code",
   "execution_count": 86,
   "metadata": {
    "collapsed": true
   },
   "outputs": [],
   "source": [
    "s1 = pd.Series([1,2,3,4,5,6], index = pd.date_range('20130102', periods=6))"
   ]
  },
  {
   "cell_type": "code",
   "execution_count": 87,
   "metadata": {
    "collapsed": false
   },
   "outputs": [
    {
     "data": {
      "text/plain": [
       "2013-01-02    1\n",
       "2013-01-03    2\n",
       "2013-01-04    3\n",
       "2013-01-05    4\n",
       "2013-01-06    5\n",
       "2013-01-07    6\n",
       "Freq: D, dtype: int64"
      ]
     },
     "execution_count": 87,
     "metadata": {},
     "output_type": "execute_result"
    }
   ],
   "source": [
    "s1"
   ]
  },
  {
   "cell_type": "code",
   "execution_count": 88,
   "metadata": {
    "collapsed": true
   },
   "outputs": [],
   "source": [
    "df['F'] = s1"
   ]
  },
  {
   "cell_type": "code",
   "execution_count": 89,
   "metadata": {
    "collapsed": false
   },
   "outputs": [
    {
     "data": {
      "text/html": [
       "<div>\n",
       "<table border=\"1\" class=\"dataframe\">\n",
       "  <thead>\n",
       "    <tr style=\"text-align: right;\">\n",
       "      <th></th>\n",
       "      <th>A</th>\n",
       "      <th>B</th>\n",
       "      <th>C</th>\n",
       "      <th>D</th>\n",
       "      <th>F</th>\n",
       "    </tr>\n",
       "  </thead>\n",
       "  <tbody>\n",
       "    <tr>\n",
       "      <th>2013-01-01</th>\n",
       "      <td>0.868362</td>\n",
       "      <td>0.156558</td>\n",
       "      <td>0.263619</td>\n",
       "      <td>0.041226</td>\n",
       "      <td>NaN</td>\n",
       "    </tr>\n",
       "    <tr>\n",
       "      <th>2013-01-02</th>\n",
       "      <td>-0.480030</td>\n",
       "      <td>-0.229957</td>\n",
       "      <td>0.003774</td>\n",
       "      <td>-0.843040</td>\n",
       "      <td>1</td>\n",
       "    </tr>\n",
       "    <tr>\n",
       "      <th>2013-01-03</th>\n",
       "      <td>-1.730713</td>\n",
       "      <td>-1.775864</td>\n",
       "      <td>-0.417897</td>\n",
       "      <td>-0.906080</td>\n",
       "      <td>2</td>\n",
       "    </tr>\n",
       "    <tr>\n",
       "      <th>2013-01-04</th>\n",
       "      <td>1.151656</td>\n",
       "      <td>0.600024</td>\n",
       "      <td>1.286908</td>\n",
       "      <td>0.470892</td>\n",
       "      <td>3</td>\n",
       "    </tr>\n",
       "    <tr>\n",
       "      <th>2013-01-05</th>\n",
       "      <td>1.481628</td>\n",
       "      <td>-0.868354</td>\n",
       "      <td>-0.058743</td>\n",
       "      <td>0.298252</td>\n",
       "      <td>4</td>\n",
       "    </tr>\n",
       "    <tr>\n",
       "      <th>2013-01-06</th>\n",
       "      <td>0.899309</td>\n",
       "      <td>-0.365555</td>\n",
       "      <td>-1.714416</td>\n",
       "      <td>-1.175684</td>\n",
       "      <td>5</td>\n",
       "    </tr>\n",
       "  </tbody>\n",
       "</table>\n",
       "</div>"
      ],
      "text/plain": [
       "                   A         B         C         D   F\n",
       "2013-01-01  0.868362  0.156558  0.263619  0.041226 NaN\n",
       "2013-01-02 -0.480030 -0.229957  0.003774 -0.843040   1\n",
       "2013-01-03 -1.730713 -1.775864 -0.417897 -0.906080   2\n",
       "2013-01-04  1.151656  0.600024  1.286908  0.470892   3\n",
       "2013-01-05  1.481628 -0.868354 -0.058743  0.298252   4\n",
       "2013-01-06  0.899309 -0.365555 -1.714416 -1.175684   5"
      ]
     },
     "execution_count": 89,
     "metadata": {},
     "output_type": "execute_result"
    }
   ],
   "source": [
    "df # so the value 6 is missing because of alignment"
   ]
  },
  {
   "cell_type": "markdown",
   "metadata": {},
   "source": [
    "Setting values by label"
   ]
  },
  {
   "cell_type": "code",
   "execution_count": 90,
   "metadata": {
    "collapsed": true
   },
   "outputs": [],
   "source": [
    "df.at[dates[0],'A'] = 0"
   ]
  },
  {
   "cell_type": "markdown",
   "metadata": {},
   "source": [
    "Setting values by position"
   ]
  },
  {
   "cell_type": "code",
   "execution_count": 92,
   "metadata": {
    "collapsed": true
   },
   "outputs": [],
   "source": [
    "df.iat[0,1] = 0"
   ]
  },
  {
   "cell_type": "code",
   "execution_count": 94,
   "metadata": {
    "collapsed": false
   },
   "outputs": [
    {
     "data": {
      "text/html": [
       "<div>\n",
       "<table border=\"1\" class=\"dataframe\">\n",
       "  <thead>\n",
       "    <tr style=\"text-align: right;\">\n",
       "      <th></th>\n",
       "      <th>A</th>\n",
       "      <th>B</th>\n",
       "      <th>C</th>\n",
       "      <th>D</th>\n",
       "      <th>F</th>\n",
       "    </tr>\n",
       "  </thead>\n",
       "  <tbody>\n",
       "    <tr>\n",
       "      <th>2013-01-01</th>\n",
       "      <td>0.000000</td>\n",
       "      <td>0.000000</td>\n",
       "      <td>0.263619</td>\n",
       "      <td>0.041226</td>\n",
       "      <td>NaN</td>\n",
       "    </tr>\n",
       "    <tr>\n",
       "      <th>2013-01-02</th>\n",
       "      <td>-0.480030</td>\n",
       "      <td>-0.229957</td>\n",
       "      <td>0.003774</td>\n",
       "      <td>-0.843040</td>\n",
       "      <td>1</td>\n",
       "    </tr>\n",
       "    <tr>\n",
       "      <th>2013-01-03</th>\n",
       "      <td>-1.730713</td>\n",
       "      <td>-1.775864</td>\n",
       "      <td>-0.417897</td>\n",
       "      <td>-0.906080</td>\n",
       "      <td>2</td>\n",
       "    </tr>\n",
       "    <tr>\n",
       "      <th>2013-01-04</th>\n",
       "      <td>1.151656</td>\n",
       "      <td>0.600024</td>\n",
       "      <td>1.286908</td>\n",
       "      <td>0.470892</td>\n",
       "      <td>3</td>\n",
       "    </tr>\n",
       "    <tr>\n",
       "      <th>2013-01-05</th>\n",
       "      <td>1.481628</td>\n",
       "      <td>-0.868354</td>\n",
       "      <td>-0.058743</td>\n",
       "      <td>0.298252</td>\n",
       "      <td>4</td>\n",
       "    </tr>\n",
       "    <tr>\n",
       "      <th>2013-01-06</th>\n",
       "      <td>0.899309</td>\n",
       "      <td>-0.365555</td>\n",
       "      <td>-1.714416</td>\n",
       "      <td>-1.175684</td>\n",
       "      <td>5</td>\n",
       "    </tr>\n",
       "  </tbody>\n",
       "</table>\n",
       "</div>"
      ],
      "text/plain": [
       "                   A         B         C         D   F\n",
       "2013-01-01  0.000000  0.000000  0.263619  0.041226 NaN\n",
       "2013-01-02 -0.480030 -0.229957  0.003774 -0.843040   1\n",
       "2013-01-03 -1.730713 -1.775864 -0.417897 -0.906080   2\n",
       "2013-01-04  1.151656  0.600024  1.286908  0.470892   3\n",
       "2013-01-05  1.481628 -0.868354 -0.058743  0.298252   4\n",
       "2013-01-06  0.899309 -0.365555 -1.714416 -1.175684   5"
      ]
     },
     "execution_count": 94,
     "metadata": {},
     "output_type": "execute_result"
    }
   ],
   "source": [
    "df"
   ]
  },
  {
   "cell_type": "markdown",
   "metadata": {},
   "source": [
    "Setting by assigning with a numpy array"
   ]
  },
  {
   "cell_type": "code",
   "execution_count": 96,
   "metadata": {
    "collapsed": false
   },
   "outputs": [],
   "source": [
    "df.loc[:,'D'] = np.array([5] * len(df))"
   ]
  },
  {
   "cell_type": "code",
   "execution_count": 97,
   "metadata": {
    "collapsed": false
   },
   "outputs": [
    {
     "data": {
      "text/html": [
       "<div>\n",
       "<table border=\"1\" class=\"dataframe\">\n",
       "  <thead>\n",
       "    <tr style=\"text-align: right;\">\n",
       "      <th></th>\n",
       "      <th>A</th>\n",
       "      <th>B</th>\n",
       "      <th>C</th>\n",
       "      <th>D</th>\n",
       "      <th>F</th>\n",
       "    </tr>\n",
       "  </thead>\n",
       "  <tbody>\n",
       "    <tr>\n",
       "      <th>2013-01-01</th>\n",
       "      <td>0.000000</td>\n",
       "      <td>0.000000</td>\n",
       "      <td>0.263619</td>\n",
       "      <td>5</td>\n",
       "      <td>NaN</td>\n",
       "    </tr>\n",
       "    <tr>\n",
       "      <th>2013-01-02</th>\n",
       "      <td>-0.480030</td>\n",
       "      <td>-0.229957</td>\n",
       "      <td>0.003774</td>\n",
       "      <td>5</td>\n",
       "      <td>1</td>\n",
       "    </tr>\n",
       "    <tr>\n",
       "      <th>2013-01-03</th>\n",
       "      <td>-1.730713</td>\n",
       "      <td>-1.775864</td>\n",
       "      <td>-0.417897</td>\n",
       "      <td>5</td>\n",
       "      <td>2</td>\n",
       "    </tr>\n",
       "    <tr>\n",
       "      <th>2013-01-04</th>\n",
       "      <td>1.151656</td>\n",
       "      <td>0.600024</td>\n",
       "      <td>1.286908</td>\n",
       "      <td>5</td>\n",
       "      <td>3</td>\n",
       "    </tr>\n",
       "    <tr>\n",
       "      <th>2013-01-05</th>\n",
       "      <td>1.481628</td>\n",
       "      <td>-0.868354</td>\n",
       "      <td>-0.058743</td>\n",
       "      <td>5</td>\n",
       "      <td>4</td>\n",
       "    </tr>\n",
       "    <tr>\n",
       "      <th>2013-01-06</th>\n",
       "      <td>0.899309</td>\n",
       "      <td>-0.365555</td>\n",
       "      <td>-1.714416</td>\n",
       "      <td>5</td>\n",
       "      <td>5</td>\n",
       "    </tr>\n",
       "  </tbody>\n",
       "</table>\n",
       "</div>"
      ],
      "text/plain": [
       "                   A         B         C  D   F\n",
       "2013-01-01  0.000000  0.000000  0.263619  5 NaN\n",
       "2013-01-02 -0.480030 -0.229957  0.003774  5   1\n",
       "2013-01-03 -1.730713 -1.775864 -0.417897  5   2\n",
       "2013-01-04  1.151656  0.600024  1.286908  5   3\n",
       "2013-01-05  1.481628 -0.868354 -0.058743  5   4\n",
       "2013-01-06  0.899309 -0.365555 -1.714416  5   5"
      ]
     },
     "execution_count": 97,
     "metadata": {},
     "output_type": "execute_result"
    }
   ],
   "source": [
    "df"
   ]
  },
  {
   "cell_type": "markdown",
   "metadata": {},
   "source": [
    "A where operation with setting."
   ]
  },
  {
   "cell_type": "code",
   "execution_count": 98,
   "metadata": {
    "collapsed": false
   },
   "outputs": [
    {
     "data": {
      "text/html": [
       "<div>\n",
       "<table border=\"1\" class=\"dataframe\">\n",
       "  <thead>\n",
       "    <tr style=\"text-align: right;\">\n",
       "      <th></th>\n",
       "      <th>A</th>\n",
       "      <th>B</th>\n",
       "      <th>C</th>\n",
       "      <th>D</th>\n",
       "      <th>F</th>\n",
       "    </tr>\n",
       "  </thead>\n",
       "  <tbody>\n",
       "    <tr>\n",
       "      <th>2013-01-01</th>\n",
       "      <td>0.000000</td>\n",
       "      <td>0.000000</td>\n",
       "      <td>-0.263619</td>\n",
       "      <td>-5</td>\n",
       "      <td>NaN</td>\n",
       "    </tr>\n",
       "    <tr>\n",
       "      <th>2013-01-02</th>\n",
       "      <td>-0.480030</td>\n",
       "      <td>-0.229957</td>\n",
       "      <td>-0.003774</td>\n",
       "      <td>-5</td>\n",
       "      <td>-1</td>\n",
       "    </tr>\n",
       "    <tr>\n",
       "      <th>2013-01-03</th>\n",
       "      <td>-1.730713</td>\n",
       "      <td>-1.775864</td>\n",
       "      <td>-0.417897</td>\n",
       "      <td>-5</td>\n",
       "      <td>-2</td>\n",
       "    </tr>\n",
       "    <tr>\n",
       "      <th>2013-01-04</th>\n",
       "      <td>-1.151656</td>\n",
       "      <td>-0.600024</td>\n",
       "      <td>-1.286908</td>\n",
       "      <td>-5</td>\n",
       "      <td>-3</td>\n",
       "    </tr>\n",
       "    <tr>\n",
       "      <th>2013-01-05</th>\n",
       "      <td>-1.481628</td>\n",
       "      <td>-0.868354</td>\n",
       "      <td>-0.058743</td>\n",
       "      <td>-5</td>\n",
       "      <td>-4</td>\n",
       "    </tr>\n",
       "    <tr>\n",
       "      <th>2013-01-06</th>\n",
       "      <td>-0.899309</td>\n",
       "      <td>-0.365555</td>\n",
       "      <td>-1.714416</td>\n",
       "      <td>-5</td>\n",
       "      <td>-5</td>\n",
       "    </tr>\n",
       "  </tbody>\n",
       "</table>\n",
       "</div>"
      ],
      "text/plain": [
       "                   A         B         C  D   F\n",
       "2013-01-01  0.000000  0.000000 -0.263619 -5 NaN\n",
       "2013-01-02 -0.480030 -0.229957 -0.003774 -5  -1\n",
       "2013-01-03 -1.730713 -1.775864 -0.417897 -5  -2\n",
       "2013-01-04 -1.151656 -0.600024 -1.286908 -5  -3\n",
       "2013-01-05 -1.481628 -0.868354 -0.058743 -5  -4\n",
       "2013-01-06 -0.899309 -0.365555 -1.714416 -5  -5"
      ]
     },
     "execution_count": 98,
     "metadata": {},
     "output_type": "execute_result"
    }
   ],
   "source": [
    "df2 = df.copy()\n",
    "df2[df2>0] = -df2\n",
    "df2 # all positive are negative now"
   ]
  },
  {
   "cell_type": "markdown",
   "metadata": {},
   "source": [
    "#### Missing Data\n",
    "\n",
    "pandas primarily uses the value np.nan to represent missing data. It is by default not included in computations.\n",
    "Reindexing allows you to change/add/delete the index on a specified axis. This returns a copy of the data."
   ]
  },
  {
   "cell_type": "code",
   "execution_count": 100,
   "metadata": {
    "collapsed": false
   },
   "outputs": [],
   "source": [
    "df1 = df.reindex(index=dates[0:4], columns = list(df.columns) + ['E'])"
   ]
  },
  {
   "cell_type": "code",
   "execution_count": 121,
   "metadata": {
    "collapsed": false
   },
   "outputs": [
    {
     "data": {
      "text/html": [
       "<div>\n",
       "<table border=\"1\" class=\"dataframe\">\n",
       "  <thead>\n",
       "    <tr style=\"text-align: right;\">\n",
       "      <th></th>\n",
       "      <th>A</th>\n",
       "      <th>B</th>\n",
       "      <th>C</th>\n",
       "      <th>D</th>\n",
       "      <th>F</th>\n",
       "      <th>E</th>\n",
       "    </tr>\n",
       "  </thead>\n",
       "  <tbody>\n",
       "    <tr>\n",
       "      <th>2013-01-01</th>\n",
       "      <td>0.000000</td>\n",
       "      <td>0.000000</td>\n",
       "      <td>0.263619</td>\n",
       "      <td>5</td>\n",
       "      <td>NaN</td>\n",
       "      <td>NaN</td>\n",
       "    </tr>\n",
       "    <tr>\n",
       "      <th>2013-01-02</th>\n",
       "      <td>-0.480030</td>\n",
       "      <td>-0.229957</td>\n",
       "      <td>0.003774</td>\n",
       "      <td>5</td>\n",
       "      <td>1</td>\n",
       "      <td>NaN</td>\n",
       "    </tr>\n",
       "    <tr>\n",
       "      <th>2013-01-03</th>\n",
       "      <td>-1.730713</td>\n",
       "      <td>-1.775864</td>\n",
       "      <td>-0.417897</td>\n",
       "      <td>5</td>\n",
       "      <td>2</td>\n",
       "      <td>NaN</td>\n",
       "    </tr>\n",
       "    <tr>\n",
       "      <th>2013-01-04</th>\n",
       "      <td>1.151656</td>\n",
       "      <td>0.600024</td>\n",
       "      <td>1.286908</td>\n",
       "      <td>5</td>\n",
       "      <td>3</td>\n",
       "      <td>NaN</td>\n",
       "    </tr>\n",
       "  </tbody>\n",
       "</table>\n",
       "</div>"
      ],
      "text/plain": [
       "                   A         B         C  D   F   E\n",
       "2013-01-01  0.000000  0.000000  0.263619  5 NaN NaN\n",
       "2013-01-02 -0.480030 -0.229957  0.003774  5   1 NaN\n",
       "2013-01-03 -1.730713 -1.775864 -0.417897  5   2 NaN\n",
       "2013-01-04  1.151656  0.600024  1.286908  5   3 NaN"
      ]
     },
     "execution_count": 121,
     "metadata": {},
     "output_type": "execute_result"
    }
   ],
   "source": [
    "df1"
   ]
  },
  {
   "cell_type": "code",
   "execution_count": 122,
   "metadata": {
    "collapsed": true
   },
   "outputs": [],
   "source": [
    "df1.loc[dates[0]:dates[1],'E'] = 1"
   ]
  },
  {
   "cell_type": "code",
   "execution_count": 123,
   "metadata": {
    "collapsed": false
   },
   "outputs": [
    {
     "data": {
      "text/html": [
       "<div>\n",
       "<table border=\"1\" class=\"dataframe\">\n",
       "  <thead>\n",
       "    <tr style=\"text-align: right;\">\n",
       "      <th></th>\n",
       "      <th>A</th>\n",
       "      <th>B</th>\n",
       "      <th>C</th>\n",
       "      <th>D</th>\n",
       "      <th>F</th>\n",
       "      <th>E</th>\n",
       "    </tr>\n",
       "  </thead>\n",
       "  <tbody>\n",
       "    <tr>\n",
       "      <th>2013-01-01</th>\n",
       "      <td>0.000000</td>\n",
       "      <td>0.000000</td>\n",
       "      <td>0.263619</td>\n",
       "      <td>5</td>\n",
       "      <td>NaN</td>\n",
       "      <td>1</td>\n",
       "    </tr>\n",
       "    <tr>\n",
       "      <th>2013-01-02</th>\n",
       "      <td>-0.480030</td>\n",
       "      <td>-0.229957</td>\n",
       "      <td>0.003774</td>\n",
       "      <td>5</td>\n",
       "      <td>1</td>\n",
       "      <td>1</td>\n",
       "    </tr>\n",
       "    <tr>\n",
       "      <th>2013-01-03</th>\n",
       "      <td>-1.730713</td>\n",
       "      <td>-1.775864</td>\n",
       "      <td>-0.417897</td>\n",
       "      <td>5</td>\n",
       "      <td>2</td>\n",
       "      <td>NaN</td>\n",
       "    </tr>\n",
       "    <tr>\n",
       "      <th>2013-01-04</th>\n",
       "      <td>1.151656</td>\n",
       "      <td>0.600024</td>\n",
       "      <td>1.286908</td>\n",
       "      <td>5</td>\n",
       "      <td>3</td>\n",
       "      <td>NaN</td>\n",
       "    </tr>\n",
       "  </tbody>\n",
       "</table>\n",
       "</div>"
      ],
      "text/plain": [
       "                   A         B         C  D   F   E\n",
       "2013-01-01  0.000000  0.000000  0.263619  5 NaN   1\n",
       "2013-01-02 -0.480030 -0.229957  0.003774  5   1   1\n",
       "2013-01-03 -1.730713 -1.775864 -0.417897  5   2 NaN\n",
       "2013-01-04  1.151656  0.600024  1.286908  5   3 NaN"
      ]
     },
     "execution_count": 123,
     "metadata": {},
     "output_type": "execute_result"
    }
   ],
   "source": [
    "df1"
   ]
  },
  {
   "cell_type": "markdown",
   "metadata": {},
   "source": [
    "To drop any rows that have missing data."
   ]
  },
  {
   "cell_type": "code",
   "execution_count": 124,
   "metadata": {
    "collapsed": false
   },
   "outputs": [
    {
     "data": {
      "text/html": [
       "<div>\n",
       "<table border=\"1\" class=\"dataframe\">\n",
       "  <thead>\n",
       "    <tr style=\"text-align: right;\">\n",
       "      <th></th>\n",
       "      <th>A</th>\n",
       "      <th>B</th>\n",
       "      <th>C</th>\n",
       "      <th>D</th>\n",
       "      <th>F</th>\n",
       "      <th>E</th>\n",
       "    </tr>\n",
       "  </thead>\n",
       "  <tbody>\n",
       "    <tr>\n",
       "      <th>2013-01-02</th>\n",
       "      <td>-0.48003</td>\n",
       "      <td>-0.229957</td>\n",
       "      <td>0.003774</td>\n",
       "      <td>5</td>\n",
       "      <td>1</td>\n",
       "      <td>1</td>\n",
       "    </tr>\n",
       "  </tbody>\n",
       "</table>\n",
       "</div>"
      ],
      "text/plain": [
       "                  A         B         C  D  F  E\n",
       "2013-01-02 -0.48003 -0.229957  0.003774  5  1  1"
      ]
     },
     "execution_count": 124,
     "metadata": {},
     "output_type": "execute_result"
    }
   ],
   "source": [
    "df1.dropna(how='any')"
   ]
  },
  {
   "cell_type": "markdown",
   "metadata": {},
   "source": [
    "Filling missing data"
   ]
  },
  {
   "cell_type": "code",
   "execution_count": 125,
   "metadata": {
    "collapsed": false
   },
   "outputs": [
    {
     "data": {
      "text/html": [
       "<div>\n",
       "<table border=\"1\" class=\"dataframe\">\n",
       "  <thead>\n",
       "    <tr style=\"text-align: right;\">\n",
       "      <th></th>\n",
       "      <th>A</th>\n",
       "      <th>B</th>\n",
       "      <th>C</th>\n",
       "      <th>D</th>\n",
       "      <th>F</th>\n",
       "      <th>E</th>\n",
       "    </tr>\n",
       "  </thead>\n",
       "  <tbody>\n",
       "    <tr>\n",
       "      <th>2013-01-01</th>\n",
       "      <td>0.000000</td>\n",
       "      <td>0.000000</td>\n",
       "      <td>0.263619</td>\n",
       "      <td>5</td>\n",
       "      <td>5</td>\n",
       "      <td>1</td>\n",
       "    </tr>\n",
       "    <tr>\n",
       "      <th>2013-01-02</th>\n",
       "      <td>-0.480030</td>\n",
       "      <td>-0.229957</td>\n",
       "      <td>0.003774</td>\n",
       "      <td>5</td>\n",
       "      <td>1</td>\n",
       "      <td>1</td>\n",
       "    </tr>\n",
       "    <tr>\n",
       "      <th>2013-01-03</th>\n",
       "      <td>-1.730713</td>\n",
       "      <td>-1.775864</td>\n",
       "      <td>-0.417897</td>\n",
       "      <td>5</td>\n",
       "      <td>2</td>\n",
       "      <td>5</td>\n",
       "    </tr>\n",
       "    <tr>\n",
       "      <th>2013-01-04</th>\n",
       "      <td>1.151656</td>\n",
       "      <td>0.600024</td>\n",
       "      <td>1.286908</td>\n",
       "      <td>5</td>\n",
       "      <td>3</td>\n",
       "      <td>5</td>\n",
       "    </tr>\n",
       "  </tbody>\n",
       "</table>\n",
       "</div>"
      ],
      "text/plain": [
       "                   A         B         C  D  F  E\n",
       "2013-01-01  0.000000  0.000000  0.263619  5  5  1\n",
       "2013-01-02 -0.480030 -0.229957  0.003774  5  1  1\n",
       "2013-01-03 -1.730713 -1.775864 -0.417897  5  2  5\n",
       "2013-01-04  1.151656  0.600024  1.286908  5  3  5"
      ]
     },
     "execution_count": 125,
     "metadata": {},
     "output_type": "execute_result"
    }
   ],
   "source": [
    "df1.fillna(value=5)"
   ]
  },
  {
   "cell_type": "markdown",
   "metadata": {},
   "source": [
    "To get the boolean mask where values are nan"
   ]
  },
  {
   "cell_type": "code",
   "execution_count": 126,
   "metadata": {
    "collapsed": false
   },
   "outputs": [
    {
     "data": {
      "text/html": [
       "<div>\n",
       "<table border=\"1\" class=\"dataframe\">\n",
       "  <thead>\n",
       "    <tr style=\"text-align: right;\">\n",
       "      <th></th>\n",
       "      <th>A</th>\n",
       "      <th>B</th>\n",
       "      <th>C</th>\n",
       "      <th>D</th>\n",
       "      <th>F</th>\n",
       "      <th>E</th>\n",
       "    </tr>\n",
       "  </thead>\n",
       "  <tbody>\n",
       "    <tr>\n",
       "      <th>2013-01-01</th>\n",
       "      <td>False</td>\n",
       "      <td>False</td>\n",
       "      <td>False</td>\n",
       "      <td>False</td>\n",
       "      <td>True</td>\n",
       "      <td>False</td>\n",
       "    </tr>\n",
       "    <tr>\n",
       "      <th>2013-01-02</th>\n",
       "      <td>False</td>\n",
       "      <td>False</td>\n",
       "      <td>False</td>\n",
       "      <td>False</td>\n",
       "      <td>False</td>\n",
       "      <td>False</td>\n",
       "    </tr>\n",
       "    <tr>\n",
       "      <th>2013-01-03</th>\n",
       "      <td>False</td>\n",
       "      <td>False</td>\n",
       "      <td>False</td>\n",
       "      <td>False</td>\n",
       "      <td>False</td>\n",
       "      <td>True</td>\n",
       "    </tr>\n",
       "    <tr>\n",
       "      <th>2013-01-04</th>\n",
       "      <td>False</td>\n",
       "      <td>False</td>\n",
       "      <td>False</td>\n",
       "      <td>False</td>\n",
       "      <td>False</td>\n",
       "      <td>True</td>\n",
       "    </tr>\n",
       "  </tbody>\n",
       "</table>\n",
       "</div>"
      ],
      "text/plain": [
       "                A      B      C      D      F      E\n",
       "2013-01-01  False  False  False  False   True  False\n",
       "2013-01-02  False  False  False  False  False  False\n",
       "2013-01-03  False  False  False  False  False   True\n",
       "2013-01-04  False  False  False  False  False   True"
      ]
     },
     "execution_count": 126,
     "metadata": {},
     "output_type": "execute_result"
    }
   ],
   "source": [
    "pd.isnull(df1)"
   ]
  },
  {
   "cell_type": "markdown",
   "metadata": {},
   "source": [
    "Operations in general exclude missing data.\n",
    "\n",
    "Performing a descriptive statistic"
   ]
  },
  {
   "cell_type": "code",
   "execution_count": 127,
   "metadata": {
    "collapsed": false
   },
   "outputs": [
    {
     "data": {
      "text/plain": [
       "A    0.220308\n",
       "B   -0.439951\n",
       "C   -0.106126\n",
       "D    5.000000\n",
       "F    3.000000\n",
       "dtype: float64"
      ]
     },
     "execution_count": 127,
     "metadata": {},
     "output_type": "execute_result"
    }
   ],
   "source": [
    "df.mean() # per column"
   ]
  },
  {
   "cell_type": "markdown",
   "metadata": {},
   "source": [
    "Same operation on the other axis"
   ]
  },
  {
   "cell_type": "code",
   "execution_count": 128,
   "metadata": {
    "collapsed": false
   },
   "outputs": [
    {
     "data": {
      "text/plain": [
       "2013-01-01    1.315905\n",
       "2013-01-02    1.058757\n",
       "2013-01-03    0.615105\n",
       "2013-01-04    2.207718\n",
       "2013-01-05    1.910906\n",
       "2013-01-06    1.763868\n",
       "Freq: D, dtype: float64"
      ]
     },
     "execution_count": 128,
     "metadata": {},
     "output_type": "execute_result"
    }
   ],
   "source": [
    "df.mean(1) # per row"
   ]
  },
  {
   "cell_type": "raw",
   "metadata": {},
   "source": [
    "Operating with objects that have different dimensionality and need alignment. In addition, pandas automatically broadcasts along the specified dimension."
   ]
  },
  {
   "cell_type": "code",
   "execution_count": 129,
   "metadata": {
    "collapsed": true
   },
   "outputs": [],
   "source": [
    "s = pd.Series([1,3,5, np.nan, 6,8], index=dates).shift(2) # shifted 2 down"
   ]
  },
  {
   "cell_type": "code",
   "execution_count": 130,
   "metadata": {
    "collapsed": false
   },
   "outputs": [
    {
     "data": {
      "text/plain": [
       "2013-01-01   NaN\n",
       "2013-01-02   NaN\n",
       "2013-01-03     1\n",
       "2013-01-04     3\n",
       "2013-01-05     5\n",
       "2013-01-06   NaN\n",
       "Freq: D, dtype: float64"
      ]
     },
     "execution_count": 130,
     "metadata": {},
     "output_type": "execute_result"
    }
   ],
   "source": [
    "s"
   ]
  },
  {
   "cell_type": "code",
   "execution_count": 133,
   "metadata": {
    "collapsed": false
   },
   "outputs": [
    {
     "data": {
      "text/html": [
       "<div>\n",
       "<table border=\"1\" class=\"dataframe\">\n",
       "  <thead>\n",
       "    <tr style=\"text-align: right;\">\n",
       "      <th></th>\n",
       "      <th>A</th>\n",
       "      <th>B</th>\n",
       "      <th>C</th>\n",
       "      <th>D</th>\n",
       "      <th>F</th>\n",
       "    </tr>\n",
       "  </thead>\n",
       "  <tbody>\n",
       "    <tr>\n",
       "      <th>2013-01-01</th>\n",
       "      <td>0.000000</td>\n",
       "      <td>0.000000</td>\n",
       "      <td>0.263619</td>\n",
       "      <td>5</td>\n",
       "      <td>NaN</td>\n",
       "    </tr>\n",
       "    <tr>\n",
       "      <th>2013-01-02</th>\n",
       "      <td>-0.480030</td>\n",
       "      <td>-0.229957</td>\n",
       "      <td>0.003774</td>\n",
       "      <td>5</td>\n",
       "      <td>1</td>\n",
       "    </tr>\n",
       "    <tr>\n",
       "      <th>2013-01-03</th>\n",
       "      <td>-1.730713</td>\n",
       "      <td>-1.775864</td>\n",
       "      <td>-0.417897</td>\n",
       "      <td>5</td>\n",
       "      <td>2</td>\n",
       "    </tr>\n",
       "    <tr>\n",
       "      <th>2013-01-04</th>\n",
       "      <td>1.151656</td>\n",
       "      <td>0.600024</td>\n",
       "      <td>1.286908</td>\n",
       "      <td>5</td>\n",
       "      <td>3</td>\n",
       "    </tr>\n",
       "    <tr>\n",
       "      <th>2013-01-05</th>\n",
       "      <td>1.481628</td>\n",
       "      <td>-0.868354</td>\n",
       "      <td>-0.058743</td>\n",
       "      <td>5</td>\n",
       "      <td>4</td>\n",
       "    </tr>\n",
       "    <tr>\n",
       "      <th>2013-01-06</th>\n",
       "      <td>0.899309</td>\n",
       "      <td>-0.365555</td>\n",
       "      <td>-1.714416</td>\n",
       "      <td>5</td>\n",
       "      <td>5</td>\n",
       "    </tr>\n",
       "  </tbody>\n",
       "</table>\n",
       "</div>"
      ],
      "text/plain": [
       "                   A         B         C  D   F\n",
       "2013-01-01  0.000000  0.000000  0.263619  5 NaN\n",
       "2013-01-02 -0.480030 -0.229957  0.003774  5   1\n",
       "2013-01-03 -1.730713 -1.775864 -0.417897  5   2\n",
       "2013-01-04  1.151656  0.600024  1.286908  5   3\n",
       "2013-01-05  1.481628 -0.868354 -0.058743  5   4\n",
       "2013-01-06  0.899309 -0.365555 -1.714416  5   5"
      ]
     },
     "execution_count": 133,
     "metadata": {},
     "output_type": "execute_result"
    }
   ],
   "source": [
    "df"
   ]
  },
  {
   "cell_type": "code",
   "execution_count": 134,
   "metadata": {
    "collapsed": false
   },
   "outputs": [
    {
     "data": {
      "text/html": [
       "<div>\n",
       "<table border=\"1\" class=\"dataframe\">\n",
       "  <thead>\n",
       "    <tr style=\"text-align: right;\">\n",
       "      <th></th>\n",
       "      <th>A</th>\n",
       "      <th>B</th>\n",
       "      <th>C</th>\n",
       "      <th>D</th>\n",
       "      <th>F</th>\n",
       "    </tr>\n",
       "  </thead>\n",
       "  <tbody>\n",
       "    <tr>\n",
       "      <th>2013-01-01</th>\n",
       "      <td>NaN</td>\n",
       "      <td>NaN</td>\n",
       "      <td>NaN</td>\n",
       "      <td>NaN</td>\n",
       "      <td>NaN</td>\n",
       "    </tr>\n",
       "    <tr>\n",
       "      <th>2013-01-02</th>\n",
       "      <td>NaN</td>\n",
       "      <td>NaN</td>\n",
       "      <td>NaN</td>\n",
       "      <td>NaN</td>\n",
       "      <td>NaN</td>\n",
       "    </tr>\n",
       "    <tr>\n",
       "      <th>2013-01-03</th>\n",
       "      <td>-2.730713</td>\n",
       "      <td>-2.775864</td>\n",
       "      <td>-1.417897</td>\n",
       "      <td>4</td>\n",
       "      <td>1</td>\n",
       "    </tr>\n",
       "    <tr>\n",
       "      <th>2013-01-04</th>\n",
       "      <td>-1.848344</td>\n",
       "      <td>-2.399976</td>\n",
       "      <td>-1.713092</td>\n",
       "      <td>2</td>\n",
       "      <td>0</td>\n",
       "    </tr>\n",
       "    <tr>\n",
       "      <th>2013-01-05</th>\n",
       "      <td>-3.518372</td>\n",
       "      <td>-5.868354</td>\n",
       "      <td>-5.058743</td>\n",
       "      <td>0</td>\n",
       "      <td>-1</td>\n",
       "    </tr>\n",
       "    <tr>\n",
       "      <th>2013-01-06</th>\n",
       "      <td>NaN</td>\n",
       "      <td>NaN</td>\n",
       "      <td>NaN</td>\n",
       "      <td>NaN</td>\n",
       "      <td>NaN</td>\n",
       "    </tr>\n",
       "  </tbody>\n",
       "</table>\n",
       "</div>"
      ],
      "text/plain": [
       "                   A         B         C   D   F\n",
       "2013-01-01       NaN       NaN       NaN NaN NaN\n",
       "2013-01-02       NaN       NaN       NaN NaN NaN\n",
       "2013-01-03 -2.730713 -2.775864 -1.417897   4   1\n",
       "2013-01-04 -1.848344 -2.399976 -1.713092   2   0\n",
       "2013-01-05 -3.518372 -5.868354 -5.058743   0  -1\n",
       "2013-01-06       NaN       NaN       NaN NaN NaN"
      ]
     },
     "execution_count": 134,
     "metadata": {},
     "output_type": "execute_result"
    }
   ],
   "source": [
    "df.sub(s, axis='index') # subtract using the series s from above (like a filter on each column)"
   ]
  },
  {
   "cell_type": "markdown",
   "metadata": {},
   "source": [
    "Applying functions to the data"
   ]
  },
  {
   "cell_type": "code",
   "execution_count": 135,
   "metadata": {
    "collapsed": false
   },
   "outputs": [
    {
     "data": {
      "text/html": [
       "<div>\n",
       "<table border=\"1\" class=\"dataframe\">\n",
       "  <thead>\n",
       "    <tr style=\"text-align: right;\">\n",
       "      <th></th>\n",
       "      <th>A</th>\n",
       "      <th>B</th>\n",
       "      <th>C</th>\n",
       "      <th>D</th>\n",
       "      <th>F</th>\n",
       "    </tr>\n",
       "  </thead>\n",
       "  <tbody>\n",
       "    <tr>\n",
       "      <th>2013-01-01</th>\n",
       "      <td>0.000000</td>\n",
       "      <td>0.000000</td>\n",
       "      <td>0.263619</td>\n",
       "      <td>5</td>\n",
       "      <td>NaN</td>\n",
       "    </tr>\n",
       "    <tr>\n",
       "      <th>2013-01-02</th>\n",
       "      <td>-0.480030</td>\n",
       "      <td>-0.229957</td>\n",
       "      <td>0.267393</td>\n",
       "      <td>10</td>\n",
       "      <td>1</td>\n",
       "    </tr>\n",
       "    <tr>\n",
       "      <th>2013-01-03</th>\n",
       "      <td>-2.210743</td>\n",
       "      <td>-2.005821</td>\n",
       "      <td>-0.150504</td>\n",
       "      <td>15</td>\n",
       "      <td>3</td>\n",
       "    </tr>\n",
       "    <tr>\n",
       "      <th>2013-01-04</th>\n",
       "      <td>-1.059087</td>\n",
       "      <td>-1.405797</td>\n",
       "      <td>1.136404</td>\n",
       "      <td>20</td>\n",
       "      <td>6</td>\n",
       "    </tr>\n",
       "    <tr>\n",
       "      <th>2013-01-05</th>\n",
       "      <td>0.422541</td>\n",
       "      <td>-2.274151</td>\n",
       "      <td>1.077661</td>\n",
       "      <td>25</td>\n",
       "      <td>10</td>\n",
       "    </tr>\n",
       "    <tr>\n",
       "      <th>2013-01-06</th>\n",
       "      <td>1.321850</td>\n",
       "      <td>-2.639705</td>\n",
       "      <td>-0.636755</td>\n",
       "      <td>30</td>\n",
       "      <td>15</td>\n",
       "    </tr>\n",
       "  </tbody>\n",
       "</table>\n",
       "</div>"
      ],
      "text/plain": [
       "                   A         B         C   D   F\n",
       "2013-01-01  0.000000  0.000000  0.263619   5 NaN\n",
       "2013-01-02 -0.480030 -0.229957  0.267393  10   1\n",
       "2013-01-03 -2.210743 -2.005821 -0.150504  15   3\n",
       "2013-01-04 -1.059087 -1.405797  1.136404  20   6\n",
       "2013-01-05  0.422541 -2.274151  1.077661  25  10\n",
       "2013-01-06  1.321850 -2.639705 -0.636755  30  15"
      ]
     },
     "execution_count": 135,
     "metadata": {},
     "output_type": "execute_result"
    }
   ],
   "source": [
    "df.apply(np.cumsum) # cumulative sum on each column"
   ]
  },
  {
   "cell_type": "code",
   "execution_count": 136,
   "metadata": {
    "collapsed": false
   },
   "outputs": [
    {
     "data": {
      "text/plain": [
       "A    3.212341\n",
       "B    2.375888\n",
       "C    3.001323\n",
       "D    0.000000\n",
       "F    4.000000\n",
       "dtype: float64"
      ]
     },
     "execution_count": 136,
     "metadata": {},
     "output_type": "execute_result"
    }
   ],
   "source": [
    "df.apply(lambda x: x.max() - x.min())"
   ]
  },
  {
   "cell_type": "code",
   "execution_count": 137,
   "metadata": {
    "collapsed": false
   },
   "outputs": [
    {
     "data": {
      "text/plain": [
       "A    1.481628\n",
       "B    0.600024\n",
       "C    1.286908\n",
       "D    5.000000\n",
       "F    5.000000\n",
       "dtype: float64"
      ]
     },
     "execution_count": 137,
     "metadata": {},
     "output_type": "execute_result"
    }
   ],
   "source": [
    "df.apply(lambda x: x.max())"
   ]
  },
  {
   "cell_type": "code",
   "execution_count": 144,
   "metadata": {
    "collapsed": false
   },
   "outputs": [
    {
     "data": {
      "text/plain": [
       "A    1.481628\n",
       "B    0.600024\n",
       "C    1.286908\n",
       "D    5.000000\n",
       "F    5.000000\n",
       "Name: max, dtype: float64"
      ]
     },
     "execution_count": 144,
     "metadata": {},
     "output_type": "execute_result"
    }
   ],
   "source": [
    "df.describe().loc['max'] # same as above"
   ]
  },
  {
   "cell_type": "code",
   "execution_count": 160,
   "metadata": {
    "collapsed": false
   },
   "outputs": [
    {
     "name": "stdout",
     "output_type": "stream",
     "text": [
      "Populating the interactive namespace from numpy and matplotlib\n"
     ]
    }
   ],
   "source": [
    "%pylab inline\n",
    "s = pd.Series(np.random.randint(0,7, size=10))"
   ]
  },
  {
   "cell_type": "code",
   "execution_count": 161,
   "metadata": {
    "collapsed": false
   },
   "outputs": [
    {
     "data": {
      "text/plain": [
       "(array([ 1.,  0.,  3.,  0.,  2.,  0.,  0.,  0.,  2.,  2.]),\n",
       " array([ 1. ,  1.5,  2. ,  2.5,  3. ,  3.5,  4. ,  4.5,  5. ,  5.5,  6. ]),\n",
       " <a list of 10 Patch objects>)"
      ]
     },
     "execution_count": 161,
     "metadata": {},
     "output_type": "execute_result"
    },
    {
     "data": {
      "image/png": "[encoded data removed]",
      "text/plain": [
       "<matplotlib.figure.Figure at 0x7f3184959f10>"
      ]
     },
     "metadata": {},
     "output_type": "display_data"
    }
   ],
   "source": [
    "plt.hist(s)"
   ]
  },
  {
   "cell_type": "code",
   "execution_count": 147,
   "metadata": {
    "collapsed": true
   },
   "outputs": [],
   "source": [
    "plt.show()"
   ]
  },
  {
   "cell_type": "code",
   "execution_count": 162,
   "metadata": {
    "collapsed": false
   },
   "outputs": [
    {
     "data": {
      "text/plain": [
       "0    2\n",
       "1    6\n",
       "2    2\n",
       "3    3\n",
       "4    6\n",
       "5    1\n",
       "6    2\n",
       "7    5\n",
       "8    3\n",
       "9    5\n",
       "dtype: int64"
      ]
     },
     "execution_count": 162,
     "metadata": {},
     "output_type": "execute_result"
    }
   ],
   "source": [
    "s # dtype is now int64 (unlike in the tutorial)"
   ]
  },
  {
   "cell_type": "code",
   "execution_count": 163,
   "metadata": {
    "collapsed": false
   },
   "outputs": [
    {
     "data": {
      "text/plain": [
       "2    3\n",
       "6    2\n",
       "5    2\n",
       "3    2\n",
       "1    1\n",
       "dtype: int64"
      ]
     },
     "execution_count": 163,
     "metadata": {},
     "output_type": "execute_result"
    }
   ],
   "source": [
    "s.value_counts()"
   ]
  },
  {
   "cell_type": "markdown",
   "metadata": {},
   "source": [
    "#### String Methods\n",
    "\n",
    "Series is equipped with a set of string processing methods in the str attribute that make it easy to operate on each element of the array, as in the code snippet below. Note that pattern-matching in str generally uses regular expressions by default (and in some cases always uses them). "
   ]
  },
  {
   "cell_type": "code",
   "execution_count": 164,
   "metadata": {
    "collapsed": true
   },
   "outputs": [],
   "source": [
    "s = pd.Series(['A','B','C','Aaba','Baca',np.nan, 'CABA', 'dog','cat'])"
   ]
  },
  {
   "cell_type": "code",
   "execution_count": 166,
   "metadata": {
    "collapsed": false
   },
   "outputs": [
    {
     "data": {
      "text/plain": [
       "0       a\n",
       "1       b\n",
       "2       c\n",
       "3    aaba\n",
       "4    baca\n",
       "5     NaN\n",
       "6    caba\n",
       "7     dog\n",
       "8     cat\n",
       "dtype: object"
      ]
     },
     "execution_count": 166,
     "metadata": {},
     "output_type": "execute_result"
    }
   ],
   "source": [
    "s.str.lower()"
   ]
  },
  {
   "cell_type": "markdown",
   "metadata": {},
   "source": [
    "##### Concat\n",
    "\n",
    "pandas provides various facilities for easily combining together Series, DataFrame, and Panel objects with various kinds of set logic for the indexes and relational algebra functionality in the case of join / merge-type operations."
   ]
  },
  {
   "cell_type": "markdown",
   "metadata": {},
   "source": [
    "Concatenating pandas objects together with concat():"
   ]
  },
  {
   "cell_type": "code",
   "execution_count": 167,
   "metadata": {
    "collapsed": true
   },
   "outputs": [],
   "source": [
    "df = pd.DataFrame(np.random.randn(10,4))"
   ]
  },
  {
   "cell_type": "code",
   "execution_count": 168,
   "metadata": {
    "collapsed": false
   },
   "outputs": [
    {
     "data": {
      "text/html": [
       "<div>\n",
       "<table border=\"1\" class=\"dataframe\">\n",
       "  <thead>\n",
       "    <tr style=\"text-align: right;\">\n",
       "      <th></th>\n",
       "      <th>0</th>\n",
       "      <th>1</th>\n",
       "      <th>2</th>\n",
       "      <th>3</th>\n",
       "    </tr>\n",
       "  </thead>\n",
       "  <tbody>\n",
       "    <tr>\n",
       "      <th>0</th>\n",
       "      <td>-0.312194</td>\n",
       "      <td>-0.203804</td>\n",
       "      <td>-0.320096</td>\n",
       "      <td>0.385638</td>\n",
       "    </tr>\n",
       "    <tr>\n",
       "      <th>1</th>\n",
       "      <td>0.082351</td>\n",
       "      <td>1.443868</td>\n",
       "      <td>-1.232028</td>\n",
       "      <td>0.415933</td>\n",
       "    </tr>\n",
       "    <tr>\n",
       "      <th>2</th>\n",
       "      <td>0.236304</td>\n",
       "      <td>1.232210</td>\n",
       "      <td>0.371730</td>\n",
       "      <td>0.601898</td>\n",
       "    </tr>\n",
       "    <tr>\n",
       "      <th>3</th>\n",
       "      <td>-0.759646</td>\n",
       "      <td>0.558589</td>\n",
       "      <td>-0.878401</td>\n",
       "      <td>1.198437</td>\n",
       "    </tr>\n",
       "    <tr>\n",
       "      <th>4</th>\n",
       "      <td>0.759917</td>\n",
       "      <td>-0.475484</td>\n",
       "      <td>-0.634020</td>\n",
       "      <td>-1.261012</td>\n",
       "    </tr>\n",
       "    <tr>\n",
       "      <th>5</th>\n",
       "      <td>-0.462961</td>\n",
       "      <td>-0.166287</td>\n",
       "      <td>-0.371925</td>\n",
       "      <td>-0.576109</td>\n",
       "    </tr>\n",
       "    <tr>\n",
       "      <th>6</th>\n",
       "      <td>-0.236076</td>\n",
       "      <td>-1.061799</td>\n",
       "      <td>-0.389695</td>\n",
       "      <td>2.646204</td>\n",
       "    </tr>\n",
       "    <tr>\n",
       "      <th>7</th>\n",
       "      <td>-1.224767</td>\n",
       "      <td>-0.328354</td>\n",
       "      <td>-0.311855</td>\n",
       "      <td>-0.967542</td>\n",
       "    </tr>\n",
       "    <tr>\n",
       "      <th>8</th>\n",
       "      <td>-1.404278</td>\n",
       "      <td>-0.644139</td>\n",
       "      <td>0.944804</td>\n",
       "      <td>0.360481</td>\n",
       "    </tr>\n",
       "    <tr>\n",
       "      <th>9</th>\n",
       "      <td>0.177934</td>\n",
       "      <td>-1.428802</td>\n",
       "      <td>-0.389115</td>\n",
       "      <td>-0.731350</td>\n",
       "    </tr>\n",
       "  </tbody>\n",
       "</table>\n",
       "</div>"
      ],
      "text/plain": [
       "          0         1         2         3\n",
       "0 -0.312194 -0.203804 -0.320096  0.385638\n",
       "1  0.082351  1.443868 -1.232028  0.415933\n",
       "2  0.236304  1.232210  0.371730  0.601898\n",
       "3 -0.759646  0.558589 -0.878401  1.198437\n",
       "4  0.759917 -0.475484 -0.634020 -1.261012\n",
       "5 -0.462961 -0.166287 -0.371925 -0.576109\n",
       "6 -0.236076 -1.061799 -0.389695  2.646204\n",
       "7 -1.224767 -0.328354 -0.311855 -0.967542\n",
       "8 -1.404278 -0.644139  0.944804  0.360481\n",
       "9  0.177934 -1.428802 -0.389115 -0.731350"
      ]
     },
     "execution_count": 168,
     "metadata": {},
     "output_type": "execute_result"
    }
   ],
   "source": [
    "df"
   ]
  },
  {
   "cell_type": "code",
   "execution_count": 169,
   "metadata": {
    "collapsed": true
   },
   "outputs": [],
   "source": [
    "# break it into pieces\n",
    "\n",
    "pieces = [df[:3], df[3:7],df[7:]]"
   ]
  },
  {
   "cell_type": "code",
   "execution_count": 170,
   "metadata": {
    "collapsed": false
   },
   "outputs": [
    {
     "data": {
      "text/plain": [
       "[          0         1         2         3\n",
       " 0 -0.312194 -0.203804 -0.320096  0.385638\n",
       " 1  0.082351  1.443868 -1.232028  0.415933\n",
       " 2  0.236304  1.232210  0.371730  0.601898,\n",
       "           0         1         2         3\n",
       " 3 -0.759646  0.558589 -0.878401  1.198437\n",
       " 4  0.759917 -0.475484 -0.634020 -1.261012\n",
       " 5 -0.462961 -0.166287 -0.371925 -0.576109\n",
       " 6 -0.236076 -1.061799 -0.389695  2.646204,\n",
       "           0         1         2         3\n",
       " 7 -1.224767 -0.328354 -0.311855 -0.967542\n",
       " 8 -1.404278 -0.644139  0.944804  0.360481\n",
       " 9  0.177934 -1.428802 -0.389115 -0.731350]"
      ]
     },
     "execution_count": 170,
     "metadata": {},
     "output_type": "execute_result"
    }
   ],
   "source": [
    "pieces"
   ]
  },
  {
   "cell_type": "code",
   "execution_count": 172,
   "metadata": {
    "collapsed": false
   },
   "outputs": [
    {
     "data": {
      "text/html": [
       "<div>\n",
       "<table border=\"1\" class=\"dataframe\">\n",
       "  <thead>\n",
       "    <tr style=\"text-align: right;\">\n",
       "      <th></th>\n",
       "      <th>0</th>\n",
       "      <th>1</th>\n",
       "      <th>2</th>\n",
       "      <th>3</th>\n",
       "    </tr>\n",
       "  </thead>\n",
       "  <tbody>\n",
       "    <tr>\n",
       "      <th>0</th>\n",
       "      <td>-0.312194</td>\n",
       "      <td>-0.203804</td>\n",
       "      <td>-0.320096</td>\n",
       "      <td>0.385638</td>\n",
       "    </tr>\n",
       "    <tr>\n",
       "      <th>1</th>\n",
       "      <td>0.082351</td>\n",
       "      <td>1.443868</td>\n",
       "      <td>-1.232028</td>\n",
       "      <td>0.415933</td>\n",
       "    </tr>\n",
       "    <tr>\n",
       "      <th>2</th>\n",
       "      <td>0.236304</td>\n",
       "      <td>1.232210</td>\n",
       "      <td>0.371730</td>\n",
       "      <td>0.601898</td>\n",
       "    </tr>\n",
       "    <tr>\n",
       "      <th>3</th>\n",
       "      <td>-0.759646</td>\n",
       "      <td>0.558589</td>\n",
       "      <td>-0.878401</td>\n",
       "      <td>1.198437</td>\n",
       "    </tr>\n",
       "    <tr>\n",
       "      <th>4</th>\n",
       "      <td>0.759917</td>\n",
       "      <td>-0.475484</td>\n",
       "      <td>-0.634020</td>\n",
       "      <td>-1.261012</td>\n",
       "    </tr>\n",
       "    <tr>\n",
       "      <th>5</th>\n",
       "      <td>-0.462961</td>\n",
       "      <td>-0.166287</td>\n",
       "      <td>-0.371925</td>\n",
       "      <td>-0.576109</td>\n",
       "    </tr>\n",
       "    <tr>\n",
       "      <th>6</th>\n",
       "      <td>-0.236076</td>\n",
       "      <td>-1.061799</td>\n",
       "      <td>-0.389695</td>\n",
       "      <td>2.646204</td>\n",
       "    </tr>\n",
       "    <tr>\n",
       "      <th>7</th>\n",
       "      <td>-1.224767</td>\n",
       "      <td>-0.328354</td>\n",
       "      <td>-0.311855</td>\n",
       "      <td>-0.967542</td>\n",
       "    </tr>\n",
       "    <tr>\n",
       "      <th>8</th>\n",
       "      <td>-1.404278</td>\n",
       "      <td>-0.644139</td>\n",
       "      <td>0.944804</td>\n",
       "      <td>0.360481</td>\n",
       "    </tr>\n",
       "    <tr>\n",
       "      <th>9</th>\n",
       "      <td>0.177934</td>\n",
       "      <td>-1.428802</td>\n",
       "      <td>-0.389115</td>\n",
       "      <td>-0.731350</td>\n",
       "    </tr>\n",
       "  </tbody>\n",
       "</table>\n",
       "</div>"
      ],
      "text/plain": [
       "          0         1         2         3\n",
       "0 -0.312194 -0.203804 -0.320096  0.385638\n",
       "1  0.082351  1.443868 -1.232028  0.415933\n",
       "2  0.236304  1.232210  0.371730  0.601898\n",
       "3 -0.759646  0.558589 -0.878401  1.198437\n",
       "4  0.759917 -0.475484 -0.634020 -1.261012\n",
       "5 -0.462961 -0.166287 -0.371925 -0.576109\n",
       "6 -0.236076 -1.061799 -0.389695  2.646204\n",
       "7 -1.224767 -0.328354 -0.311855 -0.967542\n",
       "8 -1.404278 -0.644139  0.944804  0.360481\n",
       "9  0.177934 -1.428802 -0.389115 -0.731350"
      ]
     },
     "execution_count": 172,
     "metadata": {},
     "output_type": "execute_result"
    }
   ],
   "source": [
    "pd.concat(pieces)"
   ]
  },
  {
   "cell_type": "markdown",
   "metadata": {},
   "source": [
    "SQL style merges"
   ]
  },
  {
   "cell_type": "code",
   "execution_count": 173,
   "metadata": {
    "collapsed": true
   },
   "outputs": [],
   "source": [
    "left = pd.DataFrame({'key': ['foo','foo'], 'lval': [1, 2]})"
   ]
  },
  {
   "cell_type": "code",
   "execution_count": 174,
   "metadata": {
    "collapsed": true
   },
   "outputs": [],
   "source": [
    "right = pd.DataFrame({'key':['foo','foo'], 'rval': [4, 5]})"
   ]
  },
  {
   "cell_type": "code",
   "execution_count": 175,
   "metadata": {
    "collapsed": false
   },
   "outputs": [
    {
     "data": {
      "text/html": [
       "<div>\n",
       "<table border=\"1\" class=\"dataframe\">\n",
       "  <thead>\n",
       "    <tr style=\"text-align: right;\">\n",
       "      <th></th>\n",
       "      <th>key</th>\n",
       "      <th>lval</th>\n",
       "    </tr>\n",
       "  </thead>\n",
       "  <tbody>\n",
       "    <tr>\n",
       "      <th>0</th>\n",
       "      <td>foo</td>\n",
       "      <td>1</td>\n",
       "    </tr>\n",
       "    <tr>\n",
       "      <th>1</th>\n",
       "      <td>foo</td>\n",
       "      <td>2</td>\n",
       "    </tr>\n",
       "  </tbody>\n",
       "</table>\n",
       "</div>"
      ],
      "text/plain": [
       "   key  lval\n",
       "0  foo     1\n",
       "1  foo     2"
      ]
     },
     "execution_count": 175,
     "metadata": {},
     "output_type": "execute_result"
    }
   ],
   "source": [
    "left"
   ]
  },
  {
   "cell_type": "code",
   "execution_count": 176,
   "metadata": {
    "collapsed": false
   },
   "outputs": [
    {
     "data": {
      "text/html": [
       "<div>\n",
       "<table border=\"1\" class=\"dataframe\">\n",
       "  <thead>\n",
       "    <tr style=\"text-align: right;\">\n",
       "      <th></th>\n",
       "      <th>key</th>\n",
       "      <th>rval</th>\n",
       "    </tr>\n",
       "  </thead>\n",
       "  <tbody>\n",
       "    <tr>\n",
       "      <th>0</th>\n",
       "      <td>foo</td>\n",
       "      <td>4</td>\n",
       "    </tr>\n",
       "    <tr>\n",
       "      <th>1</th>\n",
       "      <td>foo</td>\n",
       "      <td>5</td>\n",
       "    </tr>\n",
       "  </tbody>\n",
       "</table>\n",
       "</div>"
      ],
      "text/plain": [
       "   key  rval\n",
       "0  foo     4\n",
       "1  foo     5"
      ]
     },
     "execution_count": 176,
     "metadata": {},
     "output_type": "execute_result"
    }
   ],
   "source": [
    "right"
   ]
  },
  {
   "cell_type": "code",
   "execution_count": 177,
   "metadata": {
    "collapsed": false
   },
   "outputs": [
    {
     "data": {
      "text/html": [
       "<div>\n",
       "<table border=\"1\" class=\"dataframe\">\n",
       "  <thead>\n",
       "    <tr style=\"text-align: right;\">\n",
       "      <th></th>\n",
       "      <th>key</th>\n",
       "      <th>lval</th>\n",
       "      <th>rval</th>\n",
       "    </tr>\n",
       "  </thead>\n",
       "  <tbody>\n",
       "    <tr>\n",
       "      <th>0</th>\n",
       "      <td>foo</td>\n",
       "      <td>1</td>\n",
       "      <td>4</td>\n",
       "    </tr>\n",
       "    <tr>\n",
       "      <th>1</th>\n",
       "      <td>foo</td>\n",
       "      <td>1</td>\n",
       "      <td>5</td>\n",
       "    </tr>\n",
       "    <tr>\n",
       "      <th>2</th>\n",
       "      <td>foo</td>\n",
       "      <td>2</td>\n",
       "      <td>4</td>\n",
       "    </tr>\n",
       "    <tr>\n",
       "      <th>3</th>\n",
       "      <td>foo</td>\n",
       "      <td>2</td>\n",
       "      <td>5</td>\n",
       "    </tr>\n",
       "  </tbody>\n",
       "</table>\n",
       "</div>"
      ],
      "text/plain": [
       "   key  lval  rval\n",
       "0  foo     1     4\n",
       "1  foo     1     5\n",
       "2  foo     2     4\n",
       "3  foo     2     5"
      ]
     },
     "execution_count": 177,
     "metadata": {},
     "output_type": "execute_result"
    }
   ],
   "source": [
    "pd.merge(left, right, on='key')"
   ]
  },
  {
   "cell_type": "markdown",
   "metadata": {},
   "source": [
    "Append rows to a dataframe"
   ]
  },
  {
   "cell_type": "code",
   "execution_count": 178,
   "metadata": {
    "collapsed": true
   },
   "outputs": [],
   "source": [
    "df = pd.DataFrame(np.random.randn(8, 4), columns = ['A','B','C','D'])"
   ]
  },
  {
   "cell_type": "code",
   "execution_count": 179,
   "metadata": {
    "collapsed": false
   },
   "outputs": [
    {
     "data": {
      "text/html": [
       "<div>\n",
       "<table border=\"1\" class=\"dataframe\">\n",
       "  <thead>\n",
       "    <tr style=\"text-align: right;\">\n",
       "      <th></th>\n",
       "      <th>A</th>\n",
       "      <th>B</th>\n",
       "      <th>C</th>\n",
       "      <th>D</th>\n",
       "    </tr>\n",
       "  </thead>\n",
       "  <tbody>\n",
       "    <tr>\n",
       "      <th>0</th>\n",
       "      <td>0.422265</td>\n",
       "      <td>-1.152002</td>\n",
       "      <td>0.255102</td>\n",
       "      <td>0.860435</td>\n",
       "    </tr>\n",
       "    <tr>\n",
       "      <th>1</th>\n",
       "      <td>2.011188</td>\n",
       "      <td>-0.534353</td>\n",
       "      <td>-1.750147</td>\n",
       "      <td>1.237453</td>\n",
       "    </tr>\n",
       "    <tr>\n",
       "      <th>2</th>\n",
       "      <td>0.014004</td>\n",
       "      <td>-0.090706</td>\n",
       "      <td>1.084330</td>\n",
       "      <td>-0.317372</td>\n",
       "    </tr>\n",
       "    <tr>\n",
       "      <th>3</th>\n",
       "      <td>2.707892</td>\n",
       "      <td>-0.892593</td>\n",
       "      <td>0.426252</td>\n",
       "      <td>0.491444</td>\n",
       "    </tr>\n",
       "    <tr>\n",
       "      <th>4</th>\n",
       "      <td>-1.607326</td>\n",
       "      <td>-1.070264</td>\n",
       "      <td>0.160909</td>\n",
       "      <td>0.727563</td>\n",
       "    </tr>\n",
       "    <tr>\n",
       "      <th>5</th>\n",
       "      <td>1.450901</td>\n",
       "      <td>-0.955145</td>\n",
       "      <td>-0.013749</td>\n",
       "      <td>0.415263</td>\n",
       "    </tr>\n",
       "    <tr>\n",
       "      <th>6</th>\n",
       "      <td>-1.037273</td>\n",
       "      <td>1.294661</td>\n",
       "      <td>0.990073</td>\n",
       "      <td>1.438208</td>\n",
       "    </tr>\n",
       "    <tr>\n",
       "      <th>7</th>\n",
       "      <td>0.587239</td>\n",
       "      <td>-0.227991</td>\n",
       "      <td>-0.677409</td>\n",
       "      <td>-0.554705</td>\n",
       "    </tr>\n",
       "  </tbody>\n",
       "</table>\n",
       "</div>"
      ],
      "text/plain": [
       "          A         B         C         D\n",
       "0  0.422265 -1.152002  0.255102  0.860435\n",
       "1  2.011188 -0.534353 -1.750147  1.237453\n",
       "2  0.014004 -0.090706  1.084330 -0.317372\n",
       "3  2.707892 -0.892593  0.426252  0.491444\n",
       "4 -1.607326 -1.070264  0.160909  0.727563\n",
       "5  1.450901 -0.955145 -0.013749  0.415263\n",
       "6 -1.037273  1.294661  0.990073  1.438208\n",
       "7  0.587239 -0.227991 -0.677409 -0.554705"
      ]
     },
     "execution_count": 179,
     "metadata": {},
     "output_type": "execute_result"
    }
   ],
   "source": [
    "df"
   ]
  },
  {
   "cell_type": "code",
   "execution_count": 180,
   "metadata": {
    "collapsed": true
   },
   "outputs": [],
   "source": [
    "s = df.iloc[3] # fourth row"
   ]
  },
  {
   "cell_type": "code",
   "execution_count": 181,
   "metadata": {
    "collapsed": false
   },
   "outputs": [
    {
     "data": {
      "text/plain": [
       "A    2.707892\n",
       "B   -0.892593\n",
       "C    0.426252\n",
       "D    0.491444\n",
       "Name: 3, dtype: float64"
      ]
     },
     "execution_count": 181,
     "metadata": {},
     "output_type": "execute_result"
    }
   ],
   "source": [
    "s"
   ]
  },
  {
   "cell_type": "code",
   "execution_count": 186,
   "metadata": {
    "collapsed": false
   },
   "outputs": [
    {
     "data": {
      "text/html": [
       "<div>\n",
       "<table border=\"1\" class=\"dataframe\">\n",
       "  <thead>\n",
       "    <tr style=\"text-align: right;\">\n",
       "      <th></th>\n",
       "      <th>A</th>\n",
       "      <th>B</th>\n",
       "      <th>C</th>\n",
       "      <th>D</th>\n",
       "    </tr>\n",
       "  </thead>\n",
       "  <tbody>\n",
       "    <tr>\n",
       "      <th>0</th>\n",
       "      <td>0.422265</td>\n",
       "      <td>-1.152002</td>\n",
       "      <td>0.255102</td>\n",
       "      <td>0.860435</td>\n",
       "    </tr>\n",
       "    <tr>\n",
       "      <th>1</th>\n",
       "      <td>2.011188</td>\n",
       "      <td>-0.534353</td>\n",
       "      <td>-1.750147</td>\n",
       "      <td>1.237453</td>\n",
       "    </tr>\n",
       "    <tr>\n",
       "      <th>2</th>\n",
       "      <td>0.014004</td>\n",
       "      <td>-0.090706</td>\n",
       "      <td>1.084330</td>\n",
       "      <td>-0.317372</td>\n",
       "    </tr>\n",
       "    <tr>\n",
       "      <th>3</th>\n",
       "      <td>2.707892</td>\n",
       "      <td>-0.892593</td>\n",
       "      <td>0.426252</td>\n",
       "      <td>0.491444</td>\n",
       "    </tr>\n",
       "    <tr>\n",
       "      <th>4</th>\n",
       "      <td>-1.607326</td>\n",
       "      <td>-1.070264</td>\n",
       "      <td>0.160909</td>\n",
       "      <td>0.727563</td>\n",
       "    </tr>\n",
       "    <tr>\n",
       "      <th>5</th>\n",
       "      <td>1.450901</td>\n",
       "      <td>-0.955145</td>\n",
       "      <td>-0.013749</td>\n",
       "      <td>0.415263</td>\n",
       "    </tr>\n",
       "    <tr>\n",
       "      <th>6</th>\n",
       "      <td>-1.037273</td>\n",
       "      <td>1.294661</td>\n",
       "      <td>0.990073</td>\n",
       "      <td>1.438208</td>\n",
       "    </tr>\n",
       "    <tr>\n",
       "      <th>7</th>\n",
       "      <td>0.587239</td>\n",
       "      <td>-0.227991</td>\n",
       "      <td>-0.677409</td>\n",
       "      <td>-0.554705</td>\n",
       "    </tr>\n",
       "    <tr>\n",
       "      <th>8</th>\n",
       "      <td>2.707892</td>\n",
       "      <td>-0.892593</td>\n",
       "      <td>0.426252</td>\n",
       "      <td>0.491444</td>\n",
       "    </tr>\n",
       "  </tbody>\n",
       "</table>\n",
       "</div>"
      ],
      "text/plain": [
       "          A         B         C         D\n",
       "0  0.422265 -1.152002  0.255102  0.860435\n",
       "1  2.011188 -0.534353 -1.750147  1.237453\n",
       "2  0.014004 -0.090706  1.084330 -0.317372\n",
       "3  2.707892 -0.892593  0.426252  0.491444\n",
       "4 -1.607326 -1.070264  0.160909  0.727563\n",
       "5  1.450901 -0.955145 -0.013749  0.415263\n",
       "6 -1.037273  1.294661  0.990073  1.438208\n",
       "7  0.587239 -0.227991 -0.677409 -0.554705\n",
       "8  2.707892 -0.892593  0.426252  0.491444"
      ]
     },
     "execution_count": 186,
     "metadata": {},
     "output_type": "execute_result"
    }
   ],
   "source": [
    "df.append(s, ignore_index=True) # ignore_index=False means it will also pickup the original index number = 3"
   ]
  },
  {
   "cell_type": "markdown",
   "metadata": {},
   "source": [
    "By “group by” we are referring to a process involving one or more of the following steps\n",
    "\n",
    "* Splitting the data into groups based on some criteria\n",
    "* Applying a function to each group independently\n",
    "* Combining the results into a data structure\n"
   ]
  },
  {
   "cell_type": "code",
   "execution_count": 188,
   "metadata": {
    "collapsed": false
   },
   "outputs": [],
   "source": [
    "df = pd.DataFrame({'A': ['foo','bar','foo','bar','foo','bar', 'foo','foo'], \n",
    "                   'B': ['one','one','two','three','two','two','one','three'],\n",
    "                   'C': np.random.randn(8),\n",
    "                   'D': np.random.randn(8)\n",
    "                  })"
   ]
  },
  {
   "cell_type": "code",
   "execution_count": 189,
   "metadata": {
    "collapsed": false
   },
   "outputs": [
    {
     "data": {
      "text/html": [
       "<div>\n",
       "<table border=\"1\" class=\"dataframe\">\n",
       "  <thead>\n",
       "    <tr style=\"text-align: right;\">\n",
       "      <th></th>\n",
       "      <th>A</th>\n",
       "      <th>B</th>\n",
       "      <th>C</th>\n",
       "      <th>D</th>\n",
       "    </tr>\n",
       "  </thead>\n",
       "  <tbody>\n",
       "    <tr>\n",
       "      <th>0</th>\n",
       "      <td>foo</td>\n",
       "      <td>one</td>\n",
       "      <td>-0.111839</td>\n",
       "      <td>1.744548</td>\n",
       "    </tr>\n",
       "    <tr>\n",
       "      <th>1</th>\n",
       "      <td>bar</td>\n",
       "      <td>one</td>\n",
       "      <td>-1.142793</td>\n",
       "      <td>-1.074481</td>\n",
       "    </tr>\n",
       "    <tr>\n",
       "      <th>2</th>\n",
       "      <td>foo</td>\n",
       "      <td>two</td>\n",
       "      <td>-1.808524</td>\n",
       "      <td>0.548469</td>\n",
       "    </tr>\n",
       "    <tr>\n",
       "      <th>3</th>\n",
       "      <td>bar</td>\n",
       "      <td>three</td>\n",
       "      <td>-0.908276</td>\n",
       "      <td>1.040078</td>\n",
       "    </tr>\n",
       "    <tr>\n",
       "      <th>4</th>\n",
       "      <td>foo</td>\n",
       "      <td>two</td>\n",
       "      <td>0.041764</td>\n",
       "      <td>0.400176</td>\n",
       "    </tr>\n",
       "    <tr>\n",
       "      <th>5</th>\n",
       "      <td>bar</td>\n",
       "      <td>two</td>\n",
       "      <td>-0.086988</td>\n",
       "      <td>0.232397</td>\n",
       "    </tr>\n",
       "    <tr>\n",
       "      <th>6</th>\n",
       "      <td>foo</td>\n",
       "      <td>one</td>\n",
       "      <td>-0.525274</td>\n",
       "      <td>-0.518085</td>\n",
       "    </tr>\n",
       "    <tr>\n",
       "      <th>7</th>\n",
       "      <td>foo</td>\n",
       "      <td>three</td>\n",
       "      <td>-0.984971</td>\n",
       "      <td>0.638935</td>\n",
       "    </tr>\n",
       "  </tbody>\n",
       "</table>\n",
       "</div>"
      ],
      "text/plain": [
       "     A      B         C         D\n",
       "0  foo    one -0.111839  1.744548\n",
       "1  bar    one -1.142793 -1.074481\n",
       "2  foo    two -1.808524  0.548469\n",
       "3  bar  three -0.908276  1.040078\n",
       "4  foo    two  0.041764  0.400176\n",
       "5  bar    two -0.086988  0.232397\n",
       "6  foo    one -0.525274 -0.518085\n",
       "7  foo  three -0.984971  0.638935"
      ]
     },
     "execution_count": 189,
     "metadata": {},
     "output_type": "execute_result"
    }
   ],
   "source": [
    "df"
   ]
  },
  {
   "cell_type": "code",
   "execution_count": 191,
   "metadata": {
    "collapsed": false
   },
   "outputs": [
    {
     "data": {
      "text/html": [
       "<div>\n",
       "<table border=\"1\" class=\"dataframe\">\n",
       "  <thead>\n",
       "    <tr style=\"text-align: right;\">\n",
       "      <th></th>\n",
       "      <th>C</th>\n",
       "      <th>D</th>\n",
       "    </tr>\n",
       "    <tr>\n",
       "      <th>A</th>\n",
       "      <th></th>\n",
       "      <th></th>\n",
       "    </tr>\n",
       "  </thead>\n",
       "  <tbody>\n",
       "    <tr>\n",
       "      <th>bar</th>\n",
       "      <td>-2.138057</td>\n",
       "      <td>0.197995</td>\n",
       "    </tr>\n",
       "    <tr>\n",
       "      <th>foo</th>\n",
       "      <td>-3.388843</td>\n",
       "      <td>2.814043</td>\n",
       "    </tr>\n",
       "  </tbody>\n",
       "</table>\n",
       "</div>"
      ],
      "text/plain": [
       "            C         D\n",
       "A                      \n",
       "bar -2.138057  0.197995\n",
       "foo -3.388843  2.814043"
      ]
     },
     "execution_count": 191,
     "metadata": {},
     "output_type": "execute_result"
    }
   ],
   "source": [
    "df.groupby('A').sum() # takes only numerical columns"
   ]
  },
  {
   "cell_type": "markdown",
   "metadata": {},
   "source": [
    "Grouping by multiple columns forms a hierarchical index, which we then apply the function."
   ]
  },
  {
   "cell_type": "code",
   "execution_count": 192,
   "metadata": {
    "collapsed": false
   },
   "outputs": [
    {
     "data": {
      "text/html": [
       "<div>\n",
       "<table border=\"1\" class=\"dataframe\">\n",
       "  <thead>\n",
       "    <tr style=\"text-align: right;\">\n",
       "      <th></th>\n",
       "      <th></th>\n",
       "      <th>C</th>\n",
       "      <th>D</th>\n",
       "    </tr>\n",
       "    <tr>\n",
       "      <th>A</th>\n",
       "      <th>B</th>\n",
       "      <th></th>\n",
       "      <th></th>\n",
       "    </tr>\n",
       "  </thead>\n",
       "  <tbody>\n",
       "    <tr>\n",
       "      <th rowspan=\"3\" valign=\"top\">bar</th>\n",
       "      <th>one</th>\n",
       "      <td>-1.142793</td>\n",
       "      <td>-1.074481</td>\n",
       "    </tr>\n",
       "    <tr>\n",
       "      <th>three</th>\n",
       "      <td>-0.908276</td>\n",
       "      <td>1.040078</td>\n",
       "    </tr>\n",
       "    <tr>\n",
       "      <th>two</th>\n",
       "      <td>-0.086988</td>\n",
       "      <td>0.232397</td>\n",
       "    </tr>\n",
       "    <tr>\n",
       "      <th rowspan=\"3\" valign=\"top\">foo</th>\n",
       "      <th>one</th>\n",
       "      <td>-0.637113</td>\n",
       "      <td>1.226463</td>\n",
       "    </tr>\n",
       "    <tr>\n",
       "      <th>three</th>\n",
       "      <td>-0.984971</td>\n",
       "      <td>0.638935</td>\n",
       "    </tr>\n",
       "    <tr>\n",
       "      <th>two</th>\n",
       "      <td>-1.766759</td>\n",
       "      <td>0.948645</td>\n",
       "    </tr>\n",
       "  </tbody>\n",
       "</table>\n",
       "</div>"
      ],
      "text/plain": [
       "                  C         D\n",
       "A   B                        \n",
       "bar one   -1.142793 -1.074481\n",
       "    three -0.908276  1.040078\n",
       "    two   -0.086988  0.232397\n",
       "foo one   -0.637113  1.226463\n",
       "    three -0.984971  0.638935\n",
       "    two   -1.766759  0.948645"
      ]
     },
     "execution_count": 192,
     "metadata": {},
     "output_type": "execute_result"
    }
   ],
   "source": [
    "df.groupby(['A','B']).sum()"
   ]
  },
  {
   "cell_type": "markdown",
   "metadata": {},
   "source": [
    "### Reshaping\n",
    "Stack"
   ]
  },
  {
   "cell_type": "code",
   "execution_count": 193,
   "metadata": {
    "collapsed": true
   },
   "outputs": [],
   "source": [
    "tuples = list(zip(*[\n",
    "            ['bar','bar','baz','baz','foo','foo','qux','qux'],\n",
    "            ['one','two','one','two','one','two','one','two']\n",
    "            ]\n",
    "    ))"
   ]
  },
  {
   "cell_type": "code",
   "execution_count": 194,
   "metadata": {
    "collapsed": false
   },
   "outputs": [
    {
     "data": {
      "text/plain": [
       "[('bar', 'one'),\n",
       " ('bar', 'two'),\n",
       " ('baz', 'one'),\n",
       " ('baz', 'two'),\n",
       " ('foo', 'one'),\n",
       " ('foo', 'two'),\n",
       " ('qux', 'one'),\n",
       " ('qux', 'two')]"
      ]
     },
     "execution_count": 194,
     "metadata": {},
     "output_type": "execute_result"
    }
   ],
   "source": [
    "tuples"
   ]
  },
  {
   "cell_type": "code",
   "execution_count": 204,
   "metadata": {
    "collapsed": true
   },
   "outputs": [],
   "source": [
    "index = pd.MultiIndex.from_tuples(tuples, names=['first','second'])"
   ]
  },
  {
   "cell_type": "code",
   "execution_count": 205,
   "metadata": {
    "collapsed": false
   },
   "outputs": [],
   "source": [
    "df = pd.DataFrame(np.random.randn(8, 2), index=index, columns=['A', 'B'])"
   ]
  },
  {
   "cell_type": "code",
   "execution_count": 206,
   "metadata": {
    "collapsed": false
   },
   "outputs": [
    {
     "data": {
      "text/html": [
       "<div>\n",
       "<table border=\"1\" class=\"dataframe\">\n",
       "  <thead>\n",
       "    <tr style=\"text-align: right;\">\n",
       "      <th></th>\n",
       "      <th></th>\n",
       "      <th>A</th>\n",
       "      <th>B</th>\n",
       "    </tr>\n",
       "    <tr>\n",
       "      <th>first</th>\n",
       "      <th>second</th>\n",
       "      <th></th>\n",
       "      <th></th>\n",
       "    </tr>\n",
       "  </thead>\n",
       "  <tbody>\n",
       "    <tr>\n",
       "      <th rowspan=\"2\" valign=\"top\">bar</th>\n",
       "      <th>one</th>\n",
       "      <td>-0.221831</td>\n",
       "      <td>-1.081556</td>\n",
       "    </tr>\n",
       "    <tr>\n",
       "      <th>two</th>\n",
       "      <td>-1.013467</td>\n",
       "      <td>-0.351839</td>\n",
       "    </tr>\n",
       "    <tr>\n",
       "      <th rowspan=\"2\" valign=\"top\">baz</th>\n",
       "      <th>one</th>\n",
       "      <td>1.372485</td>\n",
       "      <td>-0.389124</td>\n",
       "    </tr>\n",
       "    <tr>\n",
       "      <th>two</th>\n",
       "      <td>-0.136550</td>\n",
       "      <td>-1.194717</td>\n",
       "    </tr>\n",
       "    <tr>\n",
       "      <th rowspan=\"2\" valign=\"top\">foo</th>\n",
       "      <th>one</th>\n",
       "      <td>-0.467299</td>\n",
       "      <td>0.988414</td>\n",
       "    </tr>\n",
       "    <tr>\n",
       "      <th>two</th>\n",
       "      <td>-0.837857</td>\n",
       "      <td>-0.632401</td>\n",
       "    </tr>\n",
       "    <tr>\n",
       "      <th rowspan=\"2\" valign=\"top\">qux</th>\n",
       "      <th>one</th>\n",
       "      <td>2.641259</td>\n",
       "      <td>-1.519310</td>\n",
       "    </tr>\n",
       "    <tr>\n",
       "      <th>two</th>\n",
       "      <td>-0.832461</td>\n",
       "      <td>-0.552486</td>\n",
       "    </tr>\n",
       "  </tbody>\n",
       "</table>\n",
       "</div>"
      ],
      "text/plain": [
       "                     A         B\n",
       "first second                    \n",
       "bar   one    -0.221831 -1.081556\n",
       "      two    -1.013467 -0.351839\n",
       "baz   one     1.372485 -0.389124\n",
       "      two    -0.136550 -1.194717\n",
       "foo   one    -0.467299  0.988414\n",
       "      two    -0.837857 -0.632401\n",
       "qux   one     2.641259 -1.519310\n",
       "      two    -0.832461 -0.552486"
      ]
     },
     "execution_count": 206,
     "metadata": {},
     "output_type": "execute_result"
    }
   ],
   "source": [
    "df"
   ]
  },
  {
   "cell_type": "code",
   "execution_count": 207,
   "metadata": {
    "collapsed": true
   },
   "outputs": [],
   "source": [
    "df2 = df[:4]"
   ]
  },
  {
   "cell_type": "code",
   "execution_count": 208,
   "metadata": {
    "collapsed": false
   },
   "outputs": [
    {
     "data": {
      "text/html": [
       "<div>\n",
       "<table border=\"1\" class=\"dataframe\">\n",
       "  <thead>\n",
       "    <tr style=\"text-align: right;\">\n",
       "      <th></th>\n",
       "      <th></th>\n",
       "      <th>A</th>\n",
       "      <th>B</th>\n",
       "    </tr>\n",
       "    <tr>\n",
       "      <th>first</th>\n",
       "      <th>second</th>\n",
       "      <th></th>\n",
       "      <th></th>\n",
       "    </tr>\n",
       "  </thead>\n",
       "  <tbody>\n",
       "    <tr>\n",
       "      <th rowspan=\"2\" valign=\"top\">bar</th>\n",
       "      <th>one</th>\n",
       "      <td>-0.221831</td>\n",
       "      <td>-1.081556</td>\n",
       "    </tr>\n",
       "    <tr>\n",
       "      <th>two</th>\n",
       "      <td>-1.013467</td>\n",
       "      <td>-0.351839</td>\n",
       "    </tr>\n",
       "    <tr>\n",
       "      <th rowspan=\"2\" valign=\"top\">baz</th>\n",
       "      <th>one</th>\n",
       "      <td>1.372485</td>\n",
       "      <td>-0.389124</td>\n",
       "    </tr>\n",
       "    <tr>\n",
       "      <th>two</th>\n",
       "      <td>-0.136550</td>\n",
       "      <td>-1.194717</td>\n",
       "    </tr>\n",
       "  </tbody>\n",
       "</table>\n",
       "</div>"
      ],
      "text/plain": [
       "                     A         B\n",
       "first second                    \n",
       "bar   one    -0.221831 -1.081556\n",
       "      two    -1.013467 -0.351839\n",
       "baz   one     1.372485 -0.389124\n",
       "      two    -0.136550 -1.194717"
      ]
     },
     "execution_count": 208,
     "metadata": {},
     "output_type": "execute_result"
    }
   ],
   "source": [
    "df2"
   ]
  },
  {
   "cell_type": "markdown",
   "metadata": {},
   "source": [
    "The stack() method “compresses” a level in the DataFrame’s columns."
   ]
  },
  {
   "cell_type": "code",
   "execution_count": 209,
   "metadata": {
    "collapsed": true
   },
   "outputs": [],
   "source": [
    "stacked = df2.stack()"
   ]
  },
  {
   "cell_type": "code",
   "execution_count": 214,
   "metadata": {
    "collapsed": false
   },
   "outputs": [
    {
     "data": {
      "text/plain": [
       "first  second   \n",
       "bar    one     A   -0.221831\n",
       "               B   -1.081556\n",
       "       two     A   -1.013467\n",
       "               B   -0.351839\n",
       "baz    one     A    1.372485\n",
       "               B   -0.389124\n",
       "       two     A   -0.136550\n",
       "               B   -1.194717\n",
       "dtype: float64"
      ]
     },
     "execution_count": 214,
     "metadata": {},
     "output_type": "execute_result"
    }
   ],
   "source": [
    "stacked"
   ]
  },
  {
   "cell_type": "markdown",
   "metadata": {},
   "source": [
    "With a “stacked” DataFrame or Series (having a MultiIndex as the index), the inverse operation of stack() is unstack(), which by default unstacks the last level:"
   ]
  },
  {
   "cell_type": "code",
   "execution_count": 211,
   "metadata": {
    "collapsed": false
   },
   "outputs": [
    {
     "data": {
      "text/html": [
       "<div>\n",
       "<table border=\"1\" class=\"dataframe\">\n",
       "  <thead>\n",
       "    <tr style=\"text-align: right;\">\n",
       "      <th></th>\n",
       "      <th></th>\n",
       "      <th>A</th>\n",
       "      <th>B</th>\n",
       "    </tr>\n",
       "    <tr>\n",
       "      <th>first</th>\n",
       "      <th>second</th>\n",
       "      <th></th>\n",
       "      <th></th>\n",
       "    </tr>\n",
       "  </thead>\n",
       "  <tbody>\n",
       "    <tr>\n",
       "      <th rowspan=\"2\" valign=\"top\">bar</th>\n",
       "      <th>one</th>\n",
       "      <td>-0.221831</td>\n",
       "      <td>-1.081556</td>\n",
       "    </tr>\n",
       "    <tr>\n",
       "      <th>two</th>\n",
       "      <td>-1.013467</td>\n",
       "      <td>-0.351839</td>\n",
       "    </tr>\n",
       "    <tr>\n",
       "      <th rowspan=\"2\" valign=\"top\">baz</th>\n",
       "      <th>one</th>\n",
       "      <td>1.372485</td>\n",
       "      <td>-0.389124</td>\n",
       "    </tr>\n",
       "    <tr>\n",
       "      <th>two</th>\n",
       "      <td>-0.136550</td>\n",
       "      <td>-1.194717</td>\n",
       "    </tr>\n",
       "  </tbody>\n",
       "</table>\n",
       "</div>"
      ],
      "text/plain": [
       "                     A         B\n",
       "first second                    \n",
       "bar   one    -0.221831 -1.081556\n",
       "      two    -1.013467 -0.351839\n",
       "baz   one     1.372485 -0.389124\n",
       "      two    -0.136550 -1.194717"
      ]
     },
     "execution_count": 211,
     "metadata": {},
     "output_type": "execute_result"
    }
   ],
   "source": [
    "stacked.unstack()"
   ]
  },
  {
   "cell_type": "code",
   "execution_count": 212,
   "metadata": {
    "collapsed": false
   },
   "outputs": [
    {
     "data": {
      "text/html": [
       "<div>\n",
       "<table border=\"1\" class=\"dataframe\">\n",
       "  <thead>\n",
       "    <tr style=\"text-align: right;\">\n",
       "      <th></th>\n",
       "      <th>second</th>\n",
       "      <th>one</th>\n",
       "      <th>two</th>\n",
       "    </tr>\n",
       "    <tr>\n",
       "      <th>first</th>\n",
       "      <th></th>\n",
       "      <th></th>\n",
       "      <th></th>\n",
       "    </tr>\n",
       "  </thead>\n",
       "  <tbody>\n",
       "    <tr>\n",
       "      <th rowspan=\"2\" valign=\"top\">bar</th>\n",
       "      <th>A</th>\n",
       "      <td>-0.221831</td>\n",
       "      <td>-1.013467</td>\n",
       "    </tr>\n",
       "    <tr>\n",
       "      <th>B</th>\n",
       "      <td>-1.081556</td>\n",
       "      <td>-0.351839</td>\n",
       "    </tr>\n",
       "    <tr>\n",
       "      <th rowspan=\"2\" valign=\"top\">baz</th>\n",
       "      <th>A</th>\n",
       "      <td>1.372485</td>\n",
       "      <td>-0.136550</td>\n",
       "    </tr>\n",
       "    <tr>\n",
       "      <th>B</th>\n",
       "      <td>-0.389124</td>\n",
       "      <td>-1.194717</td>\n",
       "    </tr>\n",
       "  </tbody>\n",
       "</table>\n",
       "</div>"
      ],
      "text/plain": [
       "second        one       two\n",
       "first                      \n",
       "bar   A -0.221831 -1.013467\n",
       "      B -1.081556 -0.351839\n",
       "baz   A  1.372485 -0.136550\n",
       "      B -0.389124 -1.194717"
      ]
     },
     "execution_count": 212,
     "metadata": {},
     "output_type": "execute_result"
    }
   ],
   "source": [
    "stacked.unstack(1)"
   ]
  },
  {
   "cell_type": "code",
   "execution_count": 215,
   "metadata": {
    "collapsed": false
   },
   "outputs": [
    {
     "data": {
      "text/html": [
       "<div>\n",
       "<table border=\"1\" class=\"dataframe\">\n",
       "  <thead>\n",
       "    <tr style=\"text-align: right;\">\n",
       "      <th></th>\n",
       "      <th>first</th>\n",
       "      <th>bar</th>\n",
       "      <th>baz</th>\n",
       "    </tr>\n",
       "    <tr>\n",
       "      <th>second</th>\n",
       "      <th></th>\n",
       "      <th></th>\n",
       "      <th></th>\n",
       "    </tr>\n",
       "  </thead>\n",
       "  <tbody>\n",
       "    <tr>\n",
       "      <th rowspan=\"2\" valign=\"top\">one</th>\n",
       "      <th>A</th>\n",
       "      <td>-0.221831</td>\n",
       "      <td>1.372485</td>\n",
       "    </tr>\n",
       "    <tr>\n",
       "      <th>B</th>\n",
       "      <td>-1.081556</td>\n",
       "      <td>-0.389124</td>\n",
       "    </tr>\n",
       "    <tr>\n",
       "      <th rowspan=\"2\" valign=\"top\">two</th>\n",
       "      <th>A</th>\n",
       "      <td>-1.013467</td>\n",
       "      <td>-0.136550</td>\n",
       "    </tr>\n",
       "    <tr>\n",
       "      <th>B</th>\n",
       "      <td>-0.351839</td>\n",
       "      <td>-1.194717</td>\n",
       "    </tr>\n",
       "  </tbody>\n",
       "</table>\n",
       "</div>"
      ],
      "text/plain": [
       "first          bar       baz\n",
       "second                      \n",
       "one    A -0.221831  1.372485\n",
       "       B -1.081556 -0.389124\n",
       "two    A -1.013467 -0.136550\n",
       "       B -0.351839 -1.194717"
      ]
     },
     "execution_count": 215,
     "metadata": {},
     "output_type": "execute_result"
    }
   ],
   "source": [
    "stacked.unstack(0)"
   ]
  },
  {
   "cell_type": "markdown",
   "metadata": {},
   "source": [
    "Pivot Tables"
   ]
  },
  {
   "cell_type": "code",
   "execution_count": 216,
   "metadata": {
    "collapsed": true
   },
   "outputs": [],
   "source": [
    "df = pd.DataFrame({\n",
    "        'A': ['one','one','two','three'] * 3,\n",
    "        'B': ['A','B', 'C'] * 4,\n",
    "        'C': ['foo', 'foo', 'foo', 'bar', 'bar', 'bar'] * 2,\n",
    "        'D': np.random.randn(12),\n",
    "        'E': np.random.randn(12)\n",
    "        \n",
    "    })"
   ]
  },
  {
   "cell_type": "code",
   "execution_count": 217,
   "metadata": {
    "collapsed": false
   },
   "outputs": [
    {
     "data": {
      "text/html": [
       "<div>\n",
       "<table border=\"1\" class=\"dataframe\">\n",
       "  <thead>\n",
       "    <tr style=\"text-align: right;\">\n",
       "      <th></th>\n",
       "      <th>A</th>\n",
       "      <th>B</th>\n",
       "      <th>C</th>\n",
       "      <th>D</th>\n",
       "      <th>E</th>\n",
       "    </tr>\n",
       "  </thead>\n",
       "  <tbody>\n",
       "    <tr>\n",
       "      <th>0</th>\n",
       "      <td>one</td>\n",
       "      <td>A</td>\n",
       "      <td>foo</td>\n",
       "      <td>-0.608073</td>\n",
       "      <td>-0.958310</td>\n",
       "    </tr>\n",
       "    <tr>\n",
       "      <th>1</th>\n",
       "      <td>one</td>\n",
       "      <td>B</td>\n",
       "      <td>foo</td>\n",
       "      <td>0.124325</td>\n",
       "      <td>0.930041</td>\n",
       "    </tr>\n",
       "    <tr>\n",
       "      <th>2</th>\n",
       "      <td>two</td>\n",
       "      <td>C</td>\n",
       "      <td>foo</td>\n",
       "      <td>-0.366234</td>\n",
       "      <td>-0.185620</td>\n",
       "    </tr>\n",
       "    <tr>\n",
       "      <th>3</th>\n",
       "      <td>three</td>\n",
       "      <td>A</td>\n",
       "      <td>bar</td>\n",
       "      <td>-0.270165</td>\n",
       "      <td>-1.471968</td>\n",
       "    </tr>\n",
       "    <tr>\n",
       "      <th>4</th>\n",
       "      <td>one</td>\n",
       "      <td>B</td>\n",
       "      <td>bar</td>\n",
       "      <td>-0.396515</td>\n",
       "      <td>0.555007</td>\n",
       "    </tr>\n",
       "    <tr>\n",
       "      <th>5</th>\n",
       "      <td>one</td>\n",
       "      <td>C</td>\n",
       "      <td>bar</td>\n",
       "      <td>1.335754</td>\n",
       "      <td>0.579329</td>\n",
       "    </tr>\n",
       "    <tr>\n",
       "      <th>6</th>\n",
       "      <td>two</td>\n",
       "      <td>A</td>\n",
       "      <td>foo</td>\n",
       "      <td>2.837483</td>\n",
       "      <td>0.641064</td>\n",
       "    </tr>\n",
       "    <tr>\n",
       "      <th>7</th>\n",
       "      <td>three</td>\n",
       "      <td>B</td>\n",
       "      <td>foo</td>\n",
       "      <td>-1.513734</td>\n",
       "      <td>-0.375683</td>\n",
       "    </tr>\n",
       "    <tr>\n",
       "      <th>8</th>\n",
       "      <td>one</td>\n",
       "      <td>C</td>\n",
       "      <td>foo</td>\n",
       "      <td>1.917551</td>\n",
       "      <td>1.469025</td>\n",
       "    </tr>\n",
       "    <tr>\n",
       "      <th>9</th>\n",
       "      <td>one</td>\n",
       "      <td>A</td>\n",
       "      <td>bar</td>\n",
       "      <td>0.848253</td>\n",
       "      <td>0.687440</td>\n",
       "    </tr>\n",
       "    <tr>\n",
       "      <th>10</th>\n",
       "      <td>two</td>\n",
       "      <td>B</td>\n",
       "      <td>bar</td>\n",
       "      <td>0.692492</td>\n",
       "      <td>-0.521663</td>\n",
       "    </tr>\n",
       "    <tr>\n",
       "      <th>11</th>\n",
       "      <td>three</td>\n",
       "      <td>C</td>\n",
       "      <td>bar</td>\n",
       "      <td>0.416861</td>\n",
       "      <td>-1.105400</td>\n",
       "    </tr>\n",
       "  </tbody>\n",
       "</table>\n",
       "</div>"
      ],
      "text/plain": [
       "        A  B    C         D         E\n",
       "0     one  A  foo -0.608073 -0.958310\n",
       "1     one  B  foo  0.124325  0.930041\n",
       "2     two  C  foo -0.366234 -0.185620\n",
       "3   three  A  bar -0.270165 -1.471968\n",
       "4     one  B  bar -0.396515  0.555007\n",
       "5     one  C  bar  1.335754  0.579329\n",
       "6     two  A  foo  2.837483  0.641064\n",
       "7   three  B  foo -1.513734 -0.375683\n",
       "8     one  C  foo  1.917551  1.469025\n",
       "9     one  A  bar  0.848253  0.687440\n",
       "10    two  B  bar  0.692492 -0.521663\n",
       "11  three  C  bar  0.416861 -1.105400"
      ]
     },
     "execution_count": 217,
     "metadata": {},
     "output_type": "execute_result"
    }
   ],
   "source": [
    "df"
   ]
  },
  {
   "cell_type": "markdown",
   "metadata": {},
   "source": [
    "We can produce pivot tables from this data very easily:"
   ]
  },
  {
   "cell_type": "code",
   "execution_count": 218,
   "metadata": {
    "collapsed": false
   },
   "outputs": [
    {
     "data": {
      "text/html": [
       "<div>\n",
       "<table border=\"1\" class=\"dataframe\">\n",
       "  <thead>\n",
       "    <tr style=\"text-align: right;\">\n",
       "      <th></th>\n",
       "      <th>C</th>\n",
       "      <th>bar</th>\n",
       "      <th>foo</th>\n",
       "    </tr>\n",
       "    <tr>\n",
       "      <th>A</th>\n",
       "      <th>B</th>\n",
       "      <th></th>\n",
       "      <th></th>\n",
       "    </tr>\n",
       "  </thead>\n",
       "  <tbody>\n",
       "    <tr>\n",
       "      <th rowspan=\"3\" valign=\"top\">one</th>\n",
       "      <th>A</th>\n",
       "      <td>0.848253</td>\n",
       "      <td>-0.608073</td>\n",
       "    </tr>\n",
       "    <tr>\n",
       "      <th>B</th>\n",
       "      <td>-0.396515</td>\n",
       "      <td>0.124325</td>\n",
       "    </tr>\n",
       "    <tr>\n",
       "      <th>C</th>\n",
       "      <td>1.335754</td>\n",
       "      <td>1.917551</td>\n",
       "    </tr>\n",
       "    <tr>\n",
       "      <th rowspan=\"3\" valign=\"top\">three</th>\n",
       "      <th>A</th>\n",
       "      <td>-0.270165</td>\n",
       "      <td>NaN</td>\n",
       "    </tr>\n",
       "    <tr>\n",
       "      <th>B</th>\n",
       "      <td>NaN</td>\n",
       "      <td>-1.513734</td>\n",
       "    </tr>\n",
       "    <tr>\n",
       "      <th>C</th>\n",
       "      <td>0.416861</td>\n",
       "      <td>NaN</td>\n",
       "    </tr>\n",
       "    <tr>\n",
       "      <th rowspan=\"3\" valign=\"top\">two</th>\n",
       "      <th>A</th>\n",
       "      <td>NaN</td>\n",
       "      <td>2.837483</td>\n",
       "    </tr>\n",
       "    <tr>\n",
       "      <th>B</th>\n",
       "      <td>0.692492</td>\n",
       "      <td>NaN</td>\n",
       "    </tr>\n",
       "    <tr>\n",
       "      <th>C</th>\n",
       "      <td>NaN</td>\n",
       "      <td>-0.366234</td>\n",
       "    </tr>\n",
       "  </tbody>\n",
       "</table>\n",
       "</div>"
      ],
      "text/plain": [
       "C             bar       foo\n",
       "A     B                    \n",
       "one   A  0.848253 -0.608073\n",
       "      B -0.396515  0.124325\n",
       "      C  1.335754  1.917551\n",
       "three A -0.270165       NaN\n",
       "      B       NaN -1.513734\n",
       "      C  0.416861       NaN\n",
       "two   A       NaN  2.837483\n",
       "      B  0.692492       NaN\n",
       "      C       NaN -0.366234"
      ]
     },
     "execution_count": 218,
     "metadata": {},
     "output_type": "execute_result"
    }
   ],
   "source": [
    "pd.pivot_table(df, values='D', index=['A', 'B'], columns=['C'])"
   ]
  },
  {
   "cell_type": "markdown",
   "metadata": {},
   "source": [
    "### Time Series\n",
    "\n",
    "pandas has simple, powerful, and efficient functionality for performing resampling operations during frequency conversion (e.g., converting secondly data into 5-minutely data). This is extremely common in, but not limited to, financial applications."
   ]
  },
  {
   "cell_type": "code",
   "execution_count": 219,
   "metadata": {
    "collapsed": true
   },
   "outputs": [],
   "source": [
    "rng = pd.date_range('1/1/2012', periods=100, freq='S')"
   ]
  },
  {
   "cell_type": "code",
   "execution_count": 220,
   "metadata": {
    "collapsed": false
   },
   "outputs": [
    {
     "data": {
      "text/plain": [
       "DatetimeIndex(['2012-01-01 00:00:00', '2012-01-01 00:00:01',\n",
       "               '2012-01-01 00:00:02', '2012-01-01 00:00:03',\n",
       "               '2012-01-01 00:00:04', '2012-01-01 00:00:05',\n",
       "               '2012-01-01 00:00:06', '2012-01-01 00:00:07',\n",
       "               '2012-01-01 00:00:08', '2012-01-01 00:00:09',\n",
       "               '2012-01-01 00:00:10', '2012-01-01 00:00:11',\n",
       "               '2012-01-01 00:00:12', '2012-01-01 00:00:13',\n",
       "               '2012-01-01 00:00:14', '2012-01-01 00:00:15',\n",
       "               '2012-01-01 00:00:16', '2012-01-01 00:00:17',\n",
       "               '2012-01-01 00:00:18', '2012-01-01 00:00:19',\n",
       "               '2012-01-01 00:00:20', '2012-01-01 00:00:21',\n",
       "               '2012-01-01 00:00:22', '2012-01-01 00:00:23',\n",
       "               '2012-01-01 00:00:24', '2012-01-01 00:00:25',\n",
       "               '2012-01-01 00:00:26', '2012-01-01 00:00:27',\n",
       "               '2012-01-01 00:00:28', '2012-01-01 00:00:29',\n",
       "               '2012-01-01 00:00:30', '2012-01-01 00:00:31',\n",
       "               '2012-01-01 00:00:32', '2012-01-01 00:00:33',\n",
       "               '2012-01-01 00:00:34', '2012-01-01 00:00:35',\n",
       "               '2012-01-01 00:00:36', '2012-01-01 00:00:37',\n",
       "               '2012-01-01 00:00:38', '2012-01-01 00:00:39',\n",
       "               '2012-01-01 00:00:40', '2012-01-01 00:00:41',\n",
       "               '2012-01-01 00:00:42', '2012-01-01 00:00:43',\n",
       "               '2012-01-01 00:00:44', '2012-01-01 00:00:45',\n",
       "               '2012-01-01 00:00:46', '2012-01-01 00:00:47',\n",
       "               '2012-01-01 00:00:48', '2012-01-01 00:00:49',\n",
       "               '2012-01-01 00:00:50', '2012-01-01 00:00:51',\n",
       "               '2012-01-01 00:00:52', '2012-01-01 00:00:53',\n",
       "               '2012-01-01 00:00:54', '2012-01-01 00:00:55',\n",
       "               '2012-01-01 00:00:56', '2012-01-01 00:00:57',\n",
       "               '2012-01-01 00:00:58', '2012-01-01 00:00:59',\n",
       "               '2012-01-01 00:01:00', '2012-01-01 00:01:01',\n",
       "               '2012-01-01 00:01:02', '2012-01-01 00:01:03',\n",
       "               '2012-01-01 00:01:04', '2012-01-01 00:01:05',\n",
       "               '2012-01-01 00:01:06', '2012-01-01 00:01:07',\n",
       "               '2012-01-01 00:01:08', '2012-01-01 00:01:09',\n",
       "               '2012-01-01 00:01:10', '2012-01-01 00:01:11',\n",
       "               '2012-01-01 00:01:12', '2012-01-01 00:01:13',\n",
       "               '2012-01-01 00:01:14', '2012-01-01 00:01:15',\n",
       "               '2012-01-01 00:01:16', '2012-01-01 00:01:17',\n",
       "               '2012-01-01 00:01:18', '2012-01-01 00:01:19',\n",
       "               '2012-01-01 00:01:20', '2012-01-01 00:01:21',\n",
       "               '2012-01-01 00:01:22', '2012-01-01 00:01:23',\n",
       "               '2012-01-01 00:01:24', '2012-01-01 00:01:25',\n",
       "               '2012-01-01 00:01:26', '2012-01-01 00:01:27',\n",
       "               '2012-01-01 00:01:28', '2012-01-01 00:01:29',\n",
       "               '2012-01-01 00:01:30', '2012-01-01 00:01:31',\n",
       "               '2012-01-01 00:01:32', '2012-01-01 00:01:33',\n",
       "               '2012-01-01 00:01:34', '2012-01-01 00:01:35',\n",
       "               '2012-01-01 00:01:36', '2012-01-01 00:01:37',\n",
       "               '2012-01-01 00:01:38', '2012-01-01 00:01:39'],\n",
       "              dtype='datetime64[ns]', freq='S')"
      ]
     },
     "execution_count": 220,
     "metadata": {},
     "output_type": "execute_result"
    }
   ],
   "source": [
    "rng"
   ]
  },
  {
   "cell_type": "code",
   "execution_count": 222,
   "metadata": {
    "collapsed": false
   },
   "outputs": [],
   "source": [
    "ts = pd.Series(np.random.randint(0,500, len(rng)), index=rng)"
   ]
  },
  {
   "cell_type": "code",
   "execution_count": 223,
   "metadata": {
    "collapsed": false
   },
   "outputs": [
    {
     "data": {
      "text/plain": [
       "2012-01-01 00:00:00    179\n",
       "2012-01-01 00:00:01    138\n",
       "2012-01-01 00:00:02    159\n",
       "2012-01-01 00:00:03    191\n",
       "2012-01-01 00:00:04    225\n",
       "2012-01-01 00:00:05    178\n",
       "2012-01-01 00:00:06     82\n",
       "2012-01-01 00:00:07    406\n",
       "2012-01-01 00:00:08    160\n",
       "2012-01-01 00:00:09     67\n",
       "2012-01-01 00:00:10    134\n",
       "2012-01-01 00:00:11    370\n",
       "2012-01-01 00:00:12    176\n",
       "2012-01-01 00:00:13    287\n",
       "2012-01-01 00:00:14    161\n",
       "2012-01-01 00:00:15    125\n",
       "2012-01-01 00:00:16    188\n",
       "2012-01-01 00:00:17    256\n",
       "2012-01-01 00:00:18    420\n",
       "2012-01-01 00:00:19     80\n",
       "2012-01-01 00:00:20    341\n",
       "2012-01-01 00:00:21    304\n",
       "2012-01-01 00:00:22    148\n",
       "2012-01-01 00:00:23     43\n",
       "2012-01-01 00:00:24    192\n",
       "2012-01-01 00:00:25    350\n",
       "2012-01-01 00:00:26     98\n",
       "2012-01-01 00:00:27    361\n",
       "2012-01-01 00:00:28    322\n",
       "2012-01-01 00:00:29    201\n",
       "                      ... \n",
       "2012-01-01 00:01:10    333\n",
       "2012-01-01 00:01:11    373\n",
       "2012-01-01 00:01:12    283\n",
       "2012-01-01 00:01:13    355\n",
       "2012-01-01 00:01:14    350\n",
       "2012-01-01 00:01:15    402\n",
       "2012-01-01 00:01:16      5\n",
       "2012-01-01 00:01:17    434\n",
       "2012-01-01 00:01:18    326\n",
       "2012-01-01 00:01:19    120\n",
       "2012-01-01 00:01:20    174\n",
       "2012-01-01 00:01:21     48\n",
       "2012-01-01 00:01:22    178\n",
       "2012-01-01 00:01:23    411\n",
       "2012-01-01 00:01:24    338\n",
       "2012-01-01 00:01:25    201\n",
       "2012-01-01 00:01:26    379\n",
       "2012-01-01 00:01:27    223\n",
       "2012-01-01 00:01:28     66\n",
       "2012-01-01 00:01:29     29\n",
       "2012-01-01 00:01:30    296\n",
       "2012-01-01 00:01:31    372\n",
       "2012-01-01 00:01:32    197\n",
       "2012-01-01 00:01:33    191\n",
       "2012-01-01 00:01:34    496\n",
       "2012-01-01 00:01:35    241\n",
       "2012-01-01 00:01:36    289\n",
       "2012-01-01 00:01:37    329\n",
       "2012-01-01 00:01:38     75\n",
       "2012-01-01 00:01:39     29\n",
       "Freq: S, dtype: int64"
      ]
     },
     "execution_count": 223,
     "metadata": {},
     "output_type": "execute_result"
    }
   ],
   "source": [
    "ts"
   ]
  },
  {
   "cell_type": "code",
   "execution_count": 224,
   "metadata": {
    "collapsed": false
   },
   "outputs": [
    {
     "data": {
      "text/plain": [
       "100"
      ]
     },
     "execution_count": 224,
     "metadata": {},
     "output_type": "execute_result"
    }
   ],
   "source": [
    "len(ts)"
   ]
  },
  {
   "cell_type": "code",
   "execution_count": 225,
   "metadata": {
    "collapsed": false
   },
   "outputs": [
    {
     "data": {
      "text/plain": [
       "2012-01-01    22487\n",
       "Freq: 5T, dtype: int64"
      ]
     },
     "execution_count": 225,
     "metadata": {},
     "output_type": "execute_result"
    }
   ],
   "source": [
    "ts.resample('5Min', how='sum')"
   ]
  },
  {
   "cell_type": "markdown",
   "metadata": {},
   "source": [
    "Time zone representation"
   ]
  },
  {
   "cell_type": "code",
   "execution_count": 226,
   "metadata": {
    "collapsed": true
   },
   "outputs": [],
   "source": [
    "rng = pd.date_range('3/6/2012 00:00', periods=5, freq='D')"
   ]
  },
  {
   "cell_type": "code",
   "execution_count": 227,
   "metadata": {
    "collapsed": false
   },
   "outputs": [
    {
     "data": {
      "text/plain": [
       "DatetimeIndex(['2012-03-06', '2012-03-07', '2012-03-08', '2012-03-09',\n",
       "               '2012-03-10'],\n",
       "              dtype='datetime64[ns]', freq='D')"
      ]
     },
     "execution_count": 227,
     "metadata": {},
     "output_type": "execute_result"
    }
   ],
   "source": [
    "rng"
   ]
  },
  {
   "cell_type": "code",
   "execution_count": 228,
   "metadata": {
    "collapsed": true
   },
   "outputs": [],
   "source": [
    "ts = pd.Series(np.random.randn(len(rng)), rng)"
   ]
  },
  {
   "cell_type": "code",
   "execution_count": 229,
   "metadata": {
    "collapsed": false
   },
   "outputs": [
    {
     "data": {
      "text/plain": [
       "2012-03-06   -0.971696\n",
       "2012-03-07   -1.703818\n",
       "2012-03-08   -0.277408\n",
       "2012-03-09   -0.622660\n",
       "2012-03-10    0.530048\n",
       "Freq: D, dtype: float64"
      ]
     },
     "execution_count": 229,
     "metadata": {},
     "output_type": "execute_result"
    }
   ],
   "source": [
    "ts"
   ]
  },
  {
   "cell_type": "code",
   "execution_count": 230,
   "metadata": {
    "collapsed": true
   },
   "outputs": [],
   "source": [
    "ts_utc = ts.tz_localize('UTC')"
   ]
  },
  {
   "cell_type": "code",
   "execution_count": 231,
   "metadata": {
    "collapsed": false
   },
   "outputs": [
    {
     "data": {
      "text/plain": [
       "2012-03-06 00:00:00+00:00   -0.971696\n",
       "2012-03-07 00:00:00+00:00   -1.703818\n",
       "2012-03-08 00:00:00+00:00   -0.277408\n",
       "2012-03-09 00:00:00+00:00   -0.622660\n",
       "2012-03-10 00:00:00+00:00    0.530048\n",
       "Freq: D, dtype: float64"
      ]
     },
     "execution_count": 231,
     "metadata": {},
     "output_type": "execute_result"
    }
   ],
   "source": [
    "ts_utc"
   ]
  },
  {
   "cell_type": "markdown",
   "metadata": {},
   "source": [
    "Convert to another time zone"
   ]
  },
  {
   "cell_type": "code",
   "execution_count": 232,
   "metadata": {
    "collapsed": false
   },
   "outputs": [
    {
     "data": {
      "text/plain": [
       "2012-03-05 19:00:00-05:00   -0.971696\n",
       "2012-03-06 19:00:00-05:00   -1.703818\n",
       "2012-03-07 19:00:00-05:00   -0.277408\n",
       "2012-03-08 19:00:00-05:00   -0.622660\n",
       "2012-03-09 19:00:00-05:00    0.530048\n",
       "Freq: D, dtype: float64"
      ]
     },
     "execution_count": 232,
     "metadata": {},
     "output_type": "execute_result"
    }
   ],
   "source": [
    "ts_utc.tz_convert('US/Eastern')"
   ]
  },
  {
   "cell_type": "markdown",
   "metadata": {},
   "source": [
    "Converting between time span representations"
   ]
  },
  {
   "cell_type": "code",
   "execution_count": 233,
   "metadata": {
    "collapsed": true
   },
   "outputs": [],
   "source": [
    "rng = pd.date_range('1/1/2012', periods=5, freq='M')"
   ]
  },
  {
   "cell_type": "code",
   "execution_count": 234,
   "metadata": {
    "collapsed": true
   },
   "outputs": [],
   "source": [
    "ts = pd.Series(np.random.randn(len(rng)), index=rng)"
   ]
  },
  {
   "cell_type": "code",
   "execution_count": 235,
   "metadata": {
    "collapsed": false
   },
   "outputs": [
    {
     "data": {
      "text/plain": [
       "2012-01-31    0.519108\n",
       "2012-02-29   -0.254115\n",
       "2012-03-31    0.008592\n",
       "2012-04-30   -0.026757\n",
       "2012-05-31   -2.115740\n",
       "Freq: M, dtype: float64"
      ]
     },
     "execution_count": 235,
     "metadata": {},
     "output_type": "execute_result"
    }
   ],
   "source": [
    "ts"
   ]
  },
  {
   "cell_type": "code",
   "execution_count": 236,
   "metadata": {
    "collapsed": true
   },
   "outputs": [],
   "source": [
    "ps = ts.to_period()"
   ]
  },
  {
   "cell_type": "code",
   "execution_count": 237,
   "metadata": {
    "collapsed": false
   },
   "outputs": [
    {
     "data": {
      "text/plain": [
       "2012-01    0.519108\n",
       "2012-02   -0.254115\n",
       "2012-03    0.008592\n",
       "2012-04   -0.026757\n",
       "2012-05   -2.115740\n",
       "Freq: M, dtype: float64"
      ]
     },
     "execution_count": 237,
     "metadata": {},
     "output_type": "execute_result"
    }
   ],
   "source": [
    "ps"
   ]
  },
  {
   "cell_type": "code",
   "execution_count": 238,
   "metadata": {
    "collapsed": false
   },
   "outputs": [
    {
     "data": {
      "text/plain": [
       "2012-01-01    0.519108\n",
       "2012-02-01   -0.254115\n",
       "2012-03-01    0.008592\n",
       "2012-04-01   -0.026757\n",
       "2012-05-01   -2.115740\n",
       "Freq: MS, dtype: float64"
      ]
     },
     "execution_count": 238,
     "metadata": {},
     "output_type": "execute_result"
    }
   ],
   "source": [
    "ps.to_timestamp()"
   ]
  },
  {
   "cell_type": "markdown",
   "metadata": {},
   "source": [
    "Converting between period and timestamp enables some convenient arithmetic functions to be used. In the following example, we convert a quarterly frequency with year ending in November to 9am of the end of the month following the quarter end:"
   ]
  },
  {
   "cell_type": "code",
   "execution_count": 239,
   "metadata": {
    "collapsed": true
   },
   "outputs": [],
   "source": [
    "prng = pd.period_range('1990Q1', '2000Q4', freq='Q-NOV')"
   ]
  },
  {
   "cell_type": "code",
   "execution_count": 240,
   "metadata": {
    "collapsed": false
   },
   "outputs": [
    {
     "data": {
      "text/plain": [
       "PeriodIndex(['1990Q1', '1990Q2', '1990Q3', '1990Q4', '1991Q1', '1991Q2',\n",
       "             '1991Q3', '1991Q4', '1992Q1', '1992Q2', '1992Q3', '1992Q4',\n",
       "             '1993Q1', '1993Q2', '1993Q3', '1993Q4', '1994Q1', '1994Q2',\n",
       "             '1994Q3', '1994Q4', '1995Q1', '1995Q2', '1995Q3', '1995Q4',\n",
       "             '1996Q1', '1996Q2', '1996Q3', '1996Q4', '1997Q1', '1997Q2',\n",
       "             '1997Q3', '1997Q4', '1998Q1', '1998Q2', '1998Q3', '1998Q4',\n",
       "             '1999Q1', '1999Q2', '1999Q3', '1999Q4', '2000Q1', '2000Q2',\n",
       "             '2000Q3', '2000Q4'],\n",
       "            dtype='int64', freq='Q-NOV')"
      ]
     },
     "execution_count": 240,
     "metadata": {},
     "output_type": "execute_result"
    }
   ],
   "source": [
    "prng"
   ]
  },
  {
   "cell_type": "code",
   "execution_count": 241,
   "metadata": {
    "collapsed": true
   },
   "outputs": [],
   "source": [
    "ts = pd.Series(np.random.randn(len(prng)), prng)"
   ]
  },
  {
   "cell_type": "code",
   "execution_count": 242,
   "metadata": {
    "collapsed": false
   },
   "outputs": [
    {
     "data": {
      "text/plain": [
       "1990Q1    0.063839\n",
       "1990Q2   -1.250592\n",
       "1990Q3   -1.100298\n",
       "1990Q4    0.878578\n",
       "1991Q1   -0.331688\n",
       "1991Q2    0.101389\n",
       "1991Q3    1.034408\n",
       "1991Q4   -0.202779\n",
       "1992Q1    0.671460\n",
       "1992Q2   -0.535783\n",
       "1992Q3    1.056087\n",
       "1992Q4   -1.189141\n",
       "1993Q1    1.434568\n",
       "1993Q2   -0.852668\n",
       "1993Q3   -0.543787\n",
       "1993Q4    0.182398\n",
       "1994Q1   -0.130826\n",
       "1994Q2   -0.361223\n",
       "1994Q3   -0.278387\n",
       "1994Q4   -0.521700\n",
       "1995Q1   -0.903409\n",
       "1995Q2   -0.556874\n",
       "1995Q3   -0.881072\n",
       "1995Q4    0.820555\n",
       "1996Q1    1.720638\n",
       "1996Q2   -0.716571\n",
       "1996Q3   -0.000020\n",
       "1996Q4    0.473201\n",
       "1997Q1   -0.306958\n",
       "1997Q2    1.417187\n",
       "1997Q3    0.386255\n",
       "1997Q4    0.067039\n",
       "1998Q1    1.509870\n",
       "1998Q2   -0.565452\n",
       "1998Q3    0.384028\n",
       "1998Q4    0.609091\n",
       "1999Q1    0.516009\n",
       "1999Q2    0.181678\n",
       "1999Q3    0.968229\n",
       "1999Q4    0.299611\n",
       "2000Q1    0.645026\n",
       "2000Q2    0.341170\n",
       "2000Q3    0.542083\n",
       "2000Q4   -1.973178\n",
       "Freq: Q-NOV, dtype: float64"
      ]
     },
     "execution_count": 242,
     "metadata": {},
     "output_type": "execute_result"
    }
   ],
   "source": [
    "ts"
   ]
  },
  {
   "cell_type": "code",
   "execution_count": 244,
   "metadata": {
    "collapsed": false
   },
   "outputs": [],
   "source": [
    "ts.index = (prng.asfreq('M', 'e') + 1).asfreq('H', 's') + 9"
   ]
  },
  {
   "cell_type": "code",
   "execution_count": 245,
   "metadata": {
    "collapsed": false
   },
   "outputs": [
    {
     "data": {
      "text/plain": [
       "1990-03-01 09:00    0.063839\n",
       "1990-06-01 09:00   -1.250592\n",
       "1990-09-01 09:00   -1.100298\n",
       "1990-12-01 09:00    0.878578\n",
       "1991-03-01 09:00   -0.331688\n",
       "1991-06-01 09:00    0.101389\n",
       "1991-09-01 09:00    1.034408\n",
       "1991-12-01 09:00   -0.202779\n",
       "1992-03-01 09:00    0.671460\n",
       "1992-06-01 09:00   -0.535783\n",
       "1992-09-01 09:00    1.056087\n",
       "1992-12-01 09:00   -1.189141\n",
       "1993-03-01 09:00    1.434568\n",
       "1993-06-01 09:00   -0.852668\n",
       "1993-09-01 09:00   -0.543787\n",
       "1993-12-01 09:00    0.182398\n",
       "1994-03-01 09:00   -0.130826\n",
       "1994-06-01 09:00   -0.361223\n",
       "1994-09-01 09:00   -0.278387\n",
       "1994-12-01 09:00   -0.521700\n",
       "1995-03-01 09:00   -0.903409\n",
       "1995-06-01 09:00   -0.556874\n",
       "1995-09-01 09:00   -0.881072\n",
       "1995-12-01 09:00    0.820555\n",
       "1996-03-01 09:00    1.720638\n",
       "1996-06-01 09:00   -0.716571\n",
       "1996-09-01 09:00   -0.000020\n",
       "1996-12-01 09:00    0.473201\n",
       "1997-03-01 09:00   -0.306958\n",
       "1997-06-01 09:00    1.417187\n",
       "1997-09-01 09:00    0.386255\n",
       "1997-12-01 09:00    0.067039\n",
       "1998-03-01 09:00    1.509870\n",
       "1998-06-01 09:00   -0.565452\n",
       "1998-09-01 09:00    0.384028\n",
       "1998-12-01 09:00    0.609091\n",
       "1999-03-01 09:00    0.516009\n",
       "1999-06-01 09:00    0.181678\n",
       "1999-09-01 09:00    0.968229\n",
       "1999-12-01 09:00    0.299611\n",
       "2000-03-01 09:00    0.645026\n",
       "2000-06-01 09:00    0.341170\n",
       "2000-09-01 09:00    0.542083\n",
       "2000-12-01 09:00   -1.973178\n",
       "Freq: H, dtype: float64"
      ]
     },
     "execution_count": 245,
     "metadata": {},
     "output_type": "execute_result"
    }
   ],
   "source": [
    "ts"
   ]
  },
  {
   "cell_type": "markdown",
   "metadata": {},
   "source": [
    "#### Categoricals\n",
    "\n",
    "Since version 0.15, pandas can include categorical data in a DataFrame."
   ]
  },
  {
   "cell_type": "code",
   "execution_count": 246,
   "metadata": {
    "collapsed": true
   },
   "outputs": [],
   "source": [
    "df = pd.DataFrame({\"id\": [1,2,3,4,5,6], \"raw_grade\": ['a', 'b', 'b', 'a', 'a', 'e']})"
   ]
  },
  {
   "cell_type": "code",
   "execution_count": 247,
   "metadata": {
    "collapsed": false
   },
   "outputs": [
    {
     "data": {
      "text/html": [
       "<div>\n",
       "<table border=\"1\" class=\"dataframe\">\n",
       "  <thead>\n",
       "    <tr style=\"text-align: right;\">\n",
       "      <th></th>\n",
       "      <th>id</th>\n",
       "      <th>raw_grade</th>\n",
       "    </tr>\n",
       "  </thead>\n",
       "  <tbody>\n",
       "    <tr>\n",
       "      <th>0</th>\n",
       "      <td>1</td>\n",
       "      <td>a</td>\n",
       "    </tr>\n",
       "    <tr>\n",
       "      <th>1</th>\n",
       "      <td>2</td>\n",
       "      <td>b</td>\n",
       "    </tr>\n",
       "    <tr>\n",
       "      <th>2</th>\n",
       "      <td>3</td>\n",
       "      <td>b</td>\n",
       "    </tr>\n",
       "    <tr>\n",
       "      <th>3</th>\n",
       "      <td>4</td>\n",
       "      <td>a</td>\n",
       "    </tr>\n",
       "    <tr>\n",
       "      <th>4</th>\n",
       "      <td>5</td>\n",
       "      <td>a</td>\n",
       "    </tr>\n",
       "    <tr>\n",
       "      <th>5</th>\n",
       "      <td>6</td>\n",
       "      <td>e</td>\n",
       "    </tr>\n",
       "  </tbody>\n",
       "</table>\n",
       "</div>"
      ],
      "text/plain": [
       "   id raw_grade\n",
       "0   1         a\n",
       "1   2         b\n",
       "2   3         b\n",
       "3   4         a\n",
       "4   5         a\n",
       "5   6         e"
      ]
     },
     "execution_count": 247,
     "metadata": {},
     "output_type": "execute_result"
    }
   ],
   "source": [
    "df"
   ]
  },
  {
   "cell_type": "markdown",
   "metadata": {},
   "source": [
    "Convert the raw grades to a categorical data type."
   ]
  },
  {
   "cell_type": "code",
   "execution_count": 248,
   "metadata": {
    "collapsed": true
   },
   "outputs": [],
   "source": [
    "df[\"grade\"] = df[\"raw_grade\"].astype(\"category\")"
   ]
  },
  {
   "cell_type": "code",
   "execution_count": 249,
   "metadata": {
    "collapsed": false
   },
   "outputs": [
    {
     "data": {
      "text/plain": [
       "0    a\n",
       "1    b\n",
       "2    b\n",
       "3    a\n",
       "4    a\n",
       "5    e\n",
       "Name: grade, dtype: category\n",
       "Categories (3, object): [a, b, e]"
      ]
     },
     "execution_count": 249,
     "metadata": {},
     "output_type": "execute_result"
    }
   ],
   "source": [
    "df[\"grade\"]"
   ]
  },
  {
   "cell_type": "markdown",
   "metadata": {},
   "source": [
    "Rename the categories to more meaningful names (assigning to Series.cat.categories is inplace!)"
   ]
  },
  {
   "cell_type": "code",
   "execution_count": 250,
   "metadata": {
    "collapsed": true
   },
   "outputs": [],
   "source": [
    "df[\"grade\"].cat.categories = [\"very good\", \"good\", \"very bad\"]"
   ]
  },
  {
   "cell_type": "code",
   "execution_count": 251,
   "metadata": {
    "collapsed": false
   },
   "outputs": [
    {
     "data": {
      "text/html": [
       "<div>\n",
       "<table border=\"1\" class=\"dataframe\">\n",
       "  <thead>\n",
       "    <tr style=\"text-align: right;\">\n",
       "      <th></th>\n",
       "      <th>id</th>\n",
       "      <th>raw_grade</th>\n",
       "      <th>grade</th>\n",
       "    </tr>\n",
       "  </thead>\n",
       "  <tbody>\n",
       "    <tr>\n",
       "      <th>0</th>\n",
       "      <td>1</td>\n",
       "      <td>a</td>\n",
       "      <td>very good</td>\n",
       "    </tr>\n",
       "    <tr>\n",
       "      <th>1</th>\n",
       "      <td>2</td>\n",
       "      <td>b</td>\n",
       "      <td>good</td>\n",
       "    </tr>\n",
       "    <tr>\n",
       "      <th>2</th>\n",
       "      <td>3</td>\n",
       "      <td>b</td>\n",
       "      <td>good</td>\n",
       "    </tr>\n",
       "    <tr>\n",
       "      <th>3</th>\n",
       "      <td>4</td>\n",
       "      <td>a</td>\n",
       "      <td>very good</td>\n",
       "    </tr>\n",
       "    <tr>\n",
       "      <th>4</th>\n",
       "      <td>5</td>\n",
       "      <td>a</td>\n",
       "      <td>very good</td>\n",
       "    </tr>\n",
       "    <tr>\n",
       "      <th>5</th>\n",
       "      <td>6</td>\n",
       "      <td>e</td>\n",
       "      <td>very bad</td>\n",
       "    </tr>\n",
       "  </tbody>\n",
       "</table>\n",
       "</div>"
      ],
      "text/plain": [
       "   id raw_grade      grade\n",
       "0   1         a  very good\n",
       "1   2         b       good\n",
       "2   3         b       good\n",
       "3   4         a  very good\n",
       "4   5         a  very good\n",
       "5   6         e   very bad"
      ]
     },
     "execution_count": 251,
     "metadata": {},
     "output_type": "execute_result"
    }
   ],
   "source": [
    "df"
   ]
  },
  {
   "cell_type": "markdown",
   "metadata": {},
   "source": [
    "Reorder the categories and simultaneously add the missing categories (methods under Series .cat return a new Series per default)."
   ]
  },
  {
   "cell_type": "code",
   "execution_count": 252,
   "metadata": {
    "collapsed": true
   },
   "outputs": [],
   "source": [
    "df[\"grade\"] = df[\"grade\"].cat.set_categories([\"very bad\", \"bad\", \"medium\", \"good\", \"very good\"])"
   ]
  },
  {
   "cell_type": "code",
   "execution_count": 253,
   "metadata": {
    "collapsed": false
   },
   "outputs": [
    {
     "data": {
      "text/plain": [
       "0    very good\n",
       "1         good\n",
       "2         good\n",
       "3    very good\n",
       "4    very good\n",
       "5     very bad\n",
       "Name: grade, dtype: category\n",
       "Categories (5, object): [very bad, bad, medium, good, very good]"
      ]
     },
     "execution_count": 253,
     "metadata": {},
     "output_type": "execute_result"
    }
   ],
   "source": [
    "df[\"grade\"]"
   ]
  },
  {
   "cell_type": "code",
   "execution_count": 254,
   "metadata": {
    "collapsed": false
   },
   "outputs": [
    {
     "data": {
      "text/html": [
       "<div>\n",
       "<table border=\"1\" class=\"dataframe\">\n",
       "  <thead>\n",
       "    <tr style=\"text-align: right;\">\n",
       "      <th></th>\n",
       "      <th>id</th>\n",
       "      <th>raw_grade</th>\n",
       "      <th>grade</th>\n",
       "    </tr>\n",
       "  </thead>\n",
       "  <tbody>\n",
       "    <tr>\n",
       "      <th>0</th>\n",
       "      <td>1</td>\n",
       "      <td>a</td>\n",
       "      <td>very good</td>\n",
       "    </tr>\n",
       "    <tr>\n",
       "      <th>1</th>\n",
       "      <td>2</td>\n",
       "      <td>b</td>\n",
       "      <td>good</td>\n",
       "    </tr>\n",
       "    <tr>\n",
       "      <th>2</th>\n",
       "      <td>3</td>\n",
       "      <td>b</td>\n",
       "      <td>good</td>\n",
       "    </tr>\n",
       "    <tr>\n",
       "      <th>3</th>\n",
       "      <td>4</td>\n",
       "      <td>a</td>\n",
       "      <td>very good</td>\n",
       "    </tr>\n",
       "    <tr>\n",
       "      <th>4</th>\n",
       "      <td>5</td>\n",
       "      <td>a</td>\n",
       "      <td>very good</td>\n",
       "    </tr>\n",
       "    <tr>\n",
       "      <th>5</th>\n",
       "      <td>6</td>\n",
       "      <td>e</td>\n",
       "      <td>very bad</td>\n",
       "    </tr>\n",
       "  </tbody>\n",
       "</table>\n",
       "</div>"
      ],
      "text/plain": [
       "   id raw_grade      grade\n",
       "0   1         a  very good\n",
       "1   2         b       good\n",
       "2   3         b       good\n",
       "3   4         a  very good\n",
       "4   5         a  very good\n",
       "5   6         e   very bad"
      ]
     },
     "execution_count": 254,
     "metadata": {},
     "output_type": "execute_result"
    }
   ],
   "source": [
    "df"
   ]
  },
  {
   "cell_type": "markdown",
   "metadata": {},
   "source": [
    "Sorting is per order in the categories, not lexical order."
   ]
  },
  {
   "cell_type": "code",
   "execution_count": 255,
   "metadata": {
    "collapsed": false
   },
   "outputs": [
    {
     "data": {
      "text/html": [
       "<div>\n",
       "<table border=\"1\" class=\"dataframe\">\n",
       "  <thead>\n",
       "    <tr style=\"text-align: right;\">\n",
       "      <th></th>\n",
       "      <th>id</th>\n",
       "      <th>raw_grade</th>\n",
       "      <th>grade</th>\n",
       "    </tr>\n",
       "  </thead>\n",
       "  <tbody>\n",
       "    <tr>\n",
       "      <th>5</th>\n",
       "      <td>6</td>\n",
       "      <td>e</td>\n",
       "      <td>very bad</td>\n",
       "    </tr>\n",
       "    <tr>\n",
       "      <th>1</th>\n",
       "      <td>2</td>\n",
       "      <td>b</td>\n",
       "      <td>good</td>\n",
       "    </tr>\n",
       "    <tr>\n",
       "      <th>2</th>\n",
       "      <td>3</td>\n",
       "      <td>b</td>\n",
       "      <td>good</td>\n",
       "    </tr>\n",
       "    <tr>\n",
       "      <th>0</th>\n",
       "      <td>1</td>\n",
       "      <td>a</td>\n",
       "      <td>very good</td>\n",
       "    </tr>\n",
       "    <tr>\n",
       "      <th>3</th>\n",
       "      <td>4</td>\n",
       "      <td>a</td>\n",
       "      <td>very good</td>\n",
       "    </tr>\n",
       "    <tr>\n",
       "      <th>4</th>\n",
       "      <td>5</td>\n",
       "      <td>a</td>\n",
       "      <td>very good</td>\n",
       "    </tr>\n",
       "  </tbody>\n",
       "</table>\n",
       "</div>"
      ],
      "text/plain": [
       "   id raw_grade      grade\n",
       "5   6         e   very bad\n",
       "1   2         b       good\n",
       "2   3         b       good\n",
       "0   1         a  very good\n",
       "3   4         a  very good\n",
       "4   5         a  very good"
      ]
     },
     "execution_count": 255,
     "metadata": {},
     "output_type": "execute_result"
    }
   ],
   "source": [
    "df.sort_values(by=\"grade\")"
   ]
  },
  {
   "cell_type": "markdown",
   "metadata": {},
   "source": [
    "Grouping by a categorical column shows also empty categories."
   ]
  },
  {
   "cell_type": "code",
   "execution_count": 256,
   "metadata": {
    "collapsed": false
   },
   "outputs": [
    {
     "data": {
      "text/plain": [
       "grade\n",
       "very bad     1\n",
       "bad          0\n",
       "medium       0\n",
       "good         2\n",
       "very good    3\n",
       "dtype: int64"
      ]
     },
     "execution_count": 256,
     "metadata": {},
     "output_type": "execute_result"
    }
   ],
   "source": [
    "df.groupby(\"grade\").size()"
   ]
  },
  {
   "cell_type": "markdown",
   "metadata": {},
   "source": [
    "### Plotting"
   ]
  },
  {
   "cell_type": "code",
   "execution_count": 257,
   "metadata": {
    "collapsed": true
   },
   "outputs": [],
   "source": [
    "ts = pd.Series(np.random.randn(1000), index = pd.date_range('1/1/2000', periods=1000))"
   ]
  },
  {
   "cell_type": "code",
   "execution_count": 258,
   "metadata": {
    "collapsed": true
   },
   "outputs": [],
   "source": [
    "ts = ts.cumsum()"
   ]
  },
  {
   "cell_type": "code",
   "execution_count": 259,
   "metadata": {
    "collapsed": false
   },
   "outputs": [
    {
     "data": {
      "text/plain": [
       "<matplotlib.axes._subplots.AxesSubplot at 0x7f31846a13d0>"
      ]
     },
     "execution_count": 259,
     "metadata": {},
     "output_type": "execute_result"
    },
    {
     "data": {
      "image/png": "[encoded data removed]",
      "text/plain": [
       "<matplotlib.figure.Figure at 0x7f3184753fd0>"
      ]
     },
     "metadata": {},
     "output_type": "display_data"
    }
   ],
   "source": [
    "ts.plot()"
   ]
  },
  {
   "cell_type": "markdown",
   "metadata": {},
   "source": [
    "On DataFrame, plot() is a convenience to plot all of the columns with labels:"
   ]
  },
  {
   "cell_type": "code",
   "execution_count": 260,
   "metadata": {
    "collapsed": true
   },
   "outputs": [],
   "source": [
    "df = pd.DataFrame(np.random.randn(1000,4), index = ts.index, columns = ['A', 'B', 'C', 'D'])"
   ]
  },
  {
   "cell_type": "code",
   "execution_count": 261,
   "metadata": {
    "collapsed": true
   },
   "outputs": [],
   "source": [
    "df = df.cumsum()"
   ]
  },
  {
   "cell_type": "code",
   "execution_count": 262,
   "metadata": {
    "collapsed": false
   },
   "outputs": [
    {
     "data": {
      "text/plain": [
       "<matplotlib.legend.Legend at 0x7f31848d58d0>"
      ]
     },
     "execution_count": 262,
     "metadata": {},
     "output_type": "execute_result"
    },
    {
     "data": {
      "text/plain": [
       "<matplotlib.figure.Figure at 0x7f3184604fd0>"
      ]
     },
     "metadata": {},
     "output_type": "display_data"
    },
    {
     "data": {
      "image/png": "[encoded data removed]",
      "text/plain": [
       "<matplotlib.figure.Figure at 0x7f3184604a10>"
      ]
     },
     "metadata": {},
     "output_type": "display_data"
    }
   ],
   "source": [
    "plt.figure(); df.plot(); plt.legend(loc='best')"
   ]
  },
  {
   "cell_type": "markdown",
   "metadata": {},
   "source": [
    "#### Getting Data In/Out"
   ]
  },
  {
   "cell_type": "code",
   "execution_count": 263,
   "metadata": {
    "collapsed": true
   },
   "outputs": [],
   "source": [
    "df.to_csv('foo.csv')"
   ]
  },
  {
   "cell_type": "code",
   "execution_count": 264,
   "metadata": {
    "collapsed": false
   },
   "outputs": [
    {
     "data": {
      "text/html": [
       "<div>\n",
       "<table border=\"1\" class=\"dataframe\">\n",
       "  <thead>\n",
       "    <tr style=\"text-align: right;\">\n",
       "      <th></th>\n",
       "      <th>Unnamed: 0</th>\n",
       "      <th>A</th>\n",
       "      <th>B</th>\n",
       "      <th>C</th>\n",
       "      <th>D</th>\n",
       "    </tr>\n",
       "  </thead>\n",
       "  <tbody>\n",
       "    <tr>\n",
       "      <th>0</th>\n",
       "      <td>2000-01-01</td>\n",
       "      <td>0.413419</td>\n",
       "      <td>0.520819</td>\n",
       "      <td>-1.668241</td>\n",
       "      <td>1.149319</td>\n",
       "    </tr>\n",
       "    <tr>\n",
       "      <th>1</th>\n",
       "      <td>2000-01-02</td>\n",
       "      <td>1.764604</td>\n",
       "      <td>1.315897</td>\n",
       "      <td>-0.499743</td>\n",
       "      <td>0.293639</td>\n",
       "    </tr>\n",
       "    <tr>\n",
       "      <th>2</th>\n",
       "      <td>2000-01-03</td>\n",
       "      <td>2.781238</td>\n",
       "      <td>0.486899</td>\n",
       "      <td>-1.306340</td>\n",
       "      <td>-1.466746</td>\n",
       "    </tr>\n",
       "    <tr>\n",
       "      <th>3</th>\n",
       "      <td>2000-01-04</td>\n",
       "      <td>2.499425</td>\n",
       "      <td>0.461362</td>\n",
       "      <td>-1.968485</td>\n",
       "      <td>-2.317849</td>\n",
       "    </tr>\n",
       "    <tr>\n",
       "      <th>4</th>\n",
       "      <td>2000-01-05</td>\n",
       "      <td>0.766425</td>\n",
       "      <td>-1.669089</td>\n",
       "      <td>-2.992496</td>\n",
       "      <td>-3.341922</td>\n",
       "    </tr>\n",
       "    <tr>\n",
       "      <th>5</th>\n",
       "      <td>2000-01-06</td>\n",
       "      <td>0.894569</td>\n",
       "      <td>-2.076232</td>\n",
       "      <td>-2.730802</td>\n",
       "      <td>-3.664936</td>\n",
       "    </tr>\n",
       "    <tr>\n",
       "      <th>6</th>\n",
       "      <td>2000-01-07</td>\n",
       "      <td>0.385599</td>\n",
       "      <td>-3.196236</td>\n",
       "      <td>-3.054684</td>\n",
       "      <td>-3.551407</td>\n",
       "    </tr>\n",
       "    <tr>\n",
       "      <th>7</th>\n",
       "      <td>2000-01-08</td>\n",
       "      <td>0.318422</td>\n",
       "      <td>-2.772199</td>\n",
       "      <td>-4.527820</td>\n",
       "      <td>-3.954187</td>\n",
       "    </tr>\n",
       "    <tr>\n",
       "      <th>8</th>\n",
       "      <td>2000-01-09</td>\n",
       "      <td>0.448721</td>\n",
       "      <td>-2.885574</td>\n",
       "      <td>-5.726376</td>\n",
       "      <td>-3.263784</td>\n",
       "    </tr>\n",
       "    <tr>\n",
       "      <th>9</th>\n",
       "      <td>2000-01-10</td>\n",
       "      <td>0.249835</td>\n",
       "      <td>-1.387553</td>\n",
       "      <td>-5.448899</td>\n",
       "      <td>-2.611561</td>\n",
       "    </tr>\n",
       "    <tr>\n",
       "      <th>10</th>\n",
       "      <td>2000-01-11</td>\n",
       "      <td>0.725849</td>\n",
       "      <td>-2.181584</td>\n",
       "      <td>-6.639001</td>\n",
       "      <td>-1.625718</td>\n",
       "    </tr>\n",
       "    <tr>\n",
       "      <th>11</th>\n",
       "      <td>2000-01-12</td>\n",
       "      <td>0.107477</td>\n",
       "      <td>-1.053247</td>\n",
       "      <td>-7.785630</td>\n",
       "      <td>-1.694083</td>\n",
       "    </tr>\n",
       "    <tr>\n",
       "      <th>12</th>\n",
       "      <td>2000-01-13</td>\n",
       "      <td>0.192778</td>\n",
       "      <td>-1.727115</td>\n",
       "      <td>-8.437234</td>\n",
       "      <td>-2.200428</td>\n",
       "    </tr>\n",
       "    <tr>\n",
       "      <th>13</th>\n",
       "      <td>2000-01-14</td>\n",
       "      <td>0.916111</td>\n",
       "      <td>-2.766546</td>\n",
       "      <td>-7.768619</td>\n",
       "      <td>-0.277327</td>\n",
       "    </tr>\n",
       "    <tr>\n",
       "      <th>14</th>\n",
       "      <td>2000-01-15</td>\n",
       "      <td>1.033137</td>\n",
       "      <td>-1.826795</td>\n",
       "      <td>-7.334182</td>\n",
       "      <td>-1.037332</td>\n",
       "    </tr>\n",
       "    <tr>\n",
       "      <th>15</th>\n",
       "      <td>2000-01-16</td>\n",
       "      <td>1.687651</td>\n",
       "      <td>-1.280473</td>\n",
       "      <td>-6.674463</td>\n",
       "      <td>-1.441557</td>\n",
       "    </tr>\n",
       "    <tr>\n",
       "      <th>16</th>\n",
       "      <td>2000-01-17</td>\n",
       "      <td>1.538650</td>\n",
       "      <td>-2.162225</td>\n",
       "      <td>-9.556724</td>\n",
       "      <td>-3.091205</td>\n",
       "    </tr>\n",
       "    <tr>\n",
       "      <th>17</th>\n",
       "      <td>2000-01-18</td>\n",
       "      <td>-0.321948</td>\n",
       "      <td>-1.612226</td>\n",
       "      <td>-10.256038</td>\n",
       "      <td>-2.796828</td>\n",
       "    </tr>\n",
       "    <tr>\n",
       "      <th>18</th>\n",
       "      <td>2000-01-19</td>\n",
       "      <td>1.065064</td>\n",
       "      <td>-0.421167</td>\n",
       "      <td>-9.896157</td>\n",
       "      <td>-2.267212</td>\n",
       "    </tr>\n",
       "    <tr>\n",
       "      <th>19</th>\n",
       "      <td>2000-01-20</td>\n",
       "      <td>1.571717</td>\n",
       "      <td>-1.423850</td>\n",
       "      <td>-11.690093</td>\n",
       "      <td>-1.576840</td>\n",
       "    </tr>\n",
       "    <tr>\n",
       "      <th>20</th>\n",
       "      <td>2000-01-21</td>\n",
       "      <td>1.192658</td>\n",
       "      <td>-2.789295</td>\n",
       "      <td>-10.790251</td>\n",
       "      <td>-1.070734</td>\n",
       "    </tr>\n",
       "    <tr>\n",
       "      <th>21</th>\n",
       "      <td>2000-01-22</td>\n",
       "      <td>2.244756</td>\n",
       "      <td>-2.914364</td>\n",
       "      <td>-9.316725</td>\n",
       "      <td>-0.944658</td>\n",
       "    </tr>\n",
       "    <tr>\n",
       "      <th>22</th>\n",
       "      <td>2000-01-23</td>\n",
       "      <td>2.171599</td>\n",
       "      <td>-2.553506</td>\n",
       "      <td>-10.755792</td>\n",
       "      <td>-1.374700</td>\n",
       "    </tr>\n",
       "    <tr>\n",
       "      <th>23</th>\n",
       "      <td>2000-01-24</td>\n",
       "      <td>4.310645</td>\n",
       "      <td>-4.126142</td>\n",
       "      <td>-9.927561</td>\n",
       "      <td>-1.387177</td>\n",
       "    </tr>\n",
       "    <tr>\n",
       "      <th>24</th>\n",
       "      <td>2000-01-25</td>\n",
       "      <td>4.826823</td>\n",
       "      <td>-6.044568</td>\n",
       "      <td>-8.476099</td>\n",
       "      <td>-0.037393</td>\n",
       "    </tr>\n",
       "    <tr>\n",
       "      <th>25</th>\n",
       "      <td>2000-01-26</td>\n",
       "      <td>4.242654</td>\n",
       "      <td>-7.300909</td>\n",
       "      <td>-8.092861</td>\n",
       "      <td>0.244407</td>\n",
       "    </tr>\n",
       "    <tr>\n",
       "      <th>26</th>\n",
       "      <td>2000-01-27</td>\n",
       "      <td>4.982347</td>\n",
       "      <td>-6.775442</td>\n",
       "      <td>-8.703486</td>\n",
       "      <td>-0.414978</td>\n",
       "    </tr>\n",
       "    <tr>\n",
       "      <th>27</th>\n",
       "      <td>2000-01-28</td>\n",
       "      <td>3.991679</td>\n",
       "      <td>-6.595362</td>\n",
       "      <td>-8.796414</td>\n",
       "      <td>0.740207</td>\n",
       "    </tr>\n",
       "    <tr>\n",
       "      <th>28</th>\n",
       "      <td>2000-01-29</td>\n",
       "      <td>3.486025</td>\n",
       "      <td>-6.689951</td>\n",
       "      <td>-8.498755</td>\n",
       "      <td>1.826678</td>\n",
       "    </tr>\n",
       "    <tr>\n",
       "      <th>29</th>\n",
       "      <td>2000-01-30</td>\n",
       "      <td>3.962385</td>\n",
       "      <td>-5.442423</td>\n",
       "      <td>-8.730113</td>\n",
       "      <td>1.601622</td>\n",
       "    </tr>\n",
       "    <tr>\n",
       "      <th>...</th>\n",
       "      <td>...</td>\n",
       "      <td>...</td>\n",
       "      <td>...</td>\n",
       "      <td>...</td>\n",
       "      <td>...</td>\n",
       "    </tr>\n",
       "    <tr>\n",
       "      <th>970</th>\n",
       "      <td>2002-08-28</td>\n",
       "      <td>29.052436</td>\n",
       "      <td>0.665926</td>\n",
       "      <td>-81.290037</td>\n",
       "      <td>-3.996507</td>\n",
       "    </tr>\n",
       "    <tr>\n",
       "      <th>971</th>\n",
       "      <td>2002-08-29</td>\n",
       "      <td>28.469499</td>\n",
       "      <td>-0.001929</td>\n",
       "      <td>-81.534041</td>\n",
       "      <td>-3.544643</td>\n",
       "    </tr>\n",
       "    <tr>\n",
       "      <th>972</th>\n",
       "      <td>2002-08-30</td>\n",
       "      <td>29.360044</td>\n",
       "      <td>0.707171</td>\n",
       "      <td>-82.395945</td>\n",
       "      <td>-1.895093</td>\n",
       "    </tr>\n",
       "    <tr>\n",
       "      <th>973</th>\n",
       "      <td>2002-08-31</td>\n",
       "      <td>29.000091</td>\n",
       "      <td>0.568940</td>\n",
       "      <td>-84.074162</td>\n",
       "      <td>-2.475083</td>\n",
       "    </tr>\n",
       "    <tr>\n",
       "      <th>974</th>\n",
       "      <td>2002-09-01</td>\n",
       "      <td>28.289135</td>\n",
       "      <td>0.837683</td>\n",
       "      <td>-83.142325</td>\n",
       "      <td>-2.936930</td>\n",
       "    </tr>\n",
       "    <tr>\n",
       "      <th>975</th>\n",
       "      <td>2002-09-02</td>\n",
       "      <td>28.360704</td>\n",
       "      <td>1.034946</td>\n",
       "      <td>-83.842223</td>\n",
       "      <td>-2.905708</td>\n",
       "    </tr>\n",
       "    <tr>\n",
       "      <th>976</th>\n",
       "      <td>2002-09-03</td>\n",
       "      <td>29.410813</td>\n",
       "      <td>0.210340</td>\n",
       "      <td>-85.294833</td>\n",
       "      <td>-2.177961</td>\n",
       "    </tr>\n",
       "    <tr>\n",
       "      <th>977</th>\n",
       "      <td>2002-09-04</td>\n",
       "      <td>29.758072</td>\n",
       "      <td>-0.450400</td>\n",
       "      <td>-86.465401</td>\n",
       "      <td>-1.789206</td>\n",
       "    </tr>\n",
       "    <tr>\n",
       "      <th>978</th>\n",
       "      <td>2002-09-05</td>\n",
       "      <td>28.466092</td>\n",
       "      <td>0.027020</td>\n",
       "      <td>-86.308240</td>\n",
       "      <td>-1.206917</td>\n",
       "    </tr>\n",
       "    <tr>\n",
       "      <th>979</th>\n",
       "      <td>2002-09-06</td>\n",
       "      <td>28.317066</td>\n",
       "      <td>0.131860</td>\n",
       "      <td>-86.205026</td>\n",
       "      <td>0.032631</td>\n",
       "    </tr>\n",
       "    <tr>\n",
       "      <th>980</th>\n",
       "      <td>2002-09-07</td>\n",
       "      <td>29.367058</td>\n",
       "      <td>0.712268</td>\n",
       "      <td>-86.035668</td>\n",
       "      <td>-0.407165</td>\n",
       "    </tr>\n",
       "    <tr>\n",
       "      <th>981</th>\n",
       "      <td>2002-09-08</td>\n",
       "      <td>29.737195</td>\n",
       "      <td>-0.503469</td>\n",
       "      <td>-85.447165</td>\n",
       "      <td>0.018195</td>\n",
       "    </tr>\n",
       "    <tr>\n",
       "      <th>982</th>\n",
       "      <td>2002-09-09</td>\n",
       "      <td>28.917880</td>\n",
       "      <td>-2.249660</td>\n",
       "      <td>-85.920187</td>\n",
       "      <td>-1.521385</td>\n",
       "    </tr>\n",
       "    <tr>\n",
       "      <th>983</th>\n",
       "      <td>2002-09-10</td>\n",
       "      <td>28.045614</td>\n",
       "      <td>-3.406253</td>\n",
       "      <td>-86.487769</td>\n",
       "      <td>-3.122169</td>\n",
       "    </tr>\n",
       "    <tr>\n",
       "      <th>984</th>\n",
       "      <td>2002-09-11</td>\n",
       "      <td>28.984441</td>\n",
       "      <td>-2.178161</td>\n",
       "      <td>-86.326012</td>\n",
       "      <td>-1.825266</td>\n",
       "    </tr>\n",
       "    <tr>\n",
       "      <th>985</th>\n",
       "      <td>2002-09-12</td>\n",
       "      <td>29.757174</td>\n",
       "      <td>-0.899492</td>\n",
       "      <td>-84.026497</td>\n",
       "      <td>-1.004399</td>\n",
       "    </tr>\n",
       "    <tr>\n",
       "      <th>986</th>\n",
       "      <td>2002-09-13</td>\n",
       "      <td>30.784208</td>\n",
       "      <td>-0.680901</td>\n",
       "      <td>-84.227443</td>\n",
       "      <td>-1.498716</td>\n",
       "    </tr>\n",
       "    <tr>\n",
       "      <th>987</th>\n",
       "      <td>2002-09-14</td>\n",
       "      <td>30.339508</td>\n",
       "      <td>-2.746775</td>\n",
       "      <td>-86.007392</td>\n",
       "      <td>-0.614546</td>\n",
       "    </tr>\n",
       "    <tr>\n",
       "      <th>988</th>\n",
       "      <td>2002-09-15</td>\n",
       "      <td>30.545005</td>\n",
       "      <td>-2.785840</td>\n",
       "      <td>-85.973482</td>\n",
       "      <td>-1.162163</td>\n",
       "    </tr>\n",
       "    <tr>\n",
       "      <th>989</th>\n",
       "      <td>2002-09-16</td>\n",
       "      <td>30.022458</td>\n",
       "      <td>-1.639562</td>\n",
       "      <td>-86.676375</td>\n",
       "      <td>-2.234512</td>\n",
       "    </tr>\n",
       "    <tr>\n",
       "      <th>990</th>\n",
       "      <td>2002-09-17</td>\n",
       "      <td>28.455180</td>\n",
       "      <td>-1.302206</td>\n",
       "      <td>-88.372996</td>\n",
       "      <td>-3.271007</td>\n",
       "    </tr>\n",
       "    <tr>\n",
       "      <th>991</th>\n",
       "      <td>2002-09-18</td>\n",
       "      <td>28.330411</td>\n",
       "      <td>-1.372453</td>\n",
       "      <td>-87.919451</td>\n",
       "      <td>-3.890190</td>\n",
       "    </tr>\n",
       "    <tr>\n",
       "      <th>992</th>\n",
       "      <td>2002-09-19</td>\n",
       "      <td>28.514857</td>\n",
       "      <td>-1.199240</td>\n",
       "      <td>-87.239903</td>\n",
       "      <td>-2.381994</td>\n",
       "    </tr>\n",
       "    <tr>\n",
       "      <th>993</th>\n",
       "      <td>2002-09-20</td>\n",
       "      <td>28.859977</td>\n",
       "      <td>-1.129606</td>\n",
       "      <td>-87.584032</td>\n",
       "      <td>-2.479182</td>\n",
       "    </tr>\n",
       "    <tr>\n",
       "      <th>994</th>\n",
       "      <td>2002-09-21</td>\n",
       "      <td>27.260907</td>\n",
       "      <td>0.305829</td>\n",
       "      <td>-86.867940</td>\n",
       "      <td>-2.663871</td>\n",
       "    </tr>\n",
       "    <tr>\n",
       "      <th>995</th>\n",
       "      <td>2002-09-22</td>\n",
       "      <td>28.131038</td>\n",
       "      <td>-0.054991</td>\n",
       "      <td>-85.716901</td>\n",
       "      <td>-3.440572</td>\n",
       "    </tr>\n",
       "    <tr>\n",
       "      <th>996</th>\n",
       "      <td>2002-09-23</td>\n",
       "      <td>27.072357</td>\n",
       "      <td>0.021621</td>\n",
       "      <td>-86.805455</td>\n",
       "      <td>-3.404354</td>\n",
       "    </tr>\n",
       "    <tr>\n",
       "      <th>997</th>\n",
       "      <td>2002-09-24</td>\n",
       "      <td>28.924393</td>\n",
       "      <td>-2.813971</td>\n",
       "      <td>-88.222427</td>\n",
       "      <td>-4.117045</td>\n",
       "    </tr>\n",
       "    <tr>\n",
       "      <th>998</th>\n",
       "      <td>2002-09-25</td>\n",
       "      <td>27.516812</td>\n",
       "      <td>-1.363897</td>\n",
       "      <td>-87.371284</td>\n",
       "      <td>-2.815124</td>\n",
       "    </tr>\n",
       "    <tr>\n",
       "      <th>999</th>\n",
       "      <td>2002-09-26</td>\n",
       "      <td>27.517991</td>\n",
       "      <td>-0.832829</td>\n",
       "      <td>-85.488575</td>\n",
       "      <td>-2.391307</td>\n",
       "    </tr>\n",
       "  </tbody>\n",
       "</table>\n",
       "<p>1000 rows × 5 columns</p>\n",
       "</div>"
      ],
      "text/plain": [
       "     Unnamed: 0          A         B          C         D\n",
       "0    2000-01-01   0.413419  0.520819  -1.668241  1.149319\n",
       "1    2000-01-02   1.764604  1.315897  -0.499743  0.293639\n",
       "2    2000-01-03   2.781238  0.486899  -1.306340 -1.466746\n",
       "3    2000-01-04   2.499425  0.461362  -1.968485 -2.317849\n",
       "4    2000-01-05   0.766425 -1.669089  -2.992496 -3.341922\n",
       "5    2000-01-06   0.894569 -2.076232  -2.730802 -3.664936\n",
       "6    2000-01-07   0.385599 -3.196236  -3.054684 -3.551407\n",
       "7    2000-01-08   0.318422 -2.772199  -4.527820 -3.954187\n",
       "8    2000-01-09   0.448721 -2.885574  -5.726376 -3.263784\n",
       "9    2000-01-10   0.249835 -1.387553  -5.448899 -2.611561\n",
       "10   2000-01-11   0.725849 -2.181584  -6.639001 -1.625718\n",
       "11   2000-01-12   0.107477 -1.053247  -7.785630 -1.694083\n",
       "12   2000-01-13   0.192778 -1.727115  -8.437234 -2.200428\n",
       "13   2000-01-14   0.916111 -2.766546  -7.768619 -0.277327\n",
       "14   2000-01-15   1.033137 -1.826795  -7.334182 -1.037332\n",
       "15   2000-01-16   1.687651 -1.280473  -6.674463 -1.441557\n",
       "16   2000-01-17   1.538650 -2.162225  -9.556724 -3.091205\n",
       "17   2000-01-18  -0.321948 -1.612226 -10.256038 -2.796828\n",
       "18   2000-01-19   1.065064 -0.421167  -9.896157 -2.267212\n",
       "19   2000-01-20   1.571717 -1.423850 -11.690093 -1.576840\n",
       "20   2000-01-21   1.192658 -2.789295 -10.790251 -1.070734\n",
       "21   2000-01-22   2.244756 -2.914364  -9.316725 -0.944658\n",
       "22   2000-01-23   2.171599 -2.553506 -10.755792 -1.374700\n",
       "23   2000-01-24   4.310645 -4.126142  -9.927561 -1.387177\n",
       "24   2000-01-25   4.826823 -6.044568  -8.476099 -0.037393\n",
       "25   2000-01-26   4.242654 -7.300909  -8.092861  0.244407\n",
       "26   2000-01-27   4.982347 -6.775442  -8.703486 -0.414978\n",
       "27   2000-01-28   3.991679 -6.595362  -8.796414  0.740207\n",
       "28   2000-01-29   3.486025 -6.689951  -8.498755  1.826678\n",
       "29   2000-01-30   3.962385 -5.442423  -8.730113  1.601622\n",
       "..          ...        ...       ...        ...       ...\n",
       "970  2002-08-28  29.052436  0.665926 -81.290037 -3.996507\n",
       "971  2002-08-29  28.469499 -0.001929 -81.534041 -3.544643\n",
       "972  2002-08-30  29.360044  0.707171 -82.395945 -1.895093\n",
       "973  2002-08-31  29.000091  0.568940 -84.074162 -2.475083\n",
       "974  2002-09-01  28.289135  0.837683 -83.142325 -2.936930\n",
       "975  2002-09-02  28.360704  1.034946 -83.842223 -2.905708\n",
       "976  2002-09-03  29.410813  0.210340 -85.294833 -2.177961\n",
       "977  2002-09-04  29.758072 -0.450400 -86.465401 -1.789206\n",
       "978  2002-09-05  28.466092  0.027020 -86.308240 -1.206917\n",
       "979  2002-09-06  28.317066  0.131860 -86.205026  0.032631\n",
       "980  2002-09-07  29.367058  0.712268 -86.035668 -0.407165\n",
       "981  2002-09-08  29.737195 -0.503469 -85.447165  0.018195\n",
       "982  2002-09-09  28.917880 -2.249660 -85.920187 -1.521385\n",
       "983  2002-09-10  28.045614 -3.406253 -86.487769 -3.122169\n",
       "984  2002-09-11  28.984441 -2.178161 -86.326012 -1.825266\n",
       "985  2002-09-12  29.757174 -0.899492 -84.026497 -1.004399\n",
       "986  2002-09-13  30.784208 -0.680901 -84.227443 -1.498716\n",
       "987  2002-09-14  30.339508 -2.746775 -86.007392 -0.614546\n",
       "988  2002-09-15  30.545005 -2.785840 -85.973482 -1.162163\n",
       "989  2002-09-16  30.022458 -1.639562 -86.676375 -2.234512\n",
       "990  2002-09-17  28.455180 -1.302206 -88.372996 -3.271007\n",
       "991  2002-09-18  28.330411 -1.372453 -87.919451 -3.890190\n",
       "992  2002-09-19  28.514857 -1.199240 -87.239903 -2.381994\n",
       "993  2002-09-20  28.859977 -1.129606 -87.584032 -2.479182\n",
       "994  2002-09-21  27.260907  0.305829 -86.867940 -2.663871\n",
       "995  2002-09-22  28.131038 -0.054991 -85.716901 -3.440572\n",
       "996  2002-09-23  27.072357  0.021621 -86.805455 -3.404354\n",
       "997  2002-09-24  28.924393 -2.813971 -88.222427 -4.117045\n",
       "998  2002-09-25  27.516812 -1.363897 -87.371284 -2.815124\n",
       "999  2002-09-26  27.517991 -0.832829 -85.488575 -2.391307\n",
       "\n",
       "[1000 rows x 5 columns]"
      ]
     },
     "execution_count": 264,
     "metadata": {},
     "output_type": "execute_result"
    }
   ],
   "source": [
    "pd.read_csv('foo.csv')"
   ]
  },
  {
   "cell_type": "markdown",
   "metadata": {},
   "source": [
    "#### HDF5"
   ]
  },
  {
   "cell_type": "code",
   "execution_count": 265,
   "metadata": {
    "collapsed": true
   },
   "outputs": [],
   "source": [
    "df.to_hdf('foo.h5', 'df')"
   ]
  },
  {
   "cell_type": "code",
   "execution_count": 266,
   "metadata": {
    "collapsed": false
   },
   "outputs": [
    {
     "data": {
      "text/html": [
       "<div>\n",
       "<table border=\"1\" class=\"dataframe\">\n",
       "  <thead>\n",
       "    <tr style=\"text-align: right;\">\n",
       "      <th></th>\n",
       "      <th>A</th>\n",
       "      <th>B</th>\n",
       "      <th>C</th>\n",
       "      <th>D</th>\n",
       "    </tr>\n",
       "  </thead>\n",
       "  <tbody>\n",
       "    <tr>\n",
       "      <th>2000-01-01</th>\n",
       "      <td>0.413419</td>\n",
       "      <td>0.520819</td>\n",
       "      <td>-1.668241</td>\n",
       "      <td>1.149319</td>\n",
       "    </tr>\n",
       "    <tr>\n",
       "      <th>2000-01-02</th>\n",
       "      <td>1.764604</td>\n",
       "      <td>1.315897</td>\n",
       "      <td>-0.499743</td>\n",
       "      <td>0.293639</td>\n",
       "    </tr>\n",
       "    <tr>\n",
       "      <th>2000-01-03</th>\n",
       "      <td>2.781238</td>\n",
       "      <td>0.486899</td>\n",
       "      <td>-1.306340</td>\n",
       "      <td>-1.466746</td>\n",
       "    </tr>\n",
       "    <tr>\n",
       "      <th>2000-01-04</th>\n",
       "      <td>2.499425</td>\n",
       "      <td>0.461362</td>\n",
       "      <td>-1.968485</td>\n",
       "      <td>-2.317849</td>\n",
       "    </tr>\n",
       "    <tr>\n",
       "      <th>2000-01-05</th>\n",
       "      <td>0.766425</td>\n",
       "      <td>-1.669089</td>\n",
       "      <td>-2.992496</td>\n",
       "      <td>-3.341922</td>\n",
       "    </tr>\n",
       "    <tr>\n",
       "      <th>2000-01-06</th>\n",
       "      <td>0.894569</td>\n",
       "      <td>-2.076232</td>\n",
       "      <td>-2.730802</td>\n",
       "      <td>-3.664936</td>\n",
       "    </tr>\n",
       "    <tr>\n",
       "      <th>2000-01-07</th>\n",
       "      <td>0.385599</td>\n",
       "      <td>-3.196236</td>\n",
       "      <td>-3.054684</td>\n",
       "      <td>-3.551407</td>\n",
       "    </tr>\n",
       "    <tr>\n",
       "      <th>2000-01-08</th>\n",
       "      <td>0.318422</td>\n",
       "      <td>-2.772199</td>\n",
       "      <td>-4.527820</td>\n",
       "      <td>-3.954187</td>\n",
       "    </tr>\n",
       "    <tr>\n",
       "      <th>2000-01-09</th>\n",
       "      <td>0.448721</td>\n",
       "      <td>-2.885574</td>\n",
       "      <td>-5.726376</td>\n",
       "      <td>-3.263784</td>\n",
       "    </tr>\n",
       "    <tr>\n",
       "      <th>2000-01-10</th>\n",
       "      <td>0.249835</td>\n",
       "      <td>-1.387553</td>\n",
       "      <td>-5.448899</td>\n",
       "      <td>-2.611561</td>\n",
       "    </tr>\n",
       "    <tr>\n",
       "      <th>2000-01-11</th>\n",
       "      <td>0.725849</td>\n",
       "      <td>-2.181584</td>\n",
       "      <td>-6.639001</td>\n",
       "      <td>-1.625718</td>\n",
       "    </tr>\n",
       "    <tr>\n",
       "      <th>2000-01-12</th>\n",
       "      <td>0.107477</td>\n",
       "      <td>-1.053247</td>\n",
       "      <td>-7.785630</td>\n",
       "      <td>-1.694083</td>\n",
       "    </tr>\n",
       "    <tr>\n",
       "      <th>2000-01-13</th>\n",
       "      <td>0.192778</td>\n",
       "      <td>-1.727115</td>\n",
       "      <td>-8.437234</td>\n",
       "      <td>-2.200428</td>\n",
       "    </tr>\n",
       "    <tr>\n",
       "      <th>2000-01-14</th>\n",
       "      <td>0.916111</td>\n",
       "      <td>-2.766546</td>\n",
       "      <td>-7.768619</td>\n",
       "      <td>-0.277327</td>\n",
       "    </tr>\n",
       "    <tr>\n",
       "      <th>2000-01-15</th>\n",
       "      <td>1.033137</td>\n",
       "      <td>-1.826795</td>\n",
       "      <td>-7.334182</td>\n",
       "      <td>-1.037332</td>\n",
       "    </tr>\n",
       "    <tr>\n",
       "      <th>2000-01-16</th>\n",
       "      <td>1.687651</td>\n",
       "      <td>-1.280473</td>\n",
       "      <td>-6.674463</td>\n",
       "      <td>-1.441557</td>\n",
       "    </tr>\n",
       "    <tr>\n",
       "      <th>2000-01-17</th>\n",
       "      <td>1.538650</td>\n",
       "      <td>-2.162225</td>\n",
       "      <td>-9.556724</td>\n",
       "      <td>-3.091205</td>\n",
       "    </tr>\n",
       "    <tr>\n",
       "      <th>2000-01-18</th>\n",
       "      <td>-0.321948</td>\n",
       "      <td>-1.612226</td>\n",
       "      <td>-10.256038</td>\n",
       "      <td>-2.796828</td>\n",
       "    </tr>\n",
       "    <tr>\n",
       "      <th>2000-01-19</th>\n",
       "      <td>1.065064</td>\n",
       "      <td>-0.421167</td>\n",
       "      <td>-9.896157</td>\n",
       "      <td>-2.267212</td>\n",
       "    </tr>\n",
       "    <tr>\n",
       "      <th>2000-01-20</th>\n",
       "      <td>1.571717</td>\n",
       "      <td>-1.423850</td>\n",
       "      <td>-11.690093</td>\n",
       "      <td>-1.576840</td>\n",
       "    </tr>\n",
       "    <tr>\n",
       "      <th>2000-01-21</th>\n",
       "      <td>1.192658</td>\n",
       "      <td>-2.789295</td>\n",
       "      <td>-10.790251</td>\n",
       "      <td>-1.070734</td>\n",
       "    </tr>\n",
       "    <tr>\n",
       "      <th>2000-01-22</th>\n",
       "      <td>2.244756</td>\n",
       "      <td>-2.914364</td>\n",
       "      <td>-9.316725</td>\n",
       "      <td>-0.944658</td>\n",
       "    </tr>\n",
       "    <tr>\n",
       "      <th>2000-01-23</th>\n",
       "      <td>2.171599</td>\n",
       "      <td>-2.553506</td>\n",
       "      <td>-10.755792</td>\n",
       "      <td>-1.374700</td>\n",
       "    </tr>\n",
       "    <tr>\n",
       "      <th>2000-01-24</th>\n",
       "      <td>4.310645</td>\n",
       "      <td>-4.126142</td>\n",
       "      <td>-9.927561</td>\n",
       "      <td>-1.387177</td>\n",
       "    </tr>\n",
       "    <tr>\n",
       "      <th>2000-01-25</th>\n",
       "      <td>4.826823</td>\n",
       "      <td>-6.044568</td>\n",
       "      <td>-8.476099</td>\n",
       "      <td>-0.037393</td>\n",
       "    </tr>\n",
       "    <tr>\n",
       "      <th>2000-01-26</th>\n",
       "      <td>4.242654</td>\n",
       "      <td>-7.300909</td>\n",
       "      <td>-8.092861</td>\n",
       "      <td>0.244407</td>\n",
       "    </tr>\n",
       "    <tr>\n",
       "      <th>2000-01-27</th>\n",
       "      <td>4.982347</td>\n",
       "      <td>-6.775442</td>\n",
       "      <td>-8.703486</td>\n",
       "      <td>-0.414978</td>\n",
       "    </tr>\n",
       "    <tr>\n",
       "      <th>2000-01-28</th>\n",
       "      <td>3.991679</td>\n",
       "      <td>-6.595362</td>\n",
       "      <td>-8.796414</td>\n",
       "      <td>0.740207</td>\n",
       "    </tr>\n",
       "    <tr>\n",
       "      <th>2000-01-29</th>\n",
       "      <td>3.486025</td>\n",
       "      <td>-6.689951</td>\n",
       "      <td>-8.498755</td>\n",
       "      <td>1.826678</td>\n",
       "    </tr>\n",
       "    <tr>\n",
       "      <th>2000-01-30</th>\n",
       "      <td>3.962385</td>\n",
       "      <td>-5.442423</td>\n",
       "      <td>-8.730113</td>\n",
       "      <td>1.601622</td>\n",
       "    </tr>\n",
       "    <tr>\n",
       "      <th>...</th>\n",
       "      <td>...</td>\n",
       "      <td>...</td>\n",
       "      <td>...</td>\n",
       "      <td>...</td>\n",
       "    </tr>\n",
       "    <tr>\n",
       "      <th>2002-08-28</th>\n",
       "      <td>29.052436</td>\n",
       "      <td>0.665926</td>\n",
       "      <td>-81.290037</td>\n",
       "      <td>-3.996507</td>\n",
       "    </tr>\n",
       "    <tr>\n",
       "      <th>2002-08-29</th>\n",
       "      <td>28.469499</td>\n",
       "      <td>-0.001929</td>\n",
       "      <td>-81.534041</td>\n",
       "      <td>-3.544643</td>\n",
       "    </tr>\n",
       "    <tr>\n",
       "      <th>2002-08-30</th>\n",
       "      <td>29.360044</td>\n",
       "      <td>0.707171</td>\n",
       "      <td>-82.395945</td>\n",
       "      <td>-1.895093</td>\n",
       "    </tr>\n",
       "    <tr>\n",
       "      <th>2002-08-31</th>\n",
       "      <td>29.000091</td>\n",
       "      <td>0.568940</td>\n",
       "      <td>-84.074162</td>\n",
       "      <td>-2.475083</td>\n",
       "    </tr>\n",
       "    <tr>\n",
       "      <th>2002-09-01</th>\n",
       "      <td>28.289135</td>\n",
       "      <td>0.837683</td>\n",
       "      <td>-83.142325</td>\n",
       "      <td>-2.936930</td>\n",
       "    </tr>\n",
       "    <tr>\n",
       "      <th>2002-09-02</th>\n",
       "      <td>28.360704</td>\n",
       "      <td>1.034946</td>\n",
       "      <td>-83.842223</td>\n",
       "      <td>-2.905708</td>\n",
       "    </tr>\n",
       "    <tr>\n",
       "      <th>2002-09-03</th>\n",
       "      <td>29.410813</td>\n",
       "      <td>0.210340</td>\n",
       "      <td>-85.294833</td>\n",
       "      <td>-2.177961</td>\n",
       "    </tr>\n",
       "    <tr>\n",
       "      <th>2002-09-04</th>\n",
       "      <td>29.758072</td>\n",
       "      <td>-0.450400</td>\n",
       "      <td>-86.465401</td>\n",
       "      <td>-1.789206</td>\n",
       "    </tr>\n",
       "    <tr>\n",
       "      <th>2002-09-05</th>\n",
       "      <td>28.466092</td>\n",
       "      <td>0.027020</td>\n",
       "      <td>-86.308240</td>\n",
       "      <td>-1.206917</td>\n",
       "    </tr>\n",
       "    <tr>\n",
       "      <th>2002-09-06</th>\n",
       "      <td>28.317066</td>\n",
       "      <td>0.131860</td>\n",
       "      <td>-86.205026</td>\n",
       "      <td>0.032631</td>\n",
       "    </tr>\n",
       "    <tr>\n",
       "      <th>2002-09-07</th>\n",
       "      <td>29.367058</td>\n",
       "      <td>0.712268</td>\n",
       "      <td>-86.035668</td>\n",
       "      <td>-0.407165</td>\n",
       "    </tr>\n",
       "    <tr>\n",
       "      <th>2002-09-08</th>\n",
       "      <td>29.737195</td>\n",
       "      <td>-0.503469</td>\n",
       "      <td>-85.447165</td>\n",
       "      <td>0.018195</td>\n",
       "    </tr>\n",
       "    <tr>\n",
       "      <th>2002-09-09</th>\n",
       "      <td>28.917880</td>\n",
       "      <td>-2.249660</td>\n",
       "      <td>-85.920187</td>\n",
       "      <td>-1.521385</td>\n",
       "    </tr>\n",
       "    <tr>\n",
       "      <th>2002-09-10</th>\n",
       "      <td>28.045614</td>\n",
       "      <td>-3.406253</td>\n",
       "      <td>-86.487769</td>\n",
       "      <td>-3.122169</td>\n",
       "    </tr>\n",
       "    <tr>\n",
       "      <th>2002-09-11</th>\n",
       "      <td>28.984441</td>\n",
       "      <td>-2.178161</td>\n",
       "      <td>-86.326012</td>\n",
       "      <td>-1.825266</td>\n",
       "    </tr>\n",
       "    <tr>\n",
       "      <th>2002-09-12</th>\n",
       "      <td>29.757174</td>\n",
       "      <td>-0.899492</td>\n",
       "      <td>-84.026497</td>\n",
       "      <td>-1.004399</td>\n",
       "    </tr>\n",
       "    <tr>\n",
       "      <th>2002-09-13</th>\n",
       "      <td>30.784208</td>\n",
       "      <td>-0.680901</td>\n",
       "      <td>-84.227443</td>\n",
       "      <td>-1.498716</td>\n",
       "    </tr>\n",
       "    <tr>\n",
       "      <th>2002-09-14</th>\n",
       "      <td>30.339508</td>\n",
       "      <td>-2.746775</td>\n",
       "      <td>-86.007392</td>\n",
       "      <td>-0.614546</td>\n",
       "    </tr>\n",
       "    <tr>\n",
       "      <th>2002-09-15</th>\n",
       "      <td>30.545005</td>\n",
       "      <td>-2.785840</td>\n",
       "      <td>-85.973482</td>\n",
       "      <td>-1.162163</td>\n",
       "    </tr>\n",
       "    <tr>\n",
       "      <th>2002-09-16</th>\n",
       "      <td>30.022458</td>\n",
       "      <td>-1.639562</td>\n",
       "      <td>-86.676375</td>\n",
       "      <td>-2.234512</td>\n",
       "    </tr>\n",
       "    <tr>\n",
       "      <th>2002-09-17</th>\n",
       "      <td>28.455180</td>\n",
       "      <td>-1.302206</td>\n",
       "      <td>-88.372996</td>\n",
       "      <td>-3.271007</td>\n",
       "    </tr>\n",
       "    <tr>\n",
       "      <th>2002-09-18</th>\n",
       "      <td>28.330411</td>\n",
       "      <td>-1.372453</td>\n",
       "      <td>-87.919451</td>\n",
       "      <td>-3.890190</td>\n",
       "    </tr>\n",
       "    <tr>\n",
       "      <th>2002-09-19</th>\n",
       "      <td>28.514857</td>\n",
       "      <td>-1.199240</td>\n",
       "      <td>-87.239903</td>\n",
       "      <td>-2.381994</td>\n",
       "    </tr>\n",
       "    <tr>\n",
       "      <th>2002-09-20</th>\n",
       "      <td>28.859977</td>\n",
       "      <td>-1.129606</td>\n",
       "      <td>-87.584032</td>\n",
       "      <td>-2.479182</td>\n",
       "    </tr>\n",
       "    <tr>\n",
       "      <th>2002-09-21</th>\n",
       "      <td>27.260907</td>\n",
       "      <td>0.305829</td>\n",
       "      <td>-86.867940</td>\n",
       "      <td>-2.663871</td>\n",
       "    </tr>\n",
       "    <tr>\n",
       "      <th>2002-09-22</th>\n",
       "      <td>28.131038</td>\n",
       "      <td>-0.054991</td>\n",
       "      <td>-85.716901</td>\n",
       "      <td>-3.440572</td>\n",
       "    </tr>\n",
       "    <tr>\n",
       "      <th>2002-09-23</th>\n",
       "      <td>27.072357</td>\n",
       "      <td>0.021621</td>\n",
       "      <td>-86.805455</td>\n",
       "      <td>-3.404354</td>\n",
       "    </tr>\n",
       "    <tr>\n",
       "      <th>2002-09-24</th>\n",
       "      <td>28.924393</td>\n",
       "      <td>-2.813971</td>\n",
       "      <td>-88.222427</td>\n",
       "      <td>-4.117045</td>\n",
       "    </tr>\n",
       "    <tr>\n",
       "      <th>2002-09-25</th>\n",
       "      <td>27.516812</td>\n",
       "      <td>-1.363897</td>\n",
       "      <td>-87.371284</td>\n",
       "      <td>-2.815124</td>\n",
       "    </tr>\n",
       "    <tr>\n",
       "      <th>2002-09-26</th>\n",
       "      <td>27.517991</td>\n",
       "      <td>-0.832829</td>\n",
       "      <td>-85.488575</td>\n",
       "      <td>-2.391307</td>\n",
       "    </tr>\n",
       "  </tbody>\n",
       "</table>\n",
       "<p>1000 rows × 4 columns</p>\n",
       "</div>"
      ],
      "text/plain": [
       "                    A         B          C         D\n",
       "2000-01-01   0.413419  0.520819  -1.668241  1.149319\n",
       "2000-01-02   1.764604  1.315897  -0.499743  0.293639\n",
       "2000-01-03   2.781238  0.486899  -1.306340 -1.466746\n",
       "2000-01-04   2.499425  0.461362  -1.968485 -2.317849\n",
       "2000-01-05   0.766425 -1.669089  -2.992496 -3.341922\n",
       "2000-01-06   0.894569 -2.076232  -2.730802 -3.664936\n",
       "2000-01-07   0.385599 -3.196236  -3.054684 -3.551407\n",
       "2000-01-08   0.318422 -2.772199  -4.527820 -3.954187\n",
       "2000-01-09   0.448721 -2.885574  -5.726376 -3.263784\n",
       "2000-01-10   0.249835 -1.387553  -5.448899 -2.611561\n",
       "2000-01-11   0.725849 -2.181584  -6.639001 -1.625718\n",
       "2000-01-12   0.107477 -1.053247  -7.785630 -1.694083\n",
       "2000-01-13   0.192778 -1.727115  -8.437234 -2.200428\n",
       "2000-01-14   0.916111 -2.766546  -7.768619 -0.277327\n",
       "2000-01-15   1.033137 -1.826795  -7.334182 -1.037332\n",
       "2000-01-16   1.687651 -1.280473  -6.674463 -1.441557\n",
       "2000-01-17   1.538650 -2.162225  -9.556724 -3.091205\n",
       "2000-01-18  -0.321948 -1.612226 -10.256038 -2.796828\n",
       "2000-01-19   1.065064 -0.421167  -9.896157 -2.267212\n",
       "2000-01-20   1.571717 -1.423850 -11.690093 -1.576840\n",
       "2000-01-21   1.192658 -2.789295 -10.790251 -1.070734\n",
       "2000-01-22   2.244756 -2.914364  -9.316725 -0.944658\n",
       "2000-01-23   2.171599 -2.553506 -10.755792 -1.374700\n",
       "2000-01-24   4.310645 -4.126142  -9.927561 -1.387177\n",
       "2000-01-25   4.826823 -6.044568  -8.476099 -0.037393\n",
       "2000-01-26   4.242654 -7.300909  -8.092861  0.244407\n",
       "2000-01-27   4.982347 -6.775442  -8.703486 -0.414978\n",
       "2000-01-28   3.991679 -6.595362  -8.796414  0.740207\n",
       "2000-01-29   3.486025 -6.689951  -8.498755  1.826678\n",
       "2000-01-30   3.962385 -5.442423  -8.730113  1.601622\n",
       "...               ...       ...        ...       ...\n",
       "2002-08-28  29.052436  0.665926 -81.290037 -3.996507\n",
       "2002-08-29  28.469499 -0.001929 -81.534041 -3.544643\n",
       "2002-08-30  29.360044  0.707171 -82.395945 -1.895093\n",
       "2002-08-31  29.000091  0.568940 -84.074162 -2.475083\n",
       "2002-09-01  28.289135  0.837683 -83.142325 -2.936930\n",
       "2002-09-02  28.360704  1.034946 -83.842223 -2.905708\n",
       "2002-09-03  29.410813  0.210340 -85.294833 -2.177961\n",
       "2002-09-04  29.758072 -0.450400 -86.465401 -1.789206\n",
       "2002-09-05  28.466092  0.027020 -86.308240 -1.206917\n",
       "2002-09-06  28.317066  0.131860 -86.205026  0.032631\n",
       "2002-09-07  29.367058  0.712268 -86.035668 -0.407165\n",
       "2002-09-08  29.737195 -0.503469 -85.447165  0.018195\n",
       "2002-09-09  28.917880 -2.249660 -85.920187 -1.521385\n",
       "2002-09-10  28.045614 -3.406253 -86.487769 -3.122169\n",
       "2002-09-11  28.984441 -2.178161 -86.326012 -1.825266\n",
       "2002-09-12  29.757174 -0.899492 -84.026497 -1.004399\n",
       "2002-09-13  30.784208 -0.680901 -84.227443 -1.498716\n",
       "2002-09-14  30.339508 -2.746775 -86.007392 -0.614546\n",
       "2002-09-15  30.545005 -2.785840 -85.973482 -1.162163\n",
       "2002-09-16  30.022458 -1.639562 -86.676375 -2.234512\n",
       "2002-09-17  28.455180 -1.302206 -88.372996 -3.271007\n",
       "2002-09-18  28.330411 -1.372453 -87.919451 -3.890190\n",
       "2002-09-19  28.514857 -1.199240 -87.239903 -2.381994\n",
       "2002-09-20  28.859977 -1.129606 -87.584032 -2.479182\n",
       "2002-09-21  27.260907  0.305829 -86.867940 -2.663871\n",
       "2002-09-22  28.131038 -0.054991 -85.716901 -3.440572\n",
       "2002-09-23  27.072357  0.021621 -86.805455 -3.404354\n",
       "2002-09-24  28.924393 -2.813971 -88.222427 -4.117045\n",
       "2002-09-25  27.516812 -1.363897 -87.371284 -2.815124\n",
       "2002-09-26  27.517991 -0.832829 -85.488575 -2.391307\n",
       "\n",
       "[1000 rows x 4 columns]"
      ]
     },
     "execution_count": 266,
     "metadata": {},
     "output_type": "execute_result"
    }
   ],
   "source": [
    "pd.read_hdf('foo.h5', 'df')"
   ]
  },
  {
   "cell_type": "markdown",
   "metadata": {},
   "source": [
    "Reading and writing to MS Excel"
   ]
  },
  {
   "cell_type": "code",
   "execution_count": 269,
   "metadata": {
    "collapsed": false
   },
   "outputs": [],
   "source": [
    "df.to_excel('foo.xlsx', sheet_name='Sheet1')"
   ]
  },
  {
   "cell_type": "code",
   "execution_count": 270,
   "metadata": {
    "collapsed": false
   },
   "outputs": [
    {
     "data": {
      "text/html": [
       "<div>\n",
       "<table border=\"1\" class=\"dataframe\">\n",
       "  <thead>\n",
       "    <tr style=\"text-align: right;\">\n",
       "      <th></th>\n",
       "      <th>A</th>\n",
       "      <th>B</th>\n",
       "      <th>C</th>\n",
       "      <th>D</th>\n",
       "    </tr>\n",
       "  </thead>\n",
       "  <tbody>\n",
       "    <tr>\n",
       "      <th>2000-01-01</th>\n",
       "      <td>0.413419</td>\n",
       "      <td>0.520819</td>\n",
       "      <td>-1.668241</td>\n",
       "      <td>1.149319</td>\n",
       "    </tr>\n",
       "    <tr>\n",
       "      <th>2000-01-02</th>\n",
       "      <td>1.764604</td>\n",
       "      <td>1.315897</td>\n",
       "      <td>-0.499743</td>\n",
       "      <td>0.293639</td>\n",
       "    </tr>\n",
       "    <tr>\n",
       "      <th>2000-01-03</th>\n",
       "      <td>2.781238</td>\n",
       "      <td>0.486899</td>\n",
       "      <td>-1.306340</td>\n",
       "      <td>-1.466746</td>\n",
       "    </tr>\n",
       "    <tr>\n",
       "      <th>2000-01-04</th>\n",
       "      <td>2.499425</td>\n",
       "      <td>0.461362</td>\n",
       "      <td>-1.968485</td>\n",
       "      <td>-2.317849</td>\n",
       "    </tr>\n",
       "    <tr>\n",
       "      <th>2000-01-05</th>\n",
       "      <td>0.766425</td>\n",
       "      <td>-1.669089</td>\n",
       "      <td>-2.992496</td>\n",
       "      <td>-3.341922</td>\n",
       "    </tr>\n",
       "    <tr>\n",
       "      <th>2000-01-06</th>\n",
       "      <td>0.894569</td>\n",
       "      <td>-2.076232</td>\n",
       "      <td>-2.730802</td>\n",
       "      <td>-3.664936</td>\n",
       "    </tr>\n",
       "    <tr>\n",
       "      <th>2000-01-07</th>\n",
       "      <td>0.385599</td>\n",
       "      <td>-3.196236</td>\n",
       "      <td>-3.054684</td>\n",
       "      <td>-3.551407</td>\n",
       "    </tr>\n",
       "    <tr>\n",
       "      <th>2000-01-08</th>\n",
       "      <td>0.318422</td>\n",
       "      <td>-2.772199</td>\n",
       "      <td>-4.527820</td>\n",
       "      <td>-3.954187</td>\n",
       "    </tr>\n",
       "    <tr>\n",
       "      <th>2000-01-09</th>\n",
       "      <td>0.448721</td>\n",
       "      <td>-2.885574</td>\n",
       "      <td>-5.726376</td>\n",
       "      <td>-3.263784</td>\n",
       "    </tr>\n",
       "    <tr>\n",
       "      <th>2000-01-10</th>\n",
       "      <td>0.249835</td>\n",
       "      <td>-1.387553</td>\n",
       "      <td>-5.448899</td>\n",
       "      <td>-2.611561</td>\n",
       "    </tr>\n",
       "    <tr>\n",
       "      <th>2000-01-11</th>\n",
       "      <td>0.725849</td>\n",
       "      <td>-2.181584</td>\n",
       "      <td>-6.639001</td>\n",
       "      <td>-1.625718</td>\n",
       "    </tr>\n",
       "    <tr>\n",
       "      <th>2000-01-12</th>\n",
       "      <td>0.107477</td>\n",
       "      <td>-1.053247</td>\n",
       "      <td>-7.785630</td>\n",
       "      <td>-1.694083</td>\n",
       "    </tr>\n",
       "    <tr>\n",
       "      <th>2000-01-13</th>\n",
       "      <td>0.192778</td>\n",
       "      <td>-1.727115</td>\n",
       "      <td>-8.437234</td>\n",
       "      <td>-2.200428</td>\n",
       "    </tr>\n",
       "    <tr>\n",
       "      <th>2000-01-14</th>\n",
       "      <td>0.916111</td>\n",
       "      <td>-2.766546</td>\n",
       "      <td>-7.768619</td>\n",
       "      <td>-0.277327</td>\n",
       "    </tr>\n",
       "    <tr>\n",
       "      <th>2000-01-15</th>\n",
       "      <td>1.033137</td>\n",
       "      <td>-1.826795</td>\n",
       "      <td>-7.334182</td>\n",
       "      <td>-1.037332</td>\n",
       "    </tr>\n",
       "    <tr>\n",
       "      <th>2000-01-16</th>\n",
       "      <td>1.687651</td>\n",
       "      <td>-1.280473</td>\n",
       "      <td>-6.674463</td>\n",
       "      <td>-1.441557</td>\n",
       "    </tr>\n",
       "    <tr>\n",
       "      <th>2000-01-17</th>\n",
       "      <td>1.538650</td>\n",
       "      <td>-2.162225</td>\n",
       "      <td>-9.556724</td>\n",
       "      <td>-3.091205</td>\n",
       "    </tr>\n",
       "    <tr>\n",
       "      <th>2000-01-18</th>\n",
       "      <td>-0.321948</td>\n",
       "      <td>-1.612226</td>\n",
       "      <td>-10.256038</td>\n",
       "      <td>-2.796828</td>\n",
       "    </tr>\n",
       "    <tr>\n",
       "      <th>2000-01-19</th>\n",
       "      <td>1.065064</td>\n",
       "      <td>-0.421167</td>\n",
       "      <td>-9.896157</td>\n",
       "      <td>-2.267212</td>\n",
       "    </tr>\n",
       "    <tr>\n",
       "      <th>2000-01-20</th>\n",
       "      <td>1.571717</td>\n",
       "      <td>-1.423850</td>\n",
       "      <td>-11.690093</td>\n",
       "      <td>-1.576840</td>\n",
       "    </tr>\n",
       "    <tr>\n",
       "      <th>2000-01-21</th>\n",
       "      <td>1.192658</td>\n",
       "      <td>-2.789295</td>\n",
       "      <td>-10.790251</td>\n",
       "      <td>-1.070734</td>\n",
       "    </tr>\n",
       "    <tr>\n",
       "      <th>2000-01-22</th>\n",
       "      <td>2.244756</td>\n",
       "      <td>-2.914364</td>\n",
       "      <td>-9.316725</td>\n",
       "      <td>-0.944658</td>\n",
       "    </tr>\n",
       "    <tr>\n",
       "      <th>2000-01-23</th>\n",
       "      <td>2.171599</td>\n",
       "      <td>-2.553506</td>\n",
       "      <td>-10.755792</td>\n",
       "      <td>-1.374700</td>\n",
       "    </tr>\n",
       "    <tr>\n",
       "      <th>2000-01-24</th>\n",
       "      <td>4.310645</td>\n",
       "      <td>-4.126142</td>\n",
       "      <td>-9.927561</td>\n",
       "      <td>-1.387177</td>\n",
       "    </tr>\n",
       "    <tr>\n",
       "      <th>2000-01-25</th>\n",
       "      <td>4.826823</td>\n",
       "      <td>-6.044568</td>\n",
       "      <td>-8.476099</td>\n",
       "      <td>-0.037393</td>\n",
       "    </tr>\n",
       "    <tr>\n",
       "      <th>2000-01-26</th>\n",
       "      <td>4.242654</td>\n",
       "      <td>-7.300909</td>\n",
       "      <td>-8.092861</td>\n",
       "      <td>0.244407</td>\n",
       "    </tr>\n",
       "    <tr>\n",
       "      <th>2000-01-27</th>\n",
       "      <td>4.982347</td>\n",
       "      <td>-6.775442</td>\n",
       "      <td>-8.703486</td>\n",
       "      <td>-0.414978</td>\n",
       "    </tr>\n",
       "    <tr>\n",
       "      <th>2000-01-28</th>\n",
       "      <td>3.991679</td>\n",
       "      <td>-6.595362</td>\n",
       "      <td>-8.796414</td>\n",
       "      <td>0.740207</td>\n",
       "    </tr>\n",
       "    <tr>\n",
       "      <th>2000-01-29</th>\n",
       "      <td>3.486025</td>\n",
       "      <td>-6.689951</td>\n",
       "      <td>-8.498755</td>\n",
       "      <td>1.826678</td>\n",
       "    </tr>\n",
       "    <tr>\n",
       "      <th>2000-01-30</th>\n",
       "      <td>3.962385</td>\n",
       "      <td>-5.442423</td>\n",
       "      <td>-8.730113</td>\n",
       "      <td>1.601622</td>\n",
       "    </tr>\n",
       "    <tr>\n",
       "      <th>...</th>\n",
       "      <td>...</td>\n",
       "      <td>...</td>\n",
       "      <td>...</td>\n",
       "      <td>...</td>\n",
       "    </tr>\n",
       "    <tr>\n",
       "      <th>2002-08-28</th>\n",
       "      <td>29.052436</td>\n",
       "      <td>0.665926</td>\n",
       "      <td>-81.290037</td>\n",
       "      <td>-3.996507</td>\n",
       "    </tr>\n",
       "    <tr>\n",
       "      <th>2002-08-29</th>\n",
       "      <td>28.469499</td>\n",
       "      <td>-0.001929</td>\n",
       "      <td>-81.534041</td>\n",
       "      <td>-3.544643</td>\n",
       "    </tr>\n",
       "    <tr>\n",
       "      <th>2002-08-30</th>\n",
       "      <td>29.360044</td>\n",
       "      <td>0.707171</td>\n",
       "      <td>-82.395945</td>\n",
       "      <td>-1.895093</td>\n",
       "    </tr>\n",
       "    <tr>\n",
       "      <th>2002-08-31</th>\n",
       "      <td>29.000091</td>\n",
       "      <td>0.568940</td>\n",
       "      <td>-84.074162</td>\n",
       "      <td>-2.475083</td>\n",
       "    </tr>\n",
       "    <tr>\n",
       "      <th>2002-09-01</th>\n",
       "      <td>28.289135</td>\n",
       "      <td>0.837683</td>\n",
       "      <td>-83.142325</td>\n",
       "      <td>-2.936930</td>\n",
       "    </tr>\n",
       "    <tr>\n",
       "      <th>2002-09-02</th>\n",
       "      <td>28.360704</td>\n",
       "      <td>1.034946</td>\n",
       "      <td>-83.842223</td>\n",
       "      <td>-2.905708</td>\n",
       "    </tr>\n",
       "    <tr>\n",
       "      <th>2002-09-03</th>\n",
       "      <td>29.410813</td>\n",
       "      <td>0.210340</td>\n",
       "      <td>-85.294833</td>\n",
       "      <td>-2.177961</td>\n",
       "    </tr>\n",
       "    <tr>\n",
       "      <th>2002-09-04</th>\n",
       "      <td>29.758072</td>\n",
       "      <td>-0.450400</td>\n",
       "      <td>-86.465401</td>\n",
       "      <td>-1.789206</td>\n",
       "    </tr>\n",
       "    <tr>\n",
       "      <th>2002-09-05</th>\n",
       "      <td>28.466092</td>\n",
       "      <td>0.027020</td>\n",
       "      <td>-86.308240</td>\n",
       "      <td>-1.206917</td>\n",
       "    </tr>\n",
       "    <tr>\n",
       "      <th>2002-09-06</th>\n",
       "      <td>28.317066</td>\n",
       "      <td>0.131860</td>\n",
       "      <td>-86.205026</td>\n",
       "      <td>0.032631</td>\n",
       "    </tr>\n",
       "    <tr>\n",
       "      <th>2002-09-07</th>\n",
       "      <td>29.367058</td>\n",
       "      <td>0.712268</td>\n",
       "      <td>-86.035668</td>\n",
       "      <td>-0.407165</td>\n",
       "    </tr>\n",
       "    <tr>\n",
       "      <th>2002-09-08</th>\n",
       "      <td>29.737195</td>\n",
       "      <td>-0.503469</td>\n",
       "      <td>-85.447165</td>\n",
       "      <td>0.018195</td>\n",
       "    </tr>\n",
       "    <tr>\n",
       "      <th>2002-09-09</th>\n",
       "      <td>28.917880</td>\n",
       "      <td>-2.249660</td>\n",
       "      <td>-85.920187</td>\n",
       "      <td>-1.521385</td>\n",
       "    </tr>\n",
       "    <tr>\n",
       "      <th>2002-09-10</th>\n",
       "      <td>28.045614</td>\n",
       "      <td>-3.406253</td>\n",
       "      <td>-86.487769</td>\n",
       "      <td>-3.122169</td>\n",
       "    </tr>\n",
       "    <tr>\n",
       "      <th>2002-09-11</th>\n",
       "      <td>28.984441</td>\n",
       "      <td>-2.178161</td>\n",
       "      <td>-86.326012</td>\n",
       "      <td>-1.825266</td>\n",
       "    </tr>\n",
       "    <tr>\n",
       "      <th>2002-09-12</th>\n",
       "      <td>29.757174</td>\n",
       "      <td>-0.899492</td>\n",
       "      <td>-84.026497</td>\n",
       "      <td>-1.004399</td>\n",
       "    </tr>\n",
       "    <tr>\n",
       "      <th>2002-09-13</th>\n",
       "      <td>30.784208</td>\n",
       "      <td>-0.680901</td>\n",
       "      <td>-84.227443</td>\n",
       "      <td>-1.498716</td>\n",
       "    </tr>\n",
       "    <tr>\n",
       "      <th>2002-09-14</th>\n",
       "      <td>30.339508</td>\n",
       "      <td>-2.746775</td>\n",
       "      <td>-86.007392</td>\n",
       "      <td>-0.614546</td>\n",
       "    </tr>\n",
       "    <tr>\n",
       "      <th>2002-09-15</th>\n",
       "      <td>30.545005</td>\n",
       "      <td>-2.785840</td>\n",
       "      <td>-85.973482</td>\n",
       "      <td>-1.162163</td>\n",
       "    </tr>\n",
       "    <tr>\n",
       "      <th>2002-09-16</th>\n",
       "      <td>30.022458</td>\n",
       "      <td>-1.639562</td>\n",
       "      <td>-86.676375</td>\n",
       "      <td>-2.234512</td>\n",
       "    </tr>\n",
       "    <tr>\n",
       "      <th>2002-09-17</th>\n",
       "      <td>28.455180</td>\n",
       "      <td>-1.302206</td>\n",
       "      <td>-88.372996</td>\n",
       "      <td>-3.271007</td>\n",
       "    </tr>\n",
       "    <tr>\n",
       "      <th>2002-09-18</th>\n",
       "      <td>28.330411</td>\n",
       "      <td>-1.372453</td>\n",
       "      <td>-87.919451</td>\n",
       "      <td>-3.890190</td>\n",
       "    </tr>\n",
       "    <tr>\n",
       "      <th>2002-09-19</th>\n",
       "      <td>28.514857</td>\n",
       "      <td>-1.199240</td>\n",
       "      <td>-87.239903</td>\n",
       "      <td>-2.381994</td>\n",
       "    </tr>\n",
       "    <tr>\n",
       "      <th>2002-09-20</th>\n",
       "      <td>28.859977</td>\n",
       "      <td>-1.129606</td>\n",
       "      <td>-87.584032</td>\n",
       "      <td>-2.479182</td>\n",
       "    </tr>\n",
       "    <tr>\n",
       "      <th>2002-09-21</th>\n",
       "      <td>27.260907</td>\n",
       "      <td>0.305829</td>\n",
       "      <td>-86.867940</td>\n",
       "      <td>-2.663871</td>\n",
       "    </tr>\n",
       "    <tr>\n",
       "      <th>2002-09-22</th>\n",
       "      <td>28.131038</td>\n",
       "      <td>-0.054991</td>\n",
       "      <td>-85.716901</td>\n",
       "      <td>-3.440572</td>\n",
       "    </tr>\n",
       "    <tr>\n",
       "      <th>2002-09-23</th>\n",
       "      <td>27.072357</td>\n",
       "      <td>0.021621</td>\n",
       "      <td>-86.805455</td>\n",
       "      <td>-3.404354</td>\n",
       "    </tr>\n",
       "    <tr>\n",
       "      <th>2002-09-24</th>\n",
       "      <td>28.924393</td>\n",
       "      <td>-2.813971</td>\n",
       "      <td>-88.222427</td>\n",
       "      <td>-4.117045</td>\n",
       "    </tr>\n",
       "    <tr>\n",
       "      <th>2002-09-25</th>\n",
       "      <td>27.516812</td>\n",
       "      <td>-1.363897</td>\n",
       "      <td>-87.371284</td>\n",
       "      <td>-2.815124</td>\n",
       "    </tr>\n",
       "    <tr>\n",
       "      <th>2002-09-26</th>\n",
       "      <td>27.517991</td>\n",
       "      <td>-0.832829</td>\n",
       "      <td>-85.488575</td>\n",
       "      <td>-2.391307</td>\n",
       "    </tr>\n",
       "  </tbody>\n",
       "</table>\n",
       "<p>1000 rows × 4 columns</p>\n",
       "</div>"
      ],
      "text/plain": [
       "                    A         B          C         D\n",
       "2000-01-01   0.413419  0.520819  -1.668241  1.149319\n",
       "2000-01-02   1.764604  1.315897  -0.499743  0.293639\n",
       "2000-01-03   2.781238  0.486899  -1.306340 -1.466746\n",
       "2000-01-04   2.499425  0.461362  -1.968485 -2.317849\n",
       "2000-01-05   0.766425 -1.669089  -2.992496 -3.341922\n",
       "2000-01-06   0.894569 -2.076232  -2.730802 -3.664936\n",
       "2000-01-07   0.385599 -3.196236  -3.054684 -3.551407\n",
       "2000-01-08   0.318422 -2.772199  -4.527820 -3.954187\n",
       "2000-01-09   0.448721 -2.885574  -5.726376 -3.263784\n",
       "2000-01-10   0.249835 -1.387553  -5.448899 -2.611561\n",
       "2000-01-11   0.725849 -2.181584  -6.639001 -1.625718\n",
       "2000-01-12   0.107477 -1.053247  -7.785630 -1.694083\n",
       "2000-01-13   0.192778 -1.727115  -8.437234 -2.200428\n",
       "2000-01-14   0.916111 -2.766546  -7.768619 -0.277327\n",
       "2000-01-15   1.033137 -1.826795  -7.334182 -1.037332\n",
       "2000-01-16   1.687651 -1.280473  -6.674463 -1.441557\n",
       "2000-01-17   1.538650 -2.162225  -9.556724 -3.091205\n",
       "2000-01-18  -0.321948 -1.612226 -10.256038 -2.796828\n",
       "2000-01-19   1.065064 -0.421167  -9.896157 -2.267212\n",
       "2000-01-20   1.571717 -1.423850 -11.690093 -1.576840\n",
       "2000-01-21   1.192658 -2.789295 -10.790251 -1.070734\n",
       "2000-01-22   2.244756 -2.914364  -9.316725 -0.944658\n",
       "2000-01-23   2.171599 -2.553506 -10.755792 -1.374700\n",
       "2000-01-24   4.310645 -4.126142  -9.927561 -1.387177\n",
       "2000-01-25   4.826823 -6.044568  -8.476099 -0.037393\n",
       "2000-01-26   4.242654 -7.300909  -8.092861  0.244407\n",
       "2000-01-27   4.982347 -6.775442  -8.703486 -0.414978\n",
       "2000-01-28   3.991679 -6.595362  -8.796414  0.740207\n",
       "2000-01-29   3.486025 -6.689951  -8.498755  1.826678\n",
       "2000-01-30   3.962385 -5.442423  -8.730113  1.601622\n",
       "...               ...       ...        ...       ...\n",
       "2002-08-28  29.052436  0.665926 -81.290037 -3.996507\n",
       "2002-08-29  28.469499 -0.001929 -81.534041 -3.544643\n",
       "2002-08-30  29.360044  0.707171 -82.395945 -1.895093\n",
       "2002-08-31  29.000091  0.568940 -84.074162 -2.475083\n",
       "2002-09-01  28.289135  0.837683 -83.142325 -2.936930\n",
       "2002-09-02  28.360704  1.034946 -83.842223 -2.905708\n",
       "2002-09-03  29.410813  0.210340 -85.294833 -2.177961\n",
       "2002-09-04  29.758072 -0.450400 -86.465401 -1.789206\n",
       "2002-09-05  28.466092  0.027020 -86.308240 -1.206917\n",
       "2002-09-06  28.317066  0.131860 -86.205026  0.032631\n",
       "2002-09-07  29.367058  0.712268 -86.035668 -0.407165\n",
       "2002-09-08  29.737195 -0.503469 -85.447165  0.018195\n",
       "2002-09-09  28.917880 -2.249660 -85.920187 -1.521385\n",
       "2002-09-10  28.045614 -3.406253 -86.487769 -3.122169\n",
       "2002-09-11  28.984441 -2.178161 -86.326012 -1.825266\n",
       "2002-09-12  29.757174 -0.899492 -84.026497 -1.004399\n",
       "2002-09-13  30.784208 -0.680901 -84.227443 -1.498716\n",
       "2002-09-14  30.339508 -2.746775 -86.007392 -0.614546\n",
       "2002-09-15  30.545005 -2.785840 -85.973482 -1.162163\n",
       "2002-09-16  30.022458 -1.639562 -86.676375 -2.234512\n",
       "2002-09-17  28.455180 -1.302206 -88.372996 -3.271007\n",
       "2002-09-18  28.330411 -1.372453 -87.919451 -3.890190\n",
       "2002-09-19  28.514857 -1.199240 -87.239903 -2.381994\n",
       "2002-09-20  28.859977 -1.129606 -87.584032 -2.479182\n",
       "2002-09-21  27.260907  0.305829 -86.867940 -2.663871\n",
       "2002-09-22  28.131038 -0.054991 -85.716901 -3.440572\n",
       "2002-09-23  27.072357  0.021621 -86.805455 -3.404354\n",
       "2002-09-24  28.924393 -2.813971 -88.222427 -4.117045\n",
       "2002-09-25  27.516812 -1.363897 -87.371284 -2.815124\n",
       "2002-09-26  27.517991 -0.832829 -85.488575 -2.391307\n",
       "\n",
       "[1000 rows x 4 columns]"
      ]
     },
     "execution_count": 270,
     "metadata": {},
     "output_type": "execute_result"
    }
   ],
   "source": [
    "pd.read_excel('foo.xlsx', 'Sheet1', index_col=None, na_values=['NA'])"
   ]
  },
  {
   "cell_type": "code",
   "execution_count": 271,
   "metadata": {
    "collapsed": false
   },
   "outputs": [
    {
     "data": {
      "text/plain": [
       "True"
      ]
     },
     "execution_count": 271,
     "metadata": {},
     "output_type": "execute_result"
    }
   ],
   "source": [
    "pd.Series([True, False, False]).any()"
   ]
  },
  {
   "cell_type": "code",
   "execution_count": 272,
   "metadata": {
    "collapsed": false
   },
   "outputs": [
    {
     "data": {
      "text/plain": [
       "False"
      ]
     },
     "execution_count": 272,
     "metadata": {},
     "output_type": "execute_result"
    }
   ],
   "source": [
    "pd.Series([True, False, False]).all()"
   ]
  },
  {
   "cell_type": "code",
   "execution_count": 274,
   "metadata": {
    "collapsed": false
   },
   "outputs": [
    {
     "data": {
      "text/plain": [
       "False"
      ]
     },
     "execution_count": 274,
     "metadata": {},
     "output_type": "execute_result"
    }
   ],
   "source": [
    "pd.Series([True, False, False]).empty"
   ]
  },
  {
   "cell_type": "code",
   "execution_count": null,
   "metadata": {
    "collapsed": true
   },
   "outputs": [],
   "source": []
  }
 ],
 "metadata": {
  "kernelspec": {
   "display_name": "Python 2",
   "language": "python",
   "name": "python2"
  },
  "language_info": {
   "codemirror_mode": {
    "name": "ipython",
    "version": 2
   },
   "file_extension": ".py",
   "mimetype": "text/x-python",
   "name": "python",
   "nbconvert_exporter": "python",
   "pygments_lexer": "ipython2",
   "version": "2.7.11"
  }
 },
 "nbformat": 4,
 "nbformat_minor": 0
}
