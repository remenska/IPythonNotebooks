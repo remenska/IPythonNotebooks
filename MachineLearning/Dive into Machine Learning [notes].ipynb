{
 "cells": [
  {
   "cell_type": "markdown",
   "metadata": {},
   "source": [
    "https://github.com/hangtwenty/dive-into-machine-learning"
   ]
  },
  {
   "cell_type": "markdown",
   "metadata": {},
   "source": [
    "###  1. A Visual Introduction to Machine Learning\n",
    "http://www.r2d3.us/visual-intro-to-machine-learning-part-1/\n",
    "\n",
    "In machine learning, computers apply statistical learning techniques to automatically identify patterns in data. These techniques can be used to make highly accurate predictions.  In machine learning terms, categorizing data points is a classification task. Dimensions in a data set are called features, predictors, or variables. \n",
    "\n",
    "One example of a machine learning method is a **decision tree**. Decision trees look at one variable at a time and are a reasonably accessible (though rudimentary) machine learning method. A decision tree uses if-then statements to define patterns in data. For example, if a home's elevation is above some number, then the home is probably in San Francisco.\n",
    "At the best split, the results of each branch should be as homogeneous (or pure) as possible. There are several mathematical methods you can choose between to calculate the best split.\n",
    "Additional forks will add new information that can increase a tree's prediction accuracy. \n",
    "\n",
    "You could even continue to add branches until the tree's predictions are 100% accurate, so that at the end of every branch, the homes are purely in San Francisco or purely in New York.\n",
    "\n",
    "These ultimate branches of the tree are called leaf nodes. Our decision tree models will classify the homes in each leaf node according to which class of homes is in the majority.\n",
    "The newly-trained decision tree model determines whether a home is in San Francisco or New York by running each data point through the branches. Because we grew the tree until it was 100% accurate, this tree maps each training data point perfectly to which city it is in.\n",
    "\n",
    "### Reality check\n",
    "Of course, what matters more is how the tree performs on previously-unseen data. To test the tree's performance on new data, we need to apply it to data points that it has never seen before. This previously unused data is called test data.\n",
    "\n",
    "Errors are due to overfitting. Our model has learned to treat every detail in the training data as important, even details that turned out to be irrelevant.\n",
    "\n",
    "### Recap\n",
    "One method for making predictions is called a decision trees, which uses a series of if-then statements to identify boundaries and define patterns in the data\n",
    "Overfitting happens when some boundaries are based on on distinctions that don't make a difference. You can see if a model overfits by having test data flow through the model."
   ]
  },
  {
   "cell_type": "markdown",
   "metadata": {},
   "source": [
    "###  2. \"A Few Useful Things to Know about Machine Learning\" \n",
    "http://homes.cs.washington.edu/~pedrod/papers/cacm12.pdf\n",
    "\n",
    "This article summarizes twelve key lessons that machine learning researchers and practitioners have learned. These include pitfalls to avoid, important issues to focus on, and answers to common questions.\n",
    "Machine learning systems automatically learn programs from data. This is often a very attractive alternative to manually constructing them, and in the last decade the use of machine learning has spread rapidly throughout computer science and beyond. Machine learning is used in Web search, spam filters, recommender systems, ad placement, credit scoring, fraud detection, stock trading, drug design, and many other applications.\n"
   ]
  },
  {
   "cell_type": "code",
   "execution_count": null,
   "metadata": {
    "collapsed": true
   },
   "outputs": [],
   "source": []
  }
 ],
 "metadata": {
  "kernelspec": {
   "display_name": "Python 2",
   "language": "python",
   "name": "python2"
  },
  "language_info": {
   "codemirror_mode": {
    "name": "ipython",
    "version": 2
   },
   "file_extension": ".py",
   "mimetype": "text/x-python",
   "name": "python",
   "nbconvert_exporter": "python",
   "pygments_lexer": "ipython2",
   "version": "2.7.11"
  }
 },
 "nbformat": 4,
 "nbformat_minor": 0
}
