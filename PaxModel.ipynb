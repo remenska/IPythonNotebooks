{
 "cells": [
  {
   "cell_type": "code",
   "execution_count": 147,
   "metadata": {
    "collapsed": false
   },
   "outputs": [],
   "source": [
    "import types\n",
    "import inspect\n",
    "import traceback\n",
    "from rootpy.tree import IntCol, FloatCol, BoolCol, ObjectCol, LongCol, IntArrayCol, BoolArrayCol\n",
    "import numpy as np\n",
    "from collections import OrderedDict\n",
    "from rootpy.tree import TreeBuffer\n",
    "from pax.data_model import StrictModel,Model,ListField\n",
    "from rootpy.tree import TreeModel\n",
    "from pax.utils import Memoize\n",
    "import json\n",
    "import bson\n",
    "import rootpy.stl as stl\n",
    "import cppyy\n",
    "import ROOT\n",
    "\n",
    "casting_allowed_for = {\n",
    "    int:    ['int16', 'int32', 'int64', 'Int64', 'Int32'],\n",
    "    float:  ['int', 'float32', 'float64', 'int16', 'int32', 'int64', 'Int64', 'Int32'],\n",
    "    bool:   ['int16', 'int32', 'int64', 'Int64', 'Int32'],\n",
    "    stl.string:    ['str'],\n",
    "    ROOT.vector(int): ['list'],\n",
    "    ROOT.vector(float): ['list'],\n",
    "    ROOT.vector(bool): ['list'],\n",
    "    ROOT.vector(stl.string): ['list']\n",
    "}\n",
    "\n",
    "    \n",
    "class PaxTreeBuffer(TreeBuffer):\n",
    "    def __post_init__(self, kwargs_dict=None, quick_init=False, **kwargs):\n",
    "        if quick_init:\n",
    "            self.__dict__.update(kwargs_dict)\n",
    "            self.__dict__.update(kwargs)\n",
    "            return\n",
    "\n",
    "        # Initialize the collection fields to empty lists\n",
    "        # super() is needed to bypass type checking in StrictModel\n",
    "        list_field_info = self.get_list_field_info()\n",
    "        for field_name in list_field_info:\n",
    "            super().__setattr__(field_name, [])\n",
    "\n",
    "        # Initialize all attributes from kwargs and kwargs_dict\n",
    "        kwargs.update(kwargs_dict or {})\n",
    "        for k, v in kwargs.items():\n",
    "            if k in list_field_info:\n",
    "                # User gave a value to initialize a list field. Hopefully an iterable!\n",
    "                # Let's check if the types are correct\n",
    "                desired_type = list_field_info[k]\n",
    "                temp_list = []\n",
    "                for el in v:\n",
    "                    if isinstance(el, desired_type):\n",
    "                        # Good, pass through unmolested\n",
    "                        temp_list.append(el)\n",
    "                    elif isinstance(el, dict):\n",
    "                        # Dicts are fine too, we can use them to init the desired type\n",
    "                        temp_list.append(desired_type(**el))\n",
    "                    else:\n",
    "                        raise ValueError(\"Attempt to initialize list field %s with type %s, \"\n",
    "                                         \"but you promised type %s in class declaration.\" % (k,\n",
    "                                                                                             type(el),\n",
    "                                                                                             desired_type))\n",
    "                # This has to be a list of dictionaries\n",
    "                # suitable to be passed to __init__ of the list field's element type\n",
    "                setattr(self, k, temp_list)\n",
    "            else:\n",
    "                default_value = getattr(self, k)\n",
    "                if type(default_value) == np.ndarray:\n",
    "                    if isinstance(v, np.ndarray):\n",
    "                        pass\n",
    "                    elif isinstance(v, bytes):\n",
    "                        # Numpy arrays can be also initialized from a 'string' of bytes...\n",
    "                        v = np.fromstring(v, dtype=default_value.dtype)\n",
    "                    elif hasattr(v, '__iter__'):\n",
    "                        # ... or an iterable\n",
    "                        v = np.array(v, dtype=default_value.dtype) # TODO: rootpy.tree.treetypes.IntArray should pass here\n",
    "                    else:\n",
    "                        raise ValueError(\"Can't initialize field %s: \"\n",
    "                                         \"don't know how to make a numpy array from a %s\" % (k, type(v)))\n",
    "                elif isinstance(default_value, Model):\n",
    "                    v = default_value.__class__(**v)\n",
    "                elif isinstance(v, stl.string): \n",
    "                    v = str(v)                    \n",
    "                elif isinstance(v, stl.vector(stl.string)):\n",
    "                    if not v.empty():\n",
    "                        v = [str(el) for el in v]\n",
    "                    else:\n",
    "                        v = []  \n",
    "                elif isinstance(v, (stl.vector(int),\n",
    "                                   stl.vector(float),\n",
    "                                   stl.vector(bool)\n",
    "                               )):\n",
    "                    if not v.empty():\n",
    "                        v = list(v)\n",
    "                    else:\n",
    "                        v = []\n",
    "\n",
    "                setattr(self, k, v)\n",
    "\n",
    "    def to_json(self, fields_to_ignore=None):\n",
    "        return json.dumps(self.to_dict(convert_numpy_arrays_to='list',\n",
    "                                       fields_to_ignore=fields_to_ignore)\n",
    "#                           , cls=ROOTJSONEncoder\n",
    "                         )\n",
    "\n",
    "    def to_bson(self, fields_to_ignore=None):\n",
    "        return bson.BSON.encode(self.to_dict(convert_numpy_arrays_to='bytes',\n",
    "                                             fields_to_ignore=fields_to_ignore))\n",
    "\n",
    "    def __setattr__(self, key, value): \n",
    "        # Get the old attr.\n",
    "        # #Will raise AttributeError if doesn't exists, which is what we want\n",
    "        if(key.startswith('_')): # TreeBuffer attributes for the ROOT tree\n",
    "            super().__setattr__(key, value)\n",
    "            \n",
    "        # model fields    \n",
    "        old_val = getattr(self, key)\n",
    "        old_type = type(old_val)\n",
    "        new_type = type(value)\n",
    "        # Check for attempted type change\n",
    "        if old_type != new_type:\n",
    "\n",
    "            # Are we allowed to cast the type?\n",
    "            if old_type in casting_allowed_for \\\n",
    "                    and value.__class__.__name__ in casting_allowed_for[old_type]:\n",
    "                if(old_type in [stl.vector(int), stl.vector(bool), stl.vector(float), stl.vector(stl.string)]):\n",
    "                    prev_value = value\n",
    "                    value=old_type()\n",
    "                    for el in prev_value: # TODO: more efficient way to populate the stl.vector\n",
    "                          value.push_back(str(el) if(old_type==stl.vector(stl.string)) else el)\n",
    "                else:    \n",
    "                    value = old_type(value)\n",
    "            else:\n",
    "                raise TypeError('Attribute %s of class %s should be a %s, not a %s. '\n",
    "                                % (key,\n",
    "                                   self.__class__.__name__,\n",
    "                                   old_val.__class__.__name__,\n",
    "                                   value.__class__.__name__))\n",
    "\n",
    "        # Check for attempted dtype change\n",
    "        if isinstance(old_val, np.ndarray):\n",
    "            if old_val.dtype != value.dtype:\n",
    "                raise TypeError('Attribute %s of class %s should have numpy dtype %s, not %s' % (\n",
    "                    key, self.__class__.__name__, old_val.dtype, value.dtype))\n",
    "                \n",
    "        super().__setattr__(key, value)\n",
    "    \n",
    "                \n",
    "    @classmethod        # Use only in initialization (or if attributes are fixed, as for StrictModel)\n",
    "    @Memoize            # Caching decorator, improves performance if a model is initialized often\n",
    "    def get_list_field_info(cls):\n",
    "        \"\"\"Return dict with fielname => type of elements in collection fields in this class\n",
    "        \"\"\"\n",
    "        list_field_info = {}\n",
    "        for k, v in cls.__dict__.items():\n",
    "            if isinstance(v, ListField):\n",
    "                list_field_info[k] = v.element_type\n",
    "        return list_field_info\n",
    "    \n",
    "    def __str__(self): #TODO change\n",
    "        return str(self.__dict__['_OrderedDict__map'])\n",
    "    \n",
    "    def get_fields_data(self):\n",
    "        \"\"\"Iterator over (key, value) tuples of all user-specified fields\n",
    "        Returns keys in lexical order\n",
    "        \"\"\"\n",
    "        # TODO: increase performance by pre-sorting keys?\n",
    "        # self.__dict__.items() does not return default values set in class declaration\n",
    "        # Hence we need something more complicated\n",
    "        class_dict = self.__dict__['_OrderedDict__map']\n",
    "        self_dict = self.__dict__\n",
    "        \n",
    "        for field_name in sorted(class_dict.keys()):\n",
    "            if field_name in self_dict:\n",
    "                # The instance has a value for this field: return it\n",
    "                yield (field_name, self_dict[field_name])\n",
    "            else:\n",
    "                # ... it doesnt. Should we return its value?\n",
    "                if field_name.startswith('_'):\n",
    "                    continue    # No, is internal\n",
    "                value_in_class = self.__getattr__(field_name) #TODO: or __getitem (returns wrapper object)\n",
    "                if callable(value_in_class):\n",
    "                    continue    # No, is a method\n",
    "                if isinstance(value_in_class, (property, classmethod)):\n",
    "                    continue    # No, is a property or classmethod\n",
    "                # Yes, yield the class-level value\n",
    "                yield (field_name, value_in_class)\n",
    "    \n",
    "    def to_dict(self, convert_numpy_arrays_to=None, fields_to_ignore=None):\n",
    "        # TODO deal with rootpy.tree.treetypes.IntArray etc types\n",
    "        result = {}\n",
    "        if fields_to_ignore is None:\n",
    "            fields_to_ignore = tuple()\n",
    "        for k, v in self.get_fields_data():\n",
    "            if k in fields_to_ignore:\n",
    "                continue\n",
    "            if isinstance(v, PaxTreeBuffer):\n",
    "                result[k] = v.to_dict(convert_numpy_arrays_to=convert_numpy_arrays_to,\n",
    "                                      fields_to_ignore=fields_to_ignore)\n",
    "            elif isinstance(v, list):\n",
    "                result[k] = [el.to_dict(convert_numpy_arrays_to=convert_numpy_arrays_to,\n",
    "                                        fields_to_ignore=fields_to_ignore) for el in v]\n",
    "            # dealing with ROOT stl.string fields\n",
    "            elif isinstance(v, stl.string):\n",
    "                result[k] = str(v)\n",
    "            # dealing with ROOT.vectors\n",
    "            elif isinstance(v, (stl.vector(int),\n",
    "                               stl.vector(float),\n",
    "                               stl.vector(bool)\n",
    "                               )):\n",
    "                if not v.empty():\n",
    "                    result[k] = list(v)\n",
    "                else:\n",
    "                    result[k] = []\n",
    "            elif isinstance(v, stl.vector(stl.string)):\n",
    "                if not v.empty():\n",
    "                    result[k] = [str(el) for el in v]\n",
    "                else:\n",
    "                    result[k] = []\n",
    "            elif isinstance(v, np.ndarray) and convert_numpy_arrays_to is not None:\n",
    "                if convert_numpy_arrays_to == 'list':\n",
    "                    result[k] = v.tolist()\n",
    "                elif convert_numpy_arrays_to == 'bytes':\n",
    "                    result[k] = v.tostring()\n",
    "                else:\n",
    "                    raise ValueError('convert_numpy_arrays_to must be \"list\" or \"bytes\"')\n",
    "            else:\n",
    "                result[k] = v\n",
    "        return result            \n",
    "\n",
    "    \n",
    "class ROOTModel(StrictModel):\n",
    "    def __new__(cls, kwargs_dict=None, quick_init=False, **kwargs):\n",
    "        treebuffer = PaxTreeBuffer()\n",
    "        for name, attr in cls.get_attrs():\n",
    "            treebuffer[name] = attr()\n",
    "\n",
    "        treebuffer.__post_init__(kwargs_dict, quick_init, **kwargs) # We need TreeBuffer to have to_dict, to_json...   \n",
    "        return treebuffer\n",
    "        \n",
    "EventModel = type(\"EventModel\", (ROOTModel, TreeModel,), {'__new__':ROOTModel.__new__})\n",
    "\n",
    "INT_NAN = -99999\n",
    "\n",
    "from ROOT import TObject\n",
    "\n",
    "class Peak(EventModel):\n",
    "    n_hits = IntCol(0)\n",
    "    hits_fraction_top = FloatCol(1.1)\n",
    "\n",
    "class Event(EventModel):\n",
    "    dataset_name = stl.string\n",
    "    event_number = IntCol(0)\n",
    "    n_channels = IntCol(INT_NAN)\n",
    "    start_time = LongCol(0)\n",
    "    stop_time = LongCol(0)\n",
    "    sample_duration = IntCol(0)\n",
    "    peak = ObjectCol(Peak)"
   ]
  },
  {
   "cell_type": "code",
   "execution_count": 148,
   "metadata": {
    "collapsed": false
   },
   "outputs": [],
   "source": [
    "# or don't populate\n",
    "event = Event()"
   ]
  },
  {
   "cell_type": "code",
   "execution_count": 149,
   "metadata": {
    "collapsed": false
   },
   "outputs": [
    {
     "data": {
      "text/plain": [
       "(dataset_name --> <class 'cppyy.string'>\n",
       " event_number --> IntCol(0)\n",
       " n_channels --> IntCol(-99999)\n",
       " start_time --> LongCol(0)\n",
       " stop_time --> LongCol(0)\n",
       " sample_duration --> IntCol(0)\n",
       " peak --> ObjectCol(),\n",
       " ,\n",
       " __main__.ROOTModel,\n",
       " ,\n",
       " pax.data_model.StrictModel,\n",
       " pax.data_model.Model,\n",
       " object)"
      ]
     },
     "execution_count": 149,
     "metadata": {},
     "output_type": "execute_result"
    }
   ],
   "source": [
    "# inheritancce tree\n",
    "inspect.getmro(Event)"
   ]
  },
  {
   "cell_type": "code",
   "execution_count": 150,
   "metadata": {
    "collapsed": false
   },
   "outputs": [
    {
     "data": {
      "text/plain": [
       "1.100000023841858"
      ]
     },
     "execution_count": 150,
     "metadata": {},
     "output_type": "execute_result"
    }
   ],
   "source": [
    "event.peak.hits_fraction_top "
   ]
  },
  {
   "cell_type": "code",
   "execution_count": 151,
   "metadata": {
    "collapsed": false
   },
   "outputs": [
    {
     "data": {
      "text/plain": [
       "4.400000095367432"
      ]
     },
     "execution_count": 151,
     "metadata": {},
     "output_type": "execute_result"
    }
   ],
   "source": [
    "event.peak.hits_fraction_top = 4.4\n",
    "event.peak.hits_fraction_top"
   ]
  },
  {
   "cell_type": "code",
   "execution_count": 152,
   "metadata": {
    "collapsed": false
   },
   "outputs": [
    {
     "data": {
      "text/plain": [
       "[OrderedDict([('n_hits', Int(0) at 0x7f316c36e7c8),\n",
       "              ('hits_fraction_top',\n",
       "               Float(4.400000095367432) at 0x7f316c36e168)])]"
      ]
     },
     "execution_count": 152,
     "metadata": {},
     "output_type": "execute_result"
    }
   ],
   "source": [
    "[event.peak]"
   ]
  },
  {
   "cell_type": "code",
   "execution_count": 153,
   "metadata": {
    "collapsed": false
   },
   "outputs": [
    {
     "data": {
      "text/plain": [
       "OrderedDict([('dataset_name', ''),\n",
       "             ('event_number', Int(0) at 0x7f316c36e048),\n",
       "             ('n_channels', Int(-99999) at 0x7f316c36e3a8),\n",
       "             ('start_time', Long(0) at 0x7f316c36e468),\n",
       "             ('stop_time', Long(0) at 0x7f316c36e1c8),\n",
       "             ('sample_duration', Int(0) at 0x7f316c36e0a8),\n",
       "             ('peak',\n",
       "              OrderedDict([('n_hits', Int(0) at 0x7f316c36e7c8),\n",
       "                           ('hits_fraction_top',\n",
       "                            Float(4.400000095367432) at 0x7f316c36e168)]))])"
      ]
     },
     "execution_count": 153,
     "metadata": {},
     "output_type": "execute_result"
    }
   ],
   "source": [
    "event"
   ]
  },
  {
   "cell_type": "code",
   "execution_count": 154,
   "metadata": {
    "collapsed": false
   },
   "outputs": [
    {
     "data": {
      "text/plain": [
       "{'dataset_name': '',\n",
       " 'event_number': 0,\n",
       " 'n_channels': -99999,\n",
       " 'peak': {'hits_fraction_top': 4.400000095367432, 'n_hits': 0},\n",
       " 'sample_duration': 0,\n",
       " 'start_time': 0,\n",
       " 'stop_time': 0}"
      ]
     },
     "execution_count": 154,
     "metadata": {},
     "output_type": "execute_result"
    }
   ],
   "source": [
    "event.to_dict()"
   ]
  },
  {
   "cell_type": "code",
   "execution_count": 93,
   "metadata": {
    "collapsed": false
   },
   "outputs": [
    {
     "ename": "TypeError",
     "evalue": "can not resolve method template call for 'Branch'",
     "output_type": "error",
     "traceback": [
      "\u001b[1;31m---------------------------------------------------------------------------\u001b[0m",
      "\u001b[1;31mTypeError\u001b[0m                                 Traceback (most recent call last)",
      "\u001b[1;32m<ipython-input-93-db90d24792b4>\u001b[0m in \u001b[0;36m<module>\u001b[1;34m()\u001b[0m\n\u001b[0;32m      9\u001b[0m \u001b[1;32mfrom\u001b[0m \u001b[0mrootpy\u001b[0m\u001b[1;33m.\u001b[0m\u001b[0mio\u001b[0m \u001b[1;32mimport\u001b[0m \u001b[0mroot_open\u001b[0m\u001b[1;33m,\u001b[0m \u001b[0mTemporaryFile\u001b[0m\u001b[1;33m\u001b[0m\u001b[0m\n\u001b[0;32m     10\u001b[0m \u001b[0mf\u001b[0m \u001b[1;33m=\u001b[0m \u001b[0mroot_open\u001b[0m\u001b[1;33m(\u001b[0m\u001b[1;34m\"test_pax_rootpy_new.root\"\u001b[0m\u001b[1;33m,\u001b[0m \u001b[1;34m\"recreate\"\u001b[0m\u001b[1;33m)\u001b[0m\u001b[1;33m\u001b[0m\u001b[0m\n\u001b[1;32m---> 11\u001b[1;33m \u001b[0mtree_event\u001b[0m \u001b[1;33m=\u001b[0m \u001b[0mTree\u001b[0m\u001b[1;33m(\u001b[0m\u001b[1;34m\"treeEvent\"\u001b[0m\u001b[1;33m,\u001b[0m \u001b[0mmodel\u001b[0m\u001b[1;33m=\u001b[0m\u001b[0mEvent\u001b[0m\u001b[1;33m)\u001b[0m\u001b[1;33m\u001b[0m\u001b[0m\n\u001b[0m\u001b[0;32m     12\u001b[0m \u001b[0mtree_event\u001b[0m\u001b[1;33m.\u001b[0m\u001b[0mfill\u001b[0m\u001b[1;33m(\u001b[0m\u001b[1;33m)\u001b[0m\u001b[1;33m\u001b[0m\u001b[0m\n\u001b[0;32m     13\u001b[0m \u001b[0mtree_event\u001b[0m\u001b[1;33m.\u001b[0m\u001b[0mwrite\u001b[0m\u001b[1;33m(\u001b[0m\u001b[1;33m)\u001b[0m\u001b[1;33m\u001b[0m\u001b[0m\n",
      "\u001b[1;32m/home/daniela/anaconda/envs/testpaxagain/rootpy/rootpy/decorators.py\u001b[0m in \u001b[0;36mwrapper\u001b[1;34m(self, *args, **kwargs)\u001b[0m\n\u001b[0;32m     85\u001b[0m                 \"current File is writable\".format(\n\u001b[0;32m     86\u001b[0m                     self.__class__.__name__, _get_qualified_name(f)))\n\u001b[1;32m---> 87\u001b[1;33m         \u001b[1;32mreturn\u001b[0m \u001b[0mf\u001b[0m\u001b[1;33m(\u001b[0m\u001b[0mself\u001b[0m\u001b[1;33m,\u001b[0m \u001b[1;33m*\u001b[0m\u001b[0margs\u001b[0m\u001b[1;33m,\u001b[0m \u001b[1;33m**\u001b[0m\u001b[0mkwargs\u001b[0m\u001b[1;33m)\u001b[0m\u001b[1;33m\u001b[0m\u001b[0m\n\u001b[0m\u001b[0;32m     88\u001b[0m     \u001b[1;32mreturn\u001b[0m \u001b[0mwrapper\u001b[0m\u001b[1;33m\u001b[0m\u001b[0m\n\u001b[0;32m     89\u001b[0m \u001b[1;33m\u001b[0m\u001b[0m\n",
      "\u001b[1;32m/home/daniela/anaconda/envs/testpaxagain/rootpy/rootpy/tree/tree.py\u001b[0m in \u001b[0;36m__init__\u001b[1;34m(self, name, title, model)\u001b[0m\n\u001b[0;32m    878\u001b[0m             \u001b[1;32mif\u001b[0m \u001b[1;32mnot\u001b[0m \u001b[0missubclass\u001b[0m\u001b[1;33m(\u001b[0m\u001b[0mmodel\u001b[0m\u001b[1;33m,\u001b[0m \u001b[0mTreeModel\u001b[0m\u001b[1;33m)\u001b[0m\u001b[1;33m:\u001b[0m\u001b[1;33m\u001b[0m\u001b[0m\n\u001b[0;32m    879\u001b[0m                 \u001b[1;32mraise\u001b[0m \u001b[0mTypeError\u001b[0m\u001b[1;33m(\u001b[0m\u001b[1;34m\"the model must subclass TreeModel\"\u001b[0m\u001b[1;33m)\u001b[0m\u001b[1;33m\u001b[0m\u001b[0m\n\u001b[1;32m--> 880\u001b[1;33m             \u001b[0mself\u001b[0m\u001b[1;33m.\u001b[0m\u001b[0mset_buffer\u001b[0m\u001b[1;33m(\u001b[0m\u001b[0mmodel\u001b[0m\u001b[1;33m(\u001b[0m\u001b[1;33m)\u001b[0m\u001b[1;33m,\u001b[0m \u001b[0mcreate_branches\u001b[0m\u001b[1;33m=\u001b[0m\u001b[1;32mTrue\u001b[0m\u001b[1;33m)\u001b[0m\u001b[1;33m\u001b[0m\u001b[0m\n\u001b[0m\u001b[0;32m    881\u001b[0m         \u001b[0mself\u001b[0m\u001b[1;33m.\u001b[0m\u001b[0m_post_init\u001b[0m\u001b[1;33m(\u001b[0m\u001b[1;33m)\u001b[0m\u001b[1;33m\u001b[0m\u001b[0m\n\u001b[0;32m    882\u001b[0m \u001b[1;33m\u001b[0m\u001b[0m\n",
      "\u001b[1;32m/home/daniela/anaconda/envs/testpaxagain/rootpy/rootpy/tree/tree.py\u001b[0m in \u001b[0;36mset_buffer\u001b[1;34m(self, treebuffer, branches, ignore_branches, create_branches, visible, ignore_missing, ignore_duplicates, transfer_objects)\u001b[0m\n\u001b[0;32m    235\u001b[0m                             name, value.type, length))\n\u001b[0;32m    236\u001b[0m                 \u001b[1;32melse\u001b[0m\u001b[1;33m:\u001b[0m\u001b[1;33m\u001b[0m\u001b[0m\n\u001b[1;32m--> 237\u001b[1;33m                     \u001b[0mself\u001b[0m\u001b[1;33m.\u001b[0m\u001b[0mBranch\u001b[0m\u001b[1;33m(\u001b[0m\u001b[0mname\u001b[0m\u001b[1;33m,\u001b[0m \u001b[0mvalue\u001b[0m\u001b[1;33m)\u001b[0m\u001b[1;33m\u001b[0m\u001b[0m\n\u001b[0m\u001b[0;32m    238\u001b[0m         \u001b[1;32melse\u001b[0m\u001b[1;33m:\u001b[0m\u001b[1;33m\u001b[0m\u001b[0m\n\u001b[0;32m    239\u001b[0m             \u001b[1;32mfor\u001b[0m \u001b[0mname\u001b[0m \u001b[1;32min\u001b[0m \u001b[0mbranches\u001b[0m\u001b[1;33m:\u001b[0m\u001b[1;33m\u001b[0m\u001b[0m\n",
      "\u001b[1;31mTypeError\u001b[0m: can not resolve method template call for 'Branch'"
     ]
    }
   ],
   "source": [
    "# usse the model to write a ROOT tree\n",
    "from rootpy.tree import Tree, Ntuple, TreeModel, TreeChain\n",
    "from rootpy.tree.treetypes import *\n",
    "from rootpy.tree.tree import *\n",
    "from rootpy.tree.model import *\n",
    "import ROOT\n",
    "import rootpy.stl as stl\n",
    "\n",
    "from rootpy.io import root_open, TemporaryFile\n",
    "f = root_open(\"test_pax_rootpy_new.root\", \"recreate\")\n",
    "tree_event = Tree(\"treeEvent\", model=Event)\n",
    "tree_event.fill()\n",
    "tree_event.write()\n",
    "f.write()\n",
    "\n",
    "for branch in tree_event.GetListOfBranches():\n",
    "    print(branch)"
   ]
  },
  {
   "cell_type": "code",
   "execution_count": null,
   "metadata": {
    "collapsed": true
   },
   "outputs": [],
   "source": []
  }
 ],
 "metadata": {
  "kernelspec": {
   "display_name": "Python 3",
   "language": "python",
   "name": "python3"
  },
  "language_info": {
   "codemirror_mode": {
    "name": "ipython",
    "version": 3
   },
   "file_extension": ".py",
   "mimetype": "text/x-python",
   "name": "python",
   "nbconvert_exporter": "python",
   "pygments_lexer": "ipython3",
   "version": "3.4.3"
  }
 },
 "nbformat": 4,
 "nbformat_minor": 0
}
