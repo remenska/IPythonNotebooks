{
 "cells": [
  {
   "cell_type": "code",
   "execution_count": 1,
   "metadata": {
    "collapsed": false
   },
   "outputs": [],
   "source": [
    "import ROOT\n",
    "import re\n",
    "import numpy as np\n",
    "\n",
    "def load_event_class(filename):\n",
    "    \"\"\"Read a C++ root class definition, generating dictionaries for vectors of classes\"\"\"\n",
    "    classnames = []\n",
    "    with open(filename, 'r') as classfile:\n",
    "        for line in classfile.readlines():\n",
    "            m = re.match(r'class (\\w*) ', line)\n",
    "            if m:\n",
    "                classnames.append(m.group(1))\n",
    "# Load the file in ROOT\n",
    "    ROOT.gROOT.ProcessLine('.L %s++' % filename)\n",
    "# Build the required dictionaries for the vectors of classes\n",
    "    for name in classnames:\n",
    "        ROOT.gInterpreter.GenerateDictionary(\"vector<%s>\" % name, filename)"
   ]
  },
  {
   "cell_type": "code",
   "execution_count": 2,
   "metadata": {
    "collapsed": false
   },
   "outputs": [
    {
     "name": "stderr",
     "output_type": "stream",
     "text": [
      "TClassTable::Add:0: RuntimeWarning: class Interaction already in TClassTable\n",
      "TClassTable::Add:0: RuntimeWarning: class ReconstructedPosition already in TClassTable\n",
      "TClassTable::Add:0: RuntimeWarning: class Peak already in TClassTable\n",
      "TClassTable::Add:0: RuntimeWarning: class Event already in TClassTable\n"
     ]
    }
   ],
   "source": [
    "load_event_class(\"pax_event_class_410.cpp\")"
   ]
  },
  {
   "cell_type": "code",
   "execution_count": 3,
   "metadata": {
    "collapsed": true
   },
   "outputs": [],
   "source": [
    "from sys import getrefcount\n",
    "import numpy as np\n",
    "root_event = ROOT.Event()"
   ]
  },
  {
   "cell_type": "code",
   "execution_count": 4,
   "metadata": {
    "collapsed": true
   },
   "outputs": [],
   "source": [
    "root_field = getattr(root_event, \"lone_hits_per_channel\") # an array type of field"
   ]
  },
  {
   "cell_type": "code",
   "execution_count": 5,
   "metadata": {
    "collapsed": false
   },
   "outputs": [
    {
     "data": {
      "text/plain": [
       "ROOT.PyShortBuffer"
      ]
     },
     "execution_count": 5,
     "metadata": {},
     "output_type": "execute_result"
    }
   ],
   "source": [
    "type(root_field)"
   ]
  },
  {
   "cell_type": "code",
   "execution_count": 6,
   "metadata": {
    "collapsed": false
   },
   "outputs": [
    {
     "data": {
      "text/plain": [
       "2"
      ]
     },
     "execution_count": 6,
     "metadata": {},
     "output_type": "execute_result"
    }
   ],
   "source": [
    "getrefcount(root_field)"
   ]
  },
  {
   "cell_type": "code",
   "execution_count": 7,
   "metadata": {
    "collapsed": true
   },
   "outputs": [],
   "source": [
    "lone_hits_per_channel = np.zeros(243, dtype=np.int16) # the \"field_value\" that we convert"
   ]
  },
  {
   "cell_type": "code",
   "execution_count": 8,
   "metadata": {
    "collapsed": false
   },
   "outputs": [],
   "source": [
    "for i, x in enumerate(lone_hits_per_channel):\n",
    "    root_field[i] = x"
   ]
  },
  {
   "cell_type": "code",
   "execution_count": 9,
   "metadata": {
    "collapsed": false
   },
   "outputs": [
    {
     "data": {
      "text/plain": [
       "488"
      ]
     },
     "execution_count": 9,
     "metadata": {},
     "output_type": "execute_result"
    }
   ],
   "source": [
    "getrefcount(root_field) # huge number of references"
   ]
  },
  {
   "cell_type": "code",
   "execution_count": 11,
   "metadata": {
    "collapsed": false
   },
   "outputs": [],
   "source": [
    "# how about this instead:\n",
    "import array\n",
    "\n",
    "root_field = getattr(root_event, \"lone_hits_per_channel\")    \n",
    "root_field_type = root_field.typecode.decode(\"UTF-8\")\n",
    "root_field = array.array(root_field_type,\n",
    "                                         [0]*lone_hits_per_channel.size)\n"
   ]
  },
  {
   "cell_type": "code",
   "execution_count": 12,
   "metadata": {
    "collapsed": true
   },
   "outputs": [],
   "source": [
    "for i, x in enumerate(lone_hits_per_channel):\n",
    "    root_field[i] = x"
   ]
  },
  {
   "cell_type": "code",
   "execution_count": 14,
   "metadata": {
    "collapsed": false
   },
   "outputs": [
    {
     "data": {
      "text/plain": [
       "2"
      ]
     },
     "execution_count": 14,
     "metadata": {},
     "output_type": "execute_result"
    }
   ],
   "source": [
    "getrefcount(root_field) # no refs?"
   ]
  },
  {
   "cell_type": "code",
   "execution_count": 15,
   "metadata": {
    "collapsed": true
   },
   "outputs": [],
   "source": [
    "setattr(root_event, \"lone_hits_per_channel\", root_field)"
   ]
  },
  {
   "cell_type": "code",
   "execution_count": null,
   "metadata": {
    "collapsed": false
   },
   "outputs": [],
   "source": []
  },
  {
   "cell_type": "code",
   "execution_count": null,
   "metadata": {
    "collapsed": true
   },
   "outputs": [],
   "source": []
  }
 ],
 "metadata": {
  "kernelspec": {
   "display_name": "Python 3",
   "language": "python",
   "name": "python3"
  },
  "language_info": {
   "codemirror_mode": {
    "name": "ipython",
    "version": 3
   },
   "file_extension": ".py",
   "mimetype": "text/x-python",
   "name": "python",
   "nbconvert_exporter": "python",
   "pygments_lexer": "ipython3",
   "version": "3.4.3"
  }
 },
 "nbformat": 4,
 "nbformat_minor": 0
}
