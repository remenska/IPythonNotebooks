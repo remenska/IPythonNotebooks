{
 "cells": [
  {
   "cell_type": "code",
   "execution_count": 85,
   "metadata": {
    "collapsed": true
   },
   "outputs": [],
   "source": [
    "import rootpy"
   ]
  },
  {
   "cell_type": "code",
   "execution_count": 86,
   "metadata": {
    "collapsed": true
   },
   "outputs": [],
   "source": [
    "from rootpy.extern import byteplay3 as byteplay3"
   ]
  },
  {
   "cell_type": "code",
   "execution_count": 87,
   "metadata": {
    "collapsed": true
   },
   "outputs": [],
   "source": [
    "from rootpy.extern.byteplay3 import *"
   ]
  },
  {
   "cell_type": "code",
   "execution_count": 88,
   "metadata": {
    "collapsed": true
   },
   "outputs": [],
   "source": [
    "def f(a, b):\n",
    "    print (a, b)\n",
    "    \n",
    "    "
   ]
  },
  {
   "cell_type": "code",
   "execution_count": 89,
   "metadata": {
    "collapsed": false
   },
   "outputs": [
    {
     "data": {
      "text/plain": [
       "<code object f at 0x7f2e9128fc90, file \"<ipython-input-88-a3ff1c741a6f>\", line 1>"
      ]
     },
     "execution_count": 89,
     "metadata": {},
     "output_type": "execute_result"
    }
   ],
   "source": [
    "f.__code__"
   ]
  },
  {
   "cell_type": "code",
   "execution_count": 91,
   "metadata": {
    "collapsed": false
   },
   "outputs": [
    {
     "name": "stdout",
     "output_type": "stream",
     "text": [
      "DEBUG <class 'code'>\n",
      "DEBUG <code object f at 0x7f2e9128fc90, file \"<ipython-input-88-a3ff1c741a6f>\", line 1>\n"
     ]
    }
   ],
   "source": [
    "c = Code.from_code(f.__code__)"
   ]
  },
  {
   "cell_type": "code",
   "execution_count": 94,
   "metadata": {
    "collapsed": true
   },
   "outputs": [],
   "source": [
    "from pprint import pprint"
   ]
  },
  {
   "cell_type": "code",
   "execution_count": 95,
   "metadata": {
    "collapsed": false
   },
   "outputs": [
    {
     "name": "stdout",
     "output_type": "stream",
     "text": [
      "[(<class 'rootpy.extern.byteplay3.SetLinenoType'>, 2),\n",
      " (LOAD_GLOBAL, 'print'),\n",
      " (LOAD_FAST, 'a'),\n",
      " (LOAD_FAST, 'b'),\n",
      " (CALL_FUNCTION, 2),\n",
      " (POP_TOP, None),\n",
      " (LOAD_CONST, None),\n",
      " (RETURN_VALUE, None)]\n"
     ]
    }
   ],
   "source": [
    "pprint(c.code)"
   ]
  },
  {
   "cell_type": "code",
   "execution_count": 96,
   "metadata": {
    "collapsed": true
   },
   "outputs": [],
   "source": [
    "def wrap():\n",
    "    a = 1\n",
    "    def outer(VALUE):\n",
    "        y = a\n",
    "        z = 2\n",
    "        def inner(x):\n",
    "            return a, x, y, z, VALUE, ANOTHER, nonexist\n",
    "        return inner\n",
    "    return outer\n"
   ]
  },
  {
   "cell_type": "code",
   "execution_count": 97,
   "metadata": {
    "collapsed": false
   },
   "outputs": [],
   "source": [
    "global nonexist\n",
    "nonexist = 999"
   ]
  },
  {
   "cell_type": "code",
   "execution_count": 99,
   "metadata": {
    "collapsed": false
   },
   "outputs": [
    {
     "name": "stdout",
     "output_type": "stream",
     "text": [
      "DEBUG <class 'code'>\n",
      "DEBUG <code object wrap at 0x7f2e912d1db0, file \"<ipython-input-96-f0f19e9dfcf6>\", line 1>\n",
      "DEBUG <class 'str'>\n",
      "DEBUG wrap.<locals>.outer\n"
     ]
    },
    {
     "ename": "AttributeError",
     "evalue": "'str' object has no attribute 'co_code'",
     "output_type": "error",
     "traceback": [
      "\u001b[1;31m---------------------------------------------------------------------------\u001b[0m",
      "\u001b[1;31mAttributeError\u001b[0m                            Traceback (most recent call last)",
      "\u001b[1;32m<ipython-input-99-bfe2adb1fa98>\u001b[0m in \u001b[0;36m<module>\u001b[1;34m()\u001b[0m\n\u001b[1;32m----> 1\u001b[1;33m \u001b[0md\u001b[0m \u001b[1;33m=\u001b[0m \u001b[0mCode\u001b[0m\u001b[1;33m.\u001b[0m\u001b[0mfrom_code\u001b[0m\u001b[1;33m(\u001b[0m\u001b[0mwrap\u001b[0m\u001b[1;33m.\u001b[0m\u001b[0m__code__\u001b[0m\u001b[1;33m)\u001b[0m\u001b[1;33m\u001b[0m\u001b[0m\n\u001b[0m",
      "\u001b[1;32m/home/daniela/git/rootpy/rootpy/extern/byteplay3.py\u001b[0m in \u001b[0;36mfrom_code\u001b[1;34m(cls, co)\u001b[0m\n\u001b[0;32m    149\u001b[0m                                 \u001b[1;32mif\u001b[0m \u001b[0mlastop\u001b[0m\u001b[1;33m!=\u001b[0m\u001b[0mLOAD_CONST\u001b[0m\u001b[1;33m:\u001b[0m\u001b[1;32mraise\u001b[0m \u001b[0mValueError\u001b[0m\u001b[1;33m(\u001b[0m\u001b[1;34m\"%s should be preceded by LOAD_CONST\"\u001b[0m\u001b[1;33m%\u001b[0m\u001b[0mop\u001b[0m\u001b[1;33m)\u001b[0m\u001b[1;33m\u001b[0m\u001b[0m\n\u001b[0;32m    150\u001b[0m \u001b[1;33m\u001b[0m\u001b[0m\n\u001b[1;32m--> 151\u001b[1;33m                                 \u001b[0mcode\u001b[0m\u001b[1;33m[\u001b[0m\u001b[1;33m-\u001b[0m\u001b[1;36m1\u001b[0m\u001b[1;33m]\u001b[0m\u001b[1;33m=\u001b[0m\u001b[1;33m(\u001b[0m\u001b[0mLOAD_CONST\u001b[0m\u001b[1;33m,\u001b[0m\u001b[0mCode\u001b[0m\u001b[1;33m.\u001b[0m\u001b[0mfrom_code\u001b[0m\u001b[1;33m(\u001b[0m\u001b[0mlastarg\u001b[0m\u001b[1;33m)\u001b[0m\u001b[1;33m)\u001b[0m\u001b[1;33m\u001b[0m\u001b[0m\n\u001b[0m\u001b[0;32m    152\u001b[0m                         \u001b[1;32mif\u001b[0m \u001b[0mop\u001b[0m \u001b[1;32mnot\u001b[0m \u001b[1;32min\u001b[0m \u001b[0mhasarg\u001b[0m\u001b[1;33m:\u001b[0m\u001b[0mcode\u001b[0m\u001b[1;33m.\u001b[0m\u001b[0mappend\u001b[0m\u001b[1;33m(\u001b[0m\u001b[1;33m(\u001b[0m\u001b[0mop\u001b[0m\u001b[1;33m,\u001b[0m \u001b[1;32mNone\u001b[0m\u001b[1;33m)\u001b[0m\u001b[1;33m)\u001b[0m\u001b[1;33m\u001b[0m\u001b[0m\n\u001b[0;32m    153\u001b[0m                         \u001b[1;32melse\u001b[0m\u001b[1;33m:\u001b[0m\u001b[1;33m\u001b[0m\u001b[0m\n",
      "\u001b[1;32m/home/daniela/git/rootpy/rootpy/extern/byteplay3.py\u001b[0m in \u001b[0;36mfrom_code\u001b[1;34m(cls, co)\u001b[0m\n\u001b[0;32m    133\u001b[0m                 \u001b[0mprint\u001b[0m\u001b[1;33m(\u001b[0m\u001b[1;34m\"DEBUG\"\u001b[0m\u001b[1;33m,\u001b[0m \u001b[0mtype\u001b[0m\u001b[1;33m(\u001b[0m\u001b[0mco\u001b[0m\u001b[1;33m)\u001b[0m\u001b[1;33m)\u001b[0m\u001b[1;33m\u001b[0m\u001b[0m\n\u001b[0;32m    134\u001b[0m                 \u001b[0mprint\u001b[0m\u001b[1;33m(\u001b[0m\u001b[1;34m\"DEBUG\"\u001b[0m\u001b[1;33m,\u001b[0m \u001b[0mco\u001b[0m\u001b[1;33m)\u001b[0m\u001b[1;33m\u001b[0m\u001b[0m\n\u001b[1;32m--> 135\u001b[1;33m                 \u001b[0mco_code\u001b[0m\u001b[1;33m=\u001b[0m\u001b[0mco\u001b[0m\u001b[1;33m.\u001b[0m\u001b[0mco_code\u001b[0m\u001b[1;33m\u001b[0m\u001b[0m\n\u001b[0m\u001b[0;32m    136\u001b[0m                 \u001b[0mlabels\u001b[0m\u001b[1;33m=\u001b[0m\u001b[1;33m{\u001b[0m\u001b[0maddr\u001b[0m\u001b[1;33m:\u001b[0m\u001b[0mLabel\u001b[0m\u001b[1;33m(\u001b[0m\u001b[1;33m)\u001b[0m \u001b[1;32mfor\u001b[0m \u001b[0maddr\u001b[0m \u001b[1;32min\u001b[0m \u001b[0mfindlabels\u001b[0m\u001b[1;33m(\u001b[0m\u001b[0mco_code\u001b[0m\u001b[1;33m)\u001b[0m\u001b[1;33m}\u001b[0m\u001b[1;33m\u001b[0m\u001b[0m\n\u001b[0;32m    137\u001b[0m                 \u001b[0mlinestarts\u001b[0m\u001b[1;33m=\u001b[0m\u001b[0mdict\u001b[0m\u001b[1;33m(\u001b[0m\u001b[0mcls\u001b[0m\u001b[1;33m.\u001b[0m\u001b[0m_findlinestarts\u001b[0m\u001b[1;33m(\u001b[0m\u001b[0mco\u001b[0m\u001b[1;33m)\u001b[0m\u001b[1;33m)\u001b[0m\u001b[1;33m\u001b[0m\u001b[0m\n",
      "\u001b[1;31mAttributeError\u001b[0m: 'str' object has no attribute 'co_code'"
     ]
    }
   ],
   "source": [
    "d = Code.from_code(wrap.__code__)"
   ]
  },
  {
   "cell_type": "code",
   "execution_count": 100,
   "metadata": {
    "collapsed": false
   },
   "outputs": [
    {
     "data": {
      "text/plain": [
       "{MAKE_FUNCTION, MAKE_CLOSURE}"
      ]
     },
     "execution_count": 100,
     "metadata": {},
     "output_type": "execute_result"
    }
   ],
   "source": [
    "hascode"
   ]
  },
  {
   "cell_type": "code",
   "execution_count": 101,
   "metadata": {
    "collapsed": false
   },
   "outputs": [],
   "source": [
    "import dis"
   ]
  },
  {
   "cell_type": "code",
   "execution_count": 102,
   "metadata": {
    "collapsed": false
   },
   "outputs": [
    {
     "name": "stdout",
     "output_type": "stream",
     "text": [
      "  2           0 LOAD_GLOBAL              0 (print)\n",
      "              3 LOAD_FAST                0 (a)\n",
      "              6 LOAD_FAST                1 (b)\n",
      "              9 CALL_FUNCTION            2 (2 positional, 0 keyword pair)\n",
      "             12 POP_TOP\n",
      "             13 LOAD_CONST               0 (None)\n",
      "             16 RETURN_VALUE\n"
     ]
    }
   ],
   "source": [
    "dis.dis(f)"
   ]
  },
  {
   "cell_type": "code",
   "execution_count": 103,
   "metadata": {
    "collapsed": false
   },
   "outputs": [
    {
     "name": "stdout",
     "output_type": "stream",
     "text": [
      "  2           0 LOAD_CONST               1 (1)\n",
      "              3 STORE_DEREF              0 (a)\n",
      "\n",
      "  3           6 LOAD_CLOSURE             0 (a)\n",
      "              9 BUILD_TUPLE              1\n",
      "             12 LOAD_CONST               2 (<code object outer at 0x7f2e9128fd20, file \"<ipython-input-96-f0f19e9dfcf6>\", line 3>)\n",
      "             15 LOAD_CONST               3 ('wrap.<locals>.outer')\n",
      "             18 MAKE_CLOSURE             0\n",
      "             21 STORE_FAST               0 (outer)\n",
      "\n",
      "  9          24 LOAD_FAST                0 (outer)\n",
      "             27 RETURN_VALUE\n"
     ]
    }
   ],
   "source": [
    "dis.dis(wrap)"
   ]
  },
  {
   "cell_type": "code",
   "execution_count": 104,
   "metadata": {
    "collapsed": false
   },
   "outputs": [
    {
     "name": "stdout",
     "output_type": "stream",
     "text": [
      "  4           0 LOAD_DEREF               3 (a)\n",
      "              3 STORE_DEREF              1 (y)\n",
      "\n",
      "  5           6 LOAD_CONST               1 (2)\n",
      "              9 STORE_DEREF              2 (z)\n",
      "\n",
      "  6          12 LOAD_CLOSURE             0 (VALUE)\n",
      "             15 LOAD_CLOSURE             3 (a)\n",
      "             18 LOAD_CLOSURE             1 (y)\n",
      "             21 LOAD_CLOSURE             2 (z)\n",
      "             24 BUILD_TUPLE              4\n",
      "             27 LOAD_CONST               2 (<code object inner at 0x7f2e9128fe40, file \"<ipython-input-96-f0f19e9dfcf6>\", line 6>)\n",
      "             30 LOAD_CONST               3 ('wrap.<locals>.outer.<locals>.inner')\n",
      "             33 MAKE_CLOSURE             0\n",
      "             36 STORE_FAST               1 (inner)\n",
      "\n",
      "  8          39 LOAD_FAST                1 (inner)\n",
      "             42 RETURN_VALUE\n"
     ]
    }
   ],
   "source": [
    "dis.dis(wrap.__code__.co_consts[2])"
   ]
  },
  {
   "cell_type": "code",
   "execution_count": null,
   "metadata": {
    "collapsed": true
   },
   "outputs": [],
   "source": []
  }
 ],
 "metadata": {
  "kernelspec": {
   "display_name": "Python 3",
   "language": "python",
   "name": "python3"
  },
  "language_info": {
   "codemirror_mode": {
    "name": "ipython",
    "version": 3
   },
   "file_extension": ".py",
   "mimetype": "text/x-python",
   "name": "python",
   "nbconvert_exporter": "python",
   "pygments_lexer": "ipython3",
   "version": "3.4.0"
  }
 },
 "nbformat": 4,
 "nbformat_minor": 0
}
