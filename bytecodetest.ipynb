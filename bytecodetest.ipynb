{
 "cells": [
  {
   "cell_type": "code",
   "execution_count": 119,
   "metadata": {
    "collapsed": true
   },
   "outputs": [],
   "source": [
    "import rootpy"
   ]
  },
  {
   "cell_type": "code",
   "execution_count": 120,
   "metadata": {
    "collapsed": true
   },
   "outputs": [],
   "source": [
    "from rootpy.extern import byteplay"
   ]
  },
  {
   "cell_type": "code",
   "execution_count": 121,
   "metadata": {
    "collapsed": true
   },
   "outputs": [],
   "source": [
    "from rootpy.extern.byteplay import *"
   ]
  },
  {
   "cell_type": "code",
   "execution_count": 130,
   "metadata": {
    "collapsed": true
   },
   "outputs": [],
   "source": [
    "def f(a, b):\n",
    "    print (a, b)\n",
    "    \n",
    "    "
   ]
  },
  {
   "cell_type": "code",
   "execution_count": 131,
   "metadata": {
    "collapsed": false
   },
   "outputs": [
    {
     "data": {
      "text/plain": [
       "<code object f at 0x7f0410fcac30, file \"<ipython-input-130-a3ff1c741a6f>\", line 1>"
      ]
     },
     "execution_count": 131,
     "metadata": {},
     "output_type": "execute_result"
    }
   ],
   "source": [
    "f.__code__"
   ]
  },
  {
   "cell_type": "code",
   "execution_count": 132,
   "metadata": {
    "collapsed": true
   },
   "outputs": [],
   "source": [
    "c = Code.from_code(f.__code__)"
   ]
  },
  {
   "cell_type": "code",
   "execution_count": 133,
   "metadata": {
    "collapsed": true
   },
   "outputs": [],
   "source": [
    "from pprint import pprint"
   ]
  },
  {
   "cell_type": "code",
   "execution_count": 134,
   "metadata": {
    "collapsed": false
   },
   "outputs": [
    {
     "name": "stdout",
     "output_type": "stream",
     "text": [
      "[(SetLineno, 2),\n",
      " (LOAD_FAST, 'a'),\n",
      " (LOAD_FAST, 'b'),\n",
      " (BUILD_TUPLE, 2),\n",
      " (PRINT_ITEM, None),\n",
      " (PRINT_NEWLINE, None),\n",
      " (LOAD_CONST, None),\n",
      " (RETURN_VALUE, None)]\n"
     ]
    }
   ],
   "source": [
    "pprint(c.code)"
   ]
  },
  {
   "cell_type": "code",
   "execution_count": 136,
   "metadata": {
    "collapsed": false
   },
   "outputs": [
    {
     "name": "stdout",
     "output_type": "stream",
     "text": [
      "\n",
      "  2           1 LOAD_FAST            a\n",
      "              2 LOAD_FAST            b\n",
      "              3 BUILD_TUPLE          2\n",
      "              4 PRINT_ITEM           \n",
      "              5 PRINT_NEWLINE        \n",
      "              6 LOAD_CONST           None\n",
      "              7 RETURN_VALUE         \n",
      "\n"
     ]
    }
   ],
   "source": [
    "print(c.code)"
   ]
  },
  {
   "cell_type": "code",
   "execution_count": 142,
   "metadata": {
    "collapsed": true
   },
   "outputs": [],
   "source": [
    "global nonexist\n",
    "nonexist = 999"
   ]
  },
  {
   "cell_type": "code",
   "execution_count": 143,
   "metadata": {
    "collapsed": true
   },
   "outputs": [],
   "source": [
    "def wrap():\n",
    "    a = 1\n",
    "    def outer(VALUE):\n",
    "        y = a\n",
    "        z = 2\n",
    "        def inner(x):\n",
    "            return a, x, y, z, VALUE, ANOTHER, nonexist\n",
    "        return inner\n",
    "    return outer\n"
   ]
  },
  {
   "cell_type": "code",
   "execution_count": 144,
   "metadata": {
    "collapsed": false
   },
   "outputs": [
    {
     "data": {
      "text/plain": [
       "(1, 2, 1, 2, 1, 42, 999)"
      ]
     },
     "execution_count": 144,
     "metadata": {},
     "output_type": "execute_result"
    }
   ],
   "source": [
    "wrap()(1)(2)"
   ]
  },
  {
   "cell_type": "code",
   "execution_count": 146,
   "metadata": {
    "collapsed": false
   },
   "outputs": [
    {
     "data": {
      "text/plain": [
       "<code object wrap at 0x7f0410f45cb0, file \"<ipython-input-143-f0f19e9dfcf6>\", line 1>"
      ]
     },
     "execution_count": 146,
     "metadata": {},
     "output_type": "execute_result"
    }
   ],
   "source": [
    "wrap.__code__"
   ]
  },
  {
   "cell_type": "code",
   "execution_count": 147,
   "metadata": {
    "collapsed": false
   },
   "outputs": [
    {
     "data": {
      "text/plain": [
       "<code object wrap at 0x7f0410f45cb0, file \"<ipython-input-143-f0f19e9dfcf6>\", line 1>"
      ]
     },
     "execution_count": 147,
     "metadata": {},
     "output_type": "execute_result"
    }
   ],
   "source": [
    "wrap.func_code"
   ]
  },
  {
   "cell_type": "code",
   "execution_count": 148,
   "metadata": {
    "collapsed": false
   },
   "outputs": [],
   "source": [
    "d = Code.from_code(wrap.__code__)"
   ]
  },
  {
   "cell_type": "code",
   "execution_count": 149,
   "metadata": {
    "collapsed": false
   },
   "outputs": [
    {
     "data": {
      "text/plain": [
       "<rootpy.extern.byteplay.Code at 0x7f0410ba47d0>"
      ]
     },
     "execution_count": 149,
     "metadata": {},
     "output_type": "execute_result"
    }
   ],
   "source": [
    "d"
   ]
  },
  {
   "cell_type": "code",
   "execution_count": 156,
   "metadata": {
    "collapsed": false
   },
   "outputs": [
    {
     "name": "stdout",
     "output_type": "stream",
     "text": [
      "\n",
      "  2           1 LOAD_CONST           1\n",
      "              2 STORE_DEREF          a\n",
      "\n",
      "  3           4 LOAD_CLOSURE         a\n",
      "              5 BUILD_TUPLE          1\n",
      "              6 LOAD_CONST           <rootpy.extern.byteplay.Code object at 0x7f0410ba41d0>\n",
      "              7 MAKE_CLOSURE         0\n",
      "              8 STORE_FAST           outer\n",
      "\n",
      "  9          10 LOAD_FAST            outer\n",
      "             11 RETURN_VALUE         \n",
      "\n"
     ]
    }
   ],
   "source": [
    "print(d.code)"
   ]
  },
  {
   "cell_type": "code",
   "execution_count": 157,
   "metadata": {
    "collapsed": false
   },
   "outputs": [
    {
     "data": {
      "text/plain": [
       "{MAKE_FUNCTION, MAKE_CLOSURE}"
      ]
     },
     "execution_count": 157,
     "metadata": {},
     "output_type": "execute_result"
    }
   ],
   "source": [
    "hascode"
   ]
  },
  {
   "cell_type": "code",
   "execution_count": 159,
   "metadata": {
    "collapsed": false
   },
   "outputs": [
    {
     "name": "stdout",
     "output_type": "stream",
     "text": [
      "  2           0 LOAD_CONST               1 (1)\n",
      "              3 STORE_DEREF              0 (a)\n",
      "\n",
      "  3           6 LOAD_CLOSURE             0 (a)\n",
      "              9 BUILD_TUPLE              1\n",
      "             12 LOAD_CONST               2 (<code object outer at 0x7f0410f908b0, file \"<ipython-input-143-f0f19e9dfcf6>\", line 3>)\n",
      "             15 MAKE_CLOSURE             0\n",
      "             18 STORE_FAST               0 (outer)\n",
      "\n",
      "  9          21 LOAD_FAST                0 (outer)\n",
      "             24 RETURN_VALUE        \n"
     ]
    }
   ],
   "source": [
    "import dis\n",
    "dis.dis(wrap)"
   ]
  },
  {
   "cell_type": "code",
   "execution_count": 167,
   "metadata": {
    "collapsed": false
   },
   "outputs": [
    {
     "name": "stdout",
     "output_type": "stream",
     "text": [
      "  4           0 LOAD_DEREF               3 (a)\n",
      "              3 STORE_DEREF              1 (y)\n",
      "\n",
      "  5           6 LOAD_CONST               1 (2)\n",
      "              9 STORE_DEREF              2 (z)\n",
      "\n",
      "  6          12 LOAD_CLOSURE             0 (VALUE)\n",
      "             15 LOAD_CLOSURE             3 (a)\n",
      "             18 LOAD_CLOSURE             1 (y)\n",
      "             21 LOAD_CLOSURE             2 (z)\n",
      "             24 BUILD_TUPLE              4\n",
      "             27 LOAD_CONST               2 (<code object inner at 0x7f0410f38db0, file \"<ipython-input-143-f0f19e9dfcf6>\", line 6>)\n",
      "             30 MAKE_CLOSURE             0\n",
      "             33 STORE_FAST               1 (inner)\n",
      "\n",
      "  8          36 LOAD_FAST                1 (inner)\n",
      "             39 RETURN_VALUE        \n"
     ]
    }
   ],
   "source": [
    "dis.dis(wrap.__code__.co_consts[2])"
   ]
  },
  {
   "cell_type": "code",
   "execution_count": null,
   "metadata": {
    "collapsed": true
   },
   "outputs": [],
   "source": []
  }
 ],
 "metadata": {
  "kernelspec": {
   "display_name": "Python 2",
   "language": "python",
   "name": "python2"
  },
  "language_info": {
   "codemirror_mode": {
    "name": "ipython",
    "version": 2
   },
   "file_extension": ".py",
   "mimetype": "text/x-python",
   "name": "python",
   "nbconvert_exporter": "python",
   "pygments_lexer": "ipython2",
   "version": "2.7.6"
  }
 },
 "nbformat": 4,
 "nbformat_minor": 0
}
